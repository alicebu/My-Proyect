{
  "nbformat": 4,
  "nbformat_minor": 0,
  "metadata": {
    "colab": {
      "name": "My proyect.ipynb",
      "provenance": [],
      "collapsed_sections": [],
      "authorship_tag": "ABX9TyNH9ACxuzw0vh7YW4pNTXjG",
      "include_colab_link": true
    },
    "kernelspec": {
      "name": "python3",
      "display_name": "Python 3"
    },
    "language_info": {
      "name": "python"
    }
  },
  "cells": [
    {
      "cell_type": "markdown",
      "metadata": {
        "id": "view-in-github",
        "colab_type": "text"
      },
      "source": [
        "<a href=\"https://colab.research.google.com/github/alicebu/My-Proyect/blob/main/My_proyect.ipynb\" target=\"_parent\"><img src=\"https://colab.research.google.com/assets/colab-badge.svg\" alt=\"Open In Colab\"/></a>"
      ]
    },
    {
      "cell_type": "code",
      "execution_count": null,
      "metadata": {
        "id": "VFqZU2G5SxpG"
      },
      "outputs": [],
      "source": [
        ""
      ]
    },
    {
      "cell_type": "markdown",
      "source": [
        "# Heading level 1\n",
        " \n",
        "\n",
        "\n"
      ],
      "metadata": {
        "id": "wc6QZL5AUxtE"
      }
    },
    {
      "cell_type": "markdown",
      "source": [
        "## Heading level 2"
      ],
      "metadata": {
        "id": "erpKuU7dXS3q"
      }
    },
    {
      "cell_type": "markdown",
      "source": [
        "#Text Formating\n",
        "\n",
        "BOLD\n",
        "\n",
        "**CAR**"
      ],
      "metadata": {
        "id": "fc5Up4OGXjOa"
      }
    },
    {
      "cell_type": "markdown",
      "source": [
        "##Italics"
      ],
      "metadata": {
        "id": "sprwbM5ROxnP"
      }
    },
    {
      "cell_type": "markdown",
      "source": [
        "##Combine Bold and Italics"
      ],
      "metadata": {
        "id": "_wYILdvcPQxC"
      }
    },
    {
      "cell_type": "markdown",
      "source": [
        "##Uederline"
      ],
      "metadata": {
        "id": "OMc0L2s6PYDm"
      }
    },
    {
      "cell_type": "markdown",
      "source": [
        "#List"
      ],
      "metadata": {
        "id": "hb-Vcp6SPeb2"
      }
    },
    {
      "cell_type": "markdown",
      "source": [
        "##Unordered list\n",
        "\n",
        "**grocery list:**\n",
        "\n",
        "* rice\n",
        "\n",
        "* milk\n",
        "\n",
        "* eggs\n",
        "\n",
        "* coffe\n",
        "\n",
        " \n",
        "\n",
        "\n"
      ],
      "metadata": {
        "id": "VUiuZUy1PibP"
      }
    },
    {
      "cell_type": "markdown",
      "source": [
        "## Ordered list\n",
        "\n",
        "**table Contents**\n",
        "\n",
        "1. Introduction\n",
        "\n",
        "2. Abstract\n",
        "\n",
        "3. Results\n",
        "\n"
      ],
      "metadata": {
        "id": "lAFWBQ9dP8z4"
      }
    },
    {
      "cell_type": "markdown",
      "source": [
        "##Nested list\n",
        "\n",
        "A nested a list "
      ],
      "metadata": {
        "id": "wooDgm_DRKpq"
      }
    },
    {
      "cell_type": "markdown",
      "source": [
        "# Sección nueva"
      ],
      "metadata": {
        "id": "jKg_UWHrOyq7"
      }
    },
    {
      "cell_type": "markdown",
      "source": [
        "# Example\n",
        "##scientific notation\n",
        "\n"
      ],
      "metadata": {
        "id": "UKa55_V8I8Be"
      }
    },
    {
      "cell_type": "code",
      "source": [
        "1.52e2\n"
      ],
      "metadata": {
        "colab": {
          "base_uri": "https://localhost:8080/"
        },
        "id": "gYbzASugJbqH",
        "outputId": "1d1c9786-bbfb-472c-8e10-39de6f39c36e"
      },
      "execution_count": null,
      "outputs": [
        {
          "output_type": "execute_result",
          "data": {
            "text/plain": [
              "152.0"
            ]
          },
          "metadata": {},
          "execution_count": 1
        }
      ]
    },
    {
      "cell_type": "markdown",
      "source": [
        "# what happen if you to represent 0.25 with scientific notation\n"
      ],
      "metadata": {
        "id": "AnkQA1ILJhIW"
      }
    },
    {
      "cell_type": "code",
      "source": [
        "0.025e1"
      ],
      "metadata": {
        "colab": {
          "base_uri": "https://localhost:8080/"
        },
        "id": "uE1-IN5eJtNW",
        "outputId": "eac496c4-6416-40aa-9c48-893c8bc83ae8"
      },
      "execution_count": null,
      "outputs": [
        {
          "output_type": "execute_result",
          "data": {
            "text/plain": [
              "0.25"
            ]
          },
          "metadata": {},
          "execution_count": 2
        }
      ]
    },
    {
      "cell_type": "code",
      "source": [
        "2.5e-1"
      ],
      "metadata": {
        "colab": {
          "base_uri": "https://localhost:8080/"
        },
        "id": "LYQq2FC-KO8e",
        "outputId": "8cbfecae-eb45-4b2d-9abd-3280713b1267"
      },
      "execution_count": null,
      "outputs": [
        {
          "output_type": "execute_result",
          "data": {
            "text/plain": [
              "0.25"
            ]
          },
          "metadata": {},
          "execution_count": 3
        }
      ]
    },
    {
      "cell_type": "markdown",
      "source": [
        "# example \n",
        "1.5e0.5"
      ],
      "metadata": {
        "id": "7DH33TFFLWr9"
      }
    },
    {
      "cell_type": "code",
      "source": [
        "1.5e5"
      ],
      "metadata": {
        "colab": {
          "base_uri": "https://localhost:8080/"
        },
        "id": "gMhGm7OsLVNu",
        "outputId": "e5c8172a-be41-4c0f-ed0f-07eff83a241e"
      },
      "execution_count": null,
      "outputs": [
        {
          "output_type": "execute_result",
          "data": {
            "text/plain": [
              "150000.0"
            ]
          },
          "metadata": {},
          "execution_count": 9
        }
      ]
    },
    {
      "cell_type": "markdown",
      "source": [
        "### **Transformation**\n",
        "\n",
        "\n",
        "\n",
        "\n",
        "```\n",
        "# Tiene formato de código\n",
        "```\n",
        "\n"
      ],
      "metadata": {
        "id": "UkrUm4mJM9M7"
      }
    },
    {
      "cell_type": "code",
      "source": [
        "# Examplr int to float\n",
        "float(5)"
      ],
      "metadata": {
        "colab": {
          "base_uri": "https://localhost:8080/"
        },
        "id": "eC7t-a5LMBcd",
        "outputId": "dcc210a4-9366-4d7d-ed7f-4d5c5fd1ef58"
      },
      "execution_count": null,
      "outputs": [
        {
          "output_type": "execute_result",
          "data": {
            "text/plain": [
              "5.0"
            ]
          },
          "metadata": {},
          "execution_count": 10
        }
      ]
    },
    {
      "cell_type": "code",
      "source": [
        "# Examole float to int\n",
        "int(7.25)"
      ],
      "metadata": {
        "colab": {
          "base_uri": "https://localhost:8080/"
        },
        "id": "mv849k0aNZzK",
        "outputId": "4fcda3fd-1e04-4da4-c65e-b0d022e31330"
      },
      "execution_count": null,
      "outputs": [
        {
          "output_type": "execute_result",
          "data": {
            "text/plain": [
              "7"
            ]
          },
          "metadata": {},
          "execution_count": 11
        }
      ]
    },
    {
      "cell_type": "markdown",
      "source": [
        "## 3.4. Basic function\n",
        "\n"
      ],
      "metadata": {
        "id": "-Lg6kyvaNyqa"
      }
    },
    {
      "cell_type": "markdown",
      "source": [
        "###**print**\n",
        "\n"
      ],
      "metadata": {
        "id": "oSFx5chJOMrC"
      }
    },
    {
      "cell_type": "code",
      "source": [
        "# Number Example\n",
        "print(2022,8,11)"
      ],
      "metadata": {
        "colab": {
          "base_uri": "https://localhost:8080/"
        },
        "id": "kkwolbIJNxFb",
        "outputId": "9db60ddb-ac13-4447-fa9a-b5b3d94bdf07"
      },
      "execution_count": null,
      "outputs": [
        {
          "output_type": "stream",
          "name": "stdout",
          "text": [
            "2022 8 11\n"
          ]
        }
      ]
    },
    {
      "cell_type": "code",
      "source": [
        "# Strin (alphabet) Example \n",
        "print('rodrigo')"
      ],
      "metadata": {
        "colab": {
          "base_uri": "https://localhost:8080/"
        },
        "id": "S37eMWZcPLyT",
        "outputId": "faf7de04-0e10-4846-8998-a3d5ce35c210"
      },
      "execution_count": null,
      "outputs": [
        {
          "output_type": "stream",
          "name": "stdout",
          "text": [
            "rodrigo\n"
          ]
        }
      ]
    },
    {
      "cell_type": "code",
      "source": [
        "# More complicated examples\n",
        "print('First Name: Quintero','Last Name: Bulla')\n",
        "print('First Name: Quintero\\tLast Name: Bulla')\n",
        "print('First Name: Quintero\\nLast Name: Bulla')"
      ],
      "metadata": {
        "colab": {
          "base_uri": "https://localhost:8080/"
        },
        "id": "u3QLd_pPQLM7",
        "outputId": "4260866b-fb09-45a3-8e2f-96a8bf2254de"
      },
      "execution_count": null,
      "outputs": [
        {
          "output_type": "stream",
          "name": "stdout",
          "text": [
            "First Name: Quintero Last Name: Bulla\n",
            "First Name: Quintero\tLast Name: Bulla\n",
            "First Name: Quintero\n",
            "Last Name: Bulla\n"
          ]
        }
      ]
    },
    {
      "cell_type": "code",
      "source": [
        "# More complicated number example\n",
        "for i in range(0,10): print(i)\n"
      ],
      "metadata": {
        "colab": {
          "base_uri": "https://localhost:8080/"
        },
        "id": "jU1my_ocSESV",
        "outputId": "d751a6e5-b35b-44cc-9899-9bdb4afe2613"
      },
      "execution_count": null,
      "outputs": [
        {
          "output_type": "stream",
          "name": "stdout",
          "text": [
            "0\n",
            "1\n",
            "2\n",
            "3\n",
            "4\n",
            "5\n",
            "6\n",
            "7\n",
            "8\n",
            "9\n"
          ]
        }
      ]
    },
    {
      "cell_type": "code",
      "source": [
        "# Combine string and numbers\n",
        "print('My favorite number is:' ,3,'yes')"
      ],
      "metadata": {
        "colab": {
          "base_uri": "https://localhost:8080/"
        },
        "id": "rFQQLCNgTKmd",
        "outputId": "b7a81f49-21b7-443d-e198-2d74f499205e"
      },
      "execution_count": null,
      "outputs": [
        {
          "output_type": "stream",
          "name": "stdout",
          "text": [
            "My favorite number is: 3 yes\n"
          ]
        }
      ]
    },
    {
      "cell_type": "code",
      "source": [
        "# A simple example\n",
        "round(1.253,2)"
      ],
      "metadata": {
        "colab": {
          "base_uri": "https://localhost:8080/"
        },
        "id": "i0fuTD7oT52G",
        "outputId": "9f42d04a-a25a-4ade-8363-0ae278734051"
      },
      "execution_count": null,
      "outputs": [
        {
          "output_type": "execute_result",
          "data": {
            "text/plain": [
              "1.25"
            ]
          },
          "metadata": {},
          "execution_count": 26
        }
      ]
    },
    {
      "cell_type": "code",
      "source": [
        "# Time to practique\n",
        "# Consider the number 7.2354\n",
        "# Print every result for rounding from 3 to 0 positions\n",
        "print('Round with', 0, 'decimals', round(7.2345,0))\n",
        "print('Round with', 1, 'decimals', round(7.2345,1))\n",
        "print('Round with', 2, 'decimals', round(7.2345,2))\n",
        "print('Round with', 3, 'decimals', round(7.2345,3))\n"
      ],
      "metadata": {
        "colab": {
          "base_uri": "https://localhost:8080/"
        },
        "id": "qrP_v0XAUHva",
        "outputId": "c8af0626-877f-4189-d3ec-b7297e8d56af"
      },
      "execution_count": null,
      "outputs": [
        {
          "output_type": "stream",
          "name": "stdout",
          "text": [
            "Round with 0 decimals 7.0\n",
            "Round with 1 decimals 7.2\n",
            "Round with 2 decimals 7.23\n",
            "Round with 3 decimals 7.234\n"
          ]
        }
      ]
    },
    {
      "cell_type": "code",
      "source": [
        "# If we for loops\n",
        "for i in range(0,4): print('Round with', i, 'decimals', round(7.2345,i))"
      ],
      "metadata": {
        "colab": {
          "base_uri": "https://localhost:8080/"
        },
        "id": "nGac57qnYx36",
        "outputId": "f7105cd2-8462-4c1d-b4c3-541bea5c60f7"
      },
      "execution_count": null,
      "outputs": [
        {
          "output_type": "stream",
          "name": "stdout",
          "text": [
            "Round with 0 decimals 7.0\n",
            "Round with 1 decimals 7.2\n",
            "Round with 2 decimals 7.23\n",
            "Round with 3 decimals 7.234\n"
          ]
        }
      ]
    },
    {
      "cell_type": "code",
      "source": [
        "# practice \n",
        "# Print the first 100 multiplies of the number the 2\n",
        "for i in range(1,100): print('multiplique of' , i, ':',  (2*i))\n"
      ],
      "metadata": {
        "colab": {
          "base_uri": "https://localhost:8080/"
        },
        "id": "gFNH1PfoZZnx",
        "outputId": "2897de7b-a910-4566-aad7-58ac93853c5a"
      },
      "execution_count": null,
      "outputs": [
        {
          "output_type": "stream",
          "name": "stdout",
          "text": [
            "multiplique of 1 : 2\n",
            "multiplique of 2 : 4\n",
            "multiplique of 3 : 6\n",
            "multiplique of 4 : 8\n",
            "multiplique of 5 : 10\n",
            "multiplique of 6 : 12\n",
            "multiplique of 7 : 14\n",
            "multiplique of 8 : 16\n",
            "multiplique of 9 : 18\n",
            "multiplique of 10 : 20\n",
            "multiplique of 11 : 22\n",
            "multiplique of 12 : 24\n",
            "multiplique of 13 : 26\n",
            "multiplique of 14 : 28\n",
            "multiplique of 15 : 30\n",
            "multiplique of 16 : 32\n",
            "multiplique of 17 : 34\n",
            "multiplique of 18 : 36\n",
            "multiplique of 19 : 38\n",
            "multiplique of 20 : 40\n",
            "multiplique of 21 : 42\n",
            "multiplique of 22 : 44\n",
            "multiplique of 23 : 46\n",
            "multiplique of 24 : 48\n",
            "multiplique of 25 : 50\n",
            "multiplique of 26 : 52\n",
            "multiplique of 27 : 54\n",
            "multiplique of 28 : 56\n",
            "multiplique of 29 : 58\n",
            "multiplique of 30 : 60\n",
            "multiplique of 31 : 62\n",
            "multiplique of 32 : 64\n",
            "multiplique of 33 : 66\n",
            "multiplique of 34 : 68\n",
            "multiplique of 35 : 70\n",
            "multiplique of 36 : 72\n",
            "multiplique of 37 : 74\n",
            "multiplique of 38 : 76\n",
            "multiplique of 39 : 78\n",
            "multiplique of 40 : 80\n",
            "multiplique of 41 : 82\n",
            "multiplique of 42 : 84\n",
            "multiplique of 43 : 86\n",
            "multiplique of 44 : 88\n",
            "multiplique of 45 : 90\n",
            "multiplique of 46 : 92\n",
            "multiplique of 47 : 94\n",
            "multiplique of 48 : 96\n",
            "multiplique of 49 : 98\n",
            "multiplique of 50 : 100\n",
            "multiplique of 51 : 102\n",
            "multiplique of 52 : 104\n",
            "multiplique of 53 : 106\n",
            "multiplique of 54 : 108\n",
            "multiplique of 55 : 110\n",
            "multiplique of 56 : 112\n",
            "multiplique of 57 : 114\n",
            "multiplique of 58 : 116\n",
            "multiplique of 59 : 118\n",
            "multiplique of 60 : 120\n",
            "multiplique of 61 : 122\n",
            "multiplique of 62 : 124\n",
            "multiplique of 63 : 126\n",
            "multiplique of 64 : 128\n",
            "multiplique of 65 : 130\n",
            "multiplique of 66 : 132\n",
            "multiplique of 67 : 134\n",
            "multiplique of 68 : 136\n",
            "multiplique of 69 : 138\n",
            "multiplique of 70 : 140\n",
            "multiplique of 71 : 142\n",
            "multiplique of 72 : 144\n",
            "multiplique of 73 : 146\n",
            "multiplique of 74 : 148\n",
            "multiplique of 75 : 150\n",
            "multiplique of 76 : 152\n",
            "multiplique of 77 : 154\n",
            "multiplique of 78 : 156\n",
            "multiplique of 79 : 158\n",
            "multiplique of 80 : 160\n",
            "multiplique of 81 : 162\n",
            "multiplique of 82 : 164\n",
            "multiplique of 83 : 166\n",
            "multiplique of 84 : 168\n",
            "multiplique of 85 : 170\n",
            "multiplique of 86 : 172\n",
            "multiplique of 87 : 174\n",
            "multiplique of 88 : 176\n",
            "multiplique of 89 : 178\n",
            "multiplique of 90 : 180\n",
            "multiplique of 91 : 182\n",
            "multiplique of 92 : 184\n",
            "multiplique of 93 : 186\n",
            "multiplique of 94 : 188\n",
            "multiplique of 95 : 190\n",
            "multiplique of 96 : 192\n",
            "multiplique of 97 : 194\n",
            "multiplique of 98 : 196\n",
            "multiplique of 99 : 198\n"
          ]
        }
      ]
    },
    {
      "cell_type": "markdown",
      "source": [
        "##Absolute value"
      ],
      "metadata": {
        "id": "GH9_TQceN_AG"
      }
    },
    {
      "cell_type": "code",
      "source": [
        "# EXAMPLE used in data analitycs\n",
        "abs(-25)"
      ],
      "metadata": {
        "colab": {
          "base_uri": "https://localhost:8080/"
        },
        "id": "2SD27k_aOB3s",
        "outputId": "5bebfbc3-0303-4c27-d141-7e53e8695251"
      },
      "execution_count": null,
      "outputs": [
        {
          "output_type": "execute_result",
          "data": {
            "text/plain": [
              "25"
            ]
          },
          "metadata": {},
          "execution_count": 1
        }
      ]
    },
    {
      "cell_type": "code",
      "source": [
        "# Loops with variables\n",
        "\n",
        "x = 7.2345\n",
        "\n",
        "for i in range(0,4): print('Round with', i, 'decimals', round(x,i))"
      ],
      "metadata": {
        "colab": {
          "base_uri": "https://localhost:8080/"
        },
        "id": "OFtZxc1TTbNm",
        "outputId": "058c2f4f-9f6e-4aa7-f722-d74322d161c6"
      },
      "execution_count": null,
      "outputs": [
        {
          "output_type": "stream",
          "name": "stdout",
          "text": [
            "Round with 0 decimals 7.0\n",
            "Round with 1 decimals 7.2\n",
            "Round with 2 decimals 7.23\n",
            "Round with 3 decimals 7.234\n"
          ]
        }
      ]
    },
    {
      "cell_type": "code",
      "source": [
        "# practice \n",
        "# Loops with variables - #2\n",
        "\n",
        "w = 2\n",
        "\n",
        "for i in range(1,100): print('multiplique of' , i, ':',  (w*i))"
      ],
      "metadata": {
        "colab": {
          "base_uri": "https://localhost:8080/"
        },
        "id": "eqyEOroKURj3",
        "outputId": "eeb016b4-4962-409d-a054-1ab4212396ef"
      },
      "execution_count": null,
      "outputs": [
        {
          "output_type": "stream",
          "name": "stdout",
          "text": [
            "multiplique of 1 : 2\n",
            "multiplique of 2 : 4\n",
            "multiplique of 3 : 6\n",
            "multiplique of 4 : 8\n",
            "multiplique of 5 : 10\n",
            "multiplique of 6 : 12\n",
            "multiplique of 7 : 14\n",
            "multiplique of 8 : 16\n",
            "multiplique of 9 : 18\n",
            "multiplique of 10 : 20\n",
            "multiplique of 11 : 22\n",
            "multiplique of 12 : 24\n",
            "multiplique of 13 : 26\n",
            "multiplique of 14 : 28\n",
            "multiplique of 15 : 30\n",
            "multiplique of 16 : 32\n",
            "multiplique of 17 : 34\n",
            "multiplique of 18 : 36\n",
            "multiplique of 19 : 38\n",
            "multiplique of 20 : 40\n",
            "multiplique of 21 : 42\n",
            "multiplique of 22 : 44\n",
            "multiplique of 23 : 46\n",
            "multiplique of 24 : 48\n",
            "multiplique of 25 : 50\n",
            "multiplique of 26 : 52\n",
            "multiplique of 27 : 54\n",
            "multiplique of 28 : 56\n",
            "multiplique of 29 : 58\n",
            "multiplique of 30 : 60\n",
            "multiplique of 31 : 62\n",
            "multiplique of 32 : 64\n",
            "multiplique of 33 : 66\n",
            "multiplique of 34 : 68\n",
            "multiplique of 35 : 70\n",
            "multiplique of 36 : 72\n",
            "multiplique of 37 : 74\n",
            "multiplique of 38 : 76\n",
            "multiplique of 39 : 78\n",
            "multiplique of 40 : 80\n",
            "multiplique of 41 : 82\n",
            "multiplique of 42 : 84\n",
            "multiplique of 43 : 86\n",
            "multiplique of 44 : 88\n",
            "multiplique of 45 : 90\n",
            "multiplique of 46 : 92\n",
            "multiplique of 47 : 94\n",
            "multiplique of 48 : 96\n",
            "multiplique of 49 : 98\n",
            "multiplique of 50 : 100\n",
            "multiplique of 51 : 102\n",
            "multiplique of 52 : 104\n",
            "multiplique of 53 : 106\n",
            "multiplique of 54 : 108\n",
            "multiplique of 55 : 110\n",
            "multiplique of 56 : 112\n",
            "multiplique of 57 : 114\n",
            "multiplique of 58 : 116\n",
            "multiplique of 59 : 118\n",
            "multiplique of 60 : 120\n",
            "multiplique of 61 : 122\n",
            "multiplique of 62 : 124\n",
            "multiplique of 63 : 126\n",
            "multiplique of 64 : 128\n",
            "multiplique of 65 : 130\n",
            "multiplique of 66 : 132\n",
            "multiplique of 67 : 134\n",
            "multiplique of 68 : 136\n",
            "multiplique of 69 : 138\n",
            "multiplique of 70 : 140\n",
            "multiplique of 71 : 142\n",
            "multiplique of 72 : 144\n",
            "multiplique of 73 : 146\n",
            "multiplique of 74 : 148\n",
            "multiplique of 75 : 150\n",
            "multiplique of 76 : 152\n",
            "multiplique of 77 : 154\n",
            "multiplique of 78 : 156\n",
            "multiplique of 79 : 158\n",
            "multiplique of 80 : 160\n",
            "multiplique of 81 : 162\n",
            "multiplique of 82 : 164\n",
            "multiplique of 83 : 166\n",
            "multiplique of 84 : 168\n",
            "multiplique of 85 : 170\n",
            "multiplique of 86 : 172\n",
            "multiplique of 87 : 174\n",
            "multiplique of 88 : 176\n",
            "multiplique of 89 : 178\n",
            "multiplique of 90 : 180\n",
            "multiplique of 91 : 182\n",
            "multiplique of 92 : 184\n",
            "multiplique of 93 : 186\n",
            "multiplique of 94 : 188\n",
            "multiplique of 95 : 190\n",
            "multiplique of 96 : 192\n",
            "multiplique of 97 : 194\n",
            "multiplique of 98 : 196\n",
            "multiplique of 99 : 198\n"
          ]
        }
      ]
    },
    {
      "cell_type": "markdown",
      "source": [
        "#*Data* types"
      ],
      "metadata": {
        "id": "il2E7jhuNBr3"
      }
    },
    {
      "cell_type": "markdown",
      "source": [
        "## 5.1 Integers"
      ],
      "metadata": {
        "id": "_6cGK_HhNLjJ"
      }
    },
    {
      "cell_type": "markdown",
      "source": [
        "##5.2 Float"
      ],
      "metadata": {
        "id": "w_OB3o1YM8ko"
      }
    },
    {
      "cell_type": "code",
      "source": [
        "#book_prie = 100\n"
      ],
      "metadata": {
        "id": "szjElU9DM_Vn"
      },
      "execution_count": 2,
      "outputs": []
    },
    {
      "cell_type": "markdown",
      "source": [
        "##python as a calculator\n"
      ],
      "metadata": {
        "id": "4Z5Hc75ONqLI"
      }
    },
    {
      "cell_type": "code",
      "source": [
        "# Example\n",
        "\n",
        "x = 3\n",
        "y = 4\n",
        "z = 5\n",
        "print('x + y = ', x + z)"
      ],
      "metadata": {
        "colab": {
          "base_uri": "https://localhost:8080/"
        },
        "id": "627iuKRMNuw1",
        "outputId": "82991611-2900-43eb-bc64-a5871fc5e00e"
      },
      "execution_count": 3,
      "outputs": [
        {
          "output_type": "stream",
          "name": "stdout",
          "text": [
            "x + y =  8\n"
          ]
        }
      ]
    },
    {
      "cell_type": "markdown",
      "source": [
        "##Lest  try a nice trick"
      ],
      "metadata": {
        "id": "JgWf-YOkOCSW"
      }
    },
    {
      "cell_type": "code",
      "source": [
        "# Nie Trick\n",
        "w = 0"
      ],
      "metadata": {
        "id": "Mwt65q7wOHOG"
      },
      "execution_count": 4,
      "outputs": []
    },
    {
      "cell_type": "code",
      "source": [
        "# Nice trick\n",
        "w += 2\n",
        "print(w)"
      ],
      "metadata": {
        "colab": {
          "base_uri": "https://localhost:8080/"
        },
        "id": "UWzBdhXQOOFm",
        "outputId": "a451713e-4160-4db6-f000-e48e8cbe928f"
      },
      "execution_count": 12,
      "outputs": [
        {
          "output_type": "stream",
          "name": "stdout",
          "text": [
            "9\n"
          ]
        }
      ]
    },
    {
      "cell_type": "markdown",
      "source": [
        "## 5.3 Booleans\n",
        "\n",
        "These are variables with values of 'True or False'\n"
      ],
      "metadata": {
        "id": "JSLDjT70PIGP"
      }
    },
    {
      "cell_type": "code",
      "source": [
        " # Example\n",
        "\n",
        " is_Sunny = True\n",
        " print(type(is_Sunny))"
      ],
      "metadata": {
        "colab": {
          "base_uri": "https://localhost:8080/"
        },
        "id": "Ez3h8OOLPej-",
        "outputId": "1593cb55-75d6-477c-dd2f-38dbb4915b1a"
      },
      "execution_count": 13,
      "outputs": [
        {
          "output_type": "stream",
          "name": "stdout",
          "text": [
            "<class 'bool'>\n"
          ]
        }
      ]
    },
    {
      "cell_type": "markdown",
      "source": [
        "More important are **BOOLEAN EXPRESSIONS** (mean true or false)"
      ],
      "metadata": {
        "id": "5xsc2UL0P8Xv"
      }
    },
    {
      "cell_type": "code",
      "source": [
        "# Example \n",
        "x = 2\n",
        "y = 3\n",
        "\n",
        "print('is x equals to y?', x == y)\n",
        "print('is x NOT equal to y?', x != y)\n",
        "print('is x great than y?', x > y)\n",
        "print('is x less than y?', x < y)"
      ],
      "metadata": {
        "colab": {
          "base_uri": "https://localhost:8080/"
        },
        "id": "qxRXE07AQFA-",
        "outputId": "970f1b40-0fcd-4399-9284-bd134ac0e5a0"
      },
      "execution_count": 14,
      "outputs": [
        {
          "output_type": "stream",
          "name": "stdout",
          "text": [
            "is x equals to y? False\n",
            "is x NOT equal to y? True\n",
            "is x great than y? False\n",
            "is x less than y? True\n"
          ]
        }
      ]
    },
    {
      "cell_type": "code",
      "source": [
        "# Practice - hard mode!!\n",
        "\n",
        "# using loops, you are going to evaluate the b_e\n",
        "# x+y > x*y\n",
        "# For x= 1,2,3.....,10\n",
        "#     y = 11,12,13....,20\n",
        "\n",
        "x = 1,2,3,4,5,6,7,8,9,10\n",
        "y = 11,12,13,14,15,16,17,18,19,20\n",
        "\n",
        "\n",
        "\n",
        "print(x + y)\n",
        "print(x * y)\n",
        "\n",
        "print('x+y > x*y')\n",
        "for i in range(1,11): print('evaluate of' , y, ':',  (x,y*i))\n",
        "\n",
        "\n",
        "\n",
        "\n"
      ],
      "metadata": {
        "id": "JjSa2PmrRlaO"
      },
      "execution_count": null,
      "outputs": []
    },
    {
      "cell_type": "code",
      "source": [
        "# Solution\n",
        "print('Is x +y > x* y?')\n",
        "for x in range(1,11):\n",
        " for y in range(11,21):\n",
        "   print('is ', x , '+', y, '>', x, '*', y, '?', x + y > x * y)\n",
        "   "
      ],
      "metadata": {
        "colab": {
          "base_uri": "https://localhost:8080/"
        },
        "id": "foFFh4BFVbQ5",
        "outputId": "f7fbb576-4834-4bea-9d98-7aed9aca5cda"
      },
      "execution_count": 23,
      "outputs": [
        {
          "output_type": "stream",
          "name": "stdout",
          "text": [
            "Is x +y > x* y?\n",
            "is  1 + 11 > 1 * 11 ? True\n",
            "is  1 + 12 > 1 * 12 ? True\n",
            "is  1 + 13 > 1 * 13 ? True\n",
            "is  1 + 14 > 1 * 14 ? True\n",
            "is  1 + 15 > 1 * 15 ? True\n",
            "is  1 + 16 > 1 * 16 ? True\n",
            "is  1 + 17 > 1 * 17 ? True\n",
            "is  1 + 18 > 1 * 18 ? True\n",
            "is  1 + 19 > 1 * 19 ? True\n",
            "is  1 + 20 > 1 * 20 ? True\n",
            "is  2 + 11 > 2 * 11 ? False\n",
            "is  2 + 12 > 2 * 12 ? False\n",
            "is  2 + 13 > 2 * 13 ? False\n",
            "is  2 + 14 > 2 * 14 ? False\n",
            "is  2 + 15 > 2 * 15 ? False\n",
            "is  2 + 16 > 2 * 16 ? False\n",
            "is  2 + 17 > 2 * 17 ? False\n",
            "is  2 + 18 > 2 * 18 ? False\n",
            "is  2 + 19 > 2 * 19 ? False\n",
            "is  2 + 20 > 2 * 20 ? False\n",
            "is  3 + 11 > 3 * 11 ? False\n",
            "is  3 + 12 > 3 * 12 ? False\n",
            "is  3 + 13 > 3 * 13 ? False\n",
            "is  3 + 14 > 3 * 14 ? False\n",
            "is  3 + 15 > 3 * 15 ? False\n",
            "is  3 + 16 > 3 * 16 ? False\n",
            "is  3 + 17 > 3 * 17 ? False\n",
            "is  3 + 18 > 3 * 18 ? False\n",
            "is  3 + 19 > 3 * 19 ? False\n",
            "is  3 + 20 > 3 * 20 ? False\n",
            "is  4 + 11 > 4 * 11 ? False\n",
            "is  4 + 12 > 4 * 12 ? False\n",
            "is  4 + 13 > 4 * 13 ? False\n",
            "is  4 + 14 > 4 * 14 ? False\n",
            "is  4 + 15 > 4 * 15 ? False\n",
            "is  4 + 16 > 4 * 16 ? False\n",
            "is  4 + 17 > 4 * 17 ? False\n",
            "is  4 + 18 > 4 * 18 ? False\n",
            "is  4 + 19 > 4 * 19 ? False\n",
            "is  4 + 20 > 4 * 20 ? False\n",
            "is  5 + 11 > 5 * 11 ? False\n",
            "is  5 + 12 > 5 * 12 ? False\n",
            "is  5 + 13 > 5 * 13 ? False\n",
            "is  5 + 14 > 5 * 14 ? False\n",
            "is  5 + 15 > 5 * 15 ? False\n",
            "is  5 + 16 > 5 * 16 ? False\n",
            "is  5 + 17 > 5 * 17 ? False\n",
            "is  5 + 18 > 5 * 18 ? False\n",
            "is  5 + 19 > 5 * 19 ? False\n",
            "is  5 + 20 > 5 * 20 ? False\n",
            "is  6 + 11 > 6 * 11 ? False\n",
            "is  6 + 12 > 6 * 12 ? False\n",
            "is  6 + 13 > 6 * 13 ? False\n",
            "is  6 + 14 > 6 * 14 ? False\n",
            "is  6 + 15 > 6 * 15 ? False\n",
            "is  6 + 16 > 6 * 16 ? False\n",
            "is  6 + 17 > 6 * 17 ? False\n",
            "is  6 + 18 > 6 * 18 ? False\n",
            "is  6 + 19 > 6 * 19 ? False\n",
            "is  6 + 20 > 6 * 20 ? False\n",
            "is  7 + 11 > 7 * 11 ? False\n",
            "is  7 + 12 > 7 * 12 ? False\n",
            "is  7 + 13 > 7 * 13 ? False\n",
            "is  7 + 14 > 7 * 14 ? False\n",
            "is  7 + 15 > 7 * 15 ? False\n",
            "is  7 + 16 > 7 * 16 ? False\n",
            "is  7 + 17 > 7 * 17 ? False\n",
            "is  7 + 18 > 7 * 18 ? False\n",
            "is  7 + 19 > 7 * 19 ? False\n",
            "is  7 + 20 > 7 * 20 ? False\n",
            "is  8 + 11 > 8 * 11 ? False\n",
            "is  8 + 12 > 8 * 12 ? False\n",
            "is  8 + 13 > 8 * 13 ? False\n",
            "is  8 + 14 > 8 * 14 ? False\n",
            "is  8 + 15 > 8 * 15 ? False\n",
            "is  8 + 16 > 8 * 16 ? False\n",
            "is  8 + 17 > 8 * 17 ? False\n",
            "is  8 + 18 > 8 * 18 ? False\n",
            "is  8 + 19 > 8 * 19 ? False\n",
            "is  8 + 20 > 8 * 20 ? False\n",
            "is  9 + 11 > 9 * 11 ? False\n",
            "is  9 + 12 > 9 * 12 ? False\n",
            "is  9 + 13 > 9 * 13 ? False\n",
            "is  9 + 14 > 9 * 14 ? False\n",
            "is  9 + 15 > 9 * 15 ? False\n",
            "is  9 + 16 > 9 * 16 ? False\n",
            "is  9 + 17 > 9 * 17 ? False\n",
            "is  9 + 18 > 9 * 18 ? False\n",
            "is  9 + 19 > 9 * 19 ? False\n",
            "is  9 + 20 > 9 * 20 ? False\n",
            "is  10 + 11 > 10 * 11 ? False\n",
            "is  10 + 12 > 10 * 12 ? False\n",
            "is  10 + 13 > 10 * 13 ? False\n",
            "is  10 + 14 > 10 * 14 ? False\n",
            "is  10 + 15 > 10 * 15 ? False\n",
            "is  10 + 16 > 10 * 16 ? False\n",
            "is  10 + 17 > 10 * 17 ? False\n",
            "is  10 + 18 > 10 * 18 ? False\n",
            "is  10 + 19 > 10 * 19 ? False\n",
            "is  10 + 20 > 10 * 20 ? False\n"
          ]
        }
      ]
    },
    {
      "cell_type": "code",
      "source": [
        "# Activity multiplications tables\n",
        "\n",
        "print('multiplique x * y')\n",
        "for x in range(1,11):\n",
        " for y in range(1,11):\n",
        "   print('the table of', x , '*', y, x * y)\n",
        "   "
      ],
      "metadata": {
        "colab": {
          "base_uri": "https://localhost:8080/"
        },
        "id": "nT_NcGlwYp2e",
        "outputId": "b6d2d2ab-7d14-4b5c-f260-90f00860655d"
      },
      "execution_count": 26,
      "outputs": [
        {
          "output_type": "stream",
          "name": "stdout",
          "text": [
            "multiplique x * y\n",
            "the table of 1 * 1 1\n",
            "the table of 1 * 2 2\n",
            "the table of 1 * 3 3\n",
            "the table of 1 * 4 4\n",
            "the table of 1 * 5 5\n",
            "the table of 1 * 6 6\n",
            "the table of 1 * 7 7\n",
            "the table of 1 * 8 8\n",
            "the table of 1 * 9 9\n",
            "the table of 1 * 10 10\n",
            "the table of 2 * 1 2\n",
            "the table of 2 * 2 4\n",
            "the table of 2 * 3 6\n",
            "the table of 2 * 4 8\n",
            "the table of 2 * 5 10\n",
            "the table of 2 * 6 12\n",
            "the table of 2 * 7 14\n",
            "the table of 2 * 8 16\n",
            "the table of 2 * 9 18\n",
            "the table of 2 * 10 20\n",
            "the table of 3 * 1 3\n",
            "the table of 3 * 2 6\n",
            "the table of 3 * 3 9\n",
            "the table of 3 * 4 12\n",
            "the table of 3 * 5 15\n",
            "the table of 3 * 6 18\n",
            "the table of 3 * 7 21\n",
            "the table of 3 * 8 24\n",
            "the table of 3 * 9 27\n",
            "the table of 3 * 10 30\n",
            "the table of 4 * 1 4\n",
            "the table of 4 * 2 8\n",
            "the table of 4 * 3 12\n",
            "the table of 4 * 4 16\n",
            "the table of 4 * 5 20\n",
            "the table of 4 * 6 24\n",
            "the table of 4 * 7 28\n",
            "the table of 4 * 8 32\n",
            "the table of 4 * 9 36\n",
            "the table of 4 * 10 40\n",
            "the table of 5 * 1 5\n",
            "the table of 5 * 2 10\n",
            "the table of 5 * 3 15\n",
            "the table of 5 * 4 20\n",
            "the table of 5 * 5 25\n",
            "the table of 5 * 6 30\n",
            "the table of 5 * 7 35\n",
            "the table of 5 * 8 40\n",
            "the table of 5 * 9 45\n",
            "the table of 5 * 10 50\n",
            "the table of 6 * 1 6\n",
            "the table of 6 * 2 12\n",
            "the table of 6 * 3 18\n",
            "the table of 6 * 4 24\n",
            "the table of 6 * 5 30\n",
            "the table of 6 * 6 36\n",
            "the table of 6 * 7 42\n",
            "the table of 6 * 8 48\n",
            "the table of 6 * 9 54\n",
            "the table of 6 * 10 60\n",
            "the table of 7 * 1 7\n",
            "the table of 7 * 2 14\n",
            "the table of 7 * 3 21\n",
            "the table of 7 * 4 28\n",
            "the table of 7 * 5 35\n",
            "the table of 7 * 6 42\n",
            "the table of 7 * 7 49\n",
            "the table of 7 * 8 56\n",
            "the table of 7 * 9 63\n",
            "the table of 7 * 10 70\n",
            "the table of 8 * 1 8\n",
            "the table of 8 * 2 16\n",
            "the table of 8 * 3 24\n",
            "the table of 8 * 4 32\n",
            "the table of 8 * 5 40\n",
            "the table of 8 * 6 48\n",
            "the table of 8 * 7 56\n",
            "the table of 8 * 8 64\n",
            "the table of 8 * 9 72\n",
            "the table of 8 * 10 80\n",
            "the table of 9 * 1 9\n",
            "the table of 9 * 2 18\n",
            "the table of 9 * 3 27\n",
            "the table of 9 * 4 36\n",
            "the table of 9 * 5 45\n",
            "the table of 9 * 6 54\n",
            "the table of 9 * 7 63\n",
            "the table of 9 * 8 72\n",
            "the table of 9 * 9 81\n",
            "the table of 9 * 10 90\n",
            "the table of 10 * 1 10\n",
            "the table of 10 * 2 20\n",
            "the table of 10 * 3 30\n",
            "the table of 10 * 4 40\n",
            "the table of 10 * 5 50\n",
            "the table of 10 * 6 60\n",
            "the table of 10 * 7 70\n",
            "the table of 10 * 8 80\n",
            "the table of 10 * 9 90\n",
            "the table of 10 * 10 100\n"
          ]
        }
      ]
    },
    {
      "cell_type": "code",
      "source": [
        "# Prcatice\n",
        "# Multiplication - A solutions\n",
        "\n",
        "for x in range(1,9):\n",
        "  print('Table of', x, ':')\n",
        "  for y in range(1,9):\n",
        "    print(x, '*', y, '=', x*y)\n"
      ],
      "metadata": {
        "colab": {
          "base_uri": "https://localhost:8080/"
        },
        "id": "97YfsZzmaccu",
        "outputId": "90dbd8a5-6c12-4923-9d4c-c776efcc5376"
      },
      "execution_count": 30,
      "outputs": [
        {
          "output_type": "stream",
          "name": "stdout",
          "text": [
            "Table of 1 :\n",
            "1 * 1 = 1\n",
            "1 * 2 = 2\n",
            "1 * 3 = 3\n",
            "1 * 4 = 4\n",
            "1 * 5 = 5\n",
            "1 * 6 = 6\n",
            "1 * 7 = 7\n",
            "1 * 8 = 8\n",
            "Table of 2 :\n",
            "2 * 1 = 2\n",
            "2 * 2 = 4\n",
            "2 * 3 = 6\n",
            "2 * 4 = 8\n",
            "2 * 5 = 10\n",
            "2 * 6 = 12\n",
            "2 * 7 = 14\n",
            "2 * 8 = 16\n",
            "Table of 3 :\n",
            "3 * 1 = 3\n",
            "3 * 2 = 6\n",
            "3 * 3 = 9\n",
            "3 * 4 = 12\n",
            "3 * 5 = 15\n",
            "3 * 6 = 18\n",
            "3 * 7 = 21\n",
            "3 * 8 = 24\n",
            "Table of 4 :\n",
            "4 * 1 = 4\n",
            "4 * 2 = 8\n",
            "4 * 3 = 12\n",
            "4 * 4 = 16\n",
            "4 * 5 = 20\n",
            "4 * 6 = 24\n",
            "4 * 7 = 28\n",
            "4 * 8 = 32\n",
            "Table of 5 :\n",
            "5 * 1 = 5\n",
            "5 * 2 = 10\n",
            "5 * 3 = 15\n",
            "5 * 4 = 20\n",
            "5 * 5 = 25\n",
            "5 * 6 = 30\n",
            "5 * 7 = 35\n",
            "5 * 8 = 40\n",
            "Table of 6 :\n",
            "6 * 1 = 6\n",
            "6 * 2 = 12\n",
            "6 * 3 = 18\n",
            "6 * 4 = 24\n",
            "6 * 5 = 30\n",
            "6 * 6 = 36\n",
            "6 * 7 = 42\n",
            "6 * 8 = 48\n",
            "Table of 7 :\n",
            "7 * 1 = 7\n",
            "7 * 2 = 14\n",
            "7 * 3 = 21\n",
            "7 * 4 = 28\n",
            "7 * 5 = 35\n",
            "7 * 6 = 42\n",
            "7 * 7 = 49\n",
            "7 * 8 = 56\n",
            "Table of 8 :\n",
            "8 * 1 = 8\n",
            "8 * 2 = 16\n",
            "8 * 3 = 24\n",
            "8 * 4 = 32\n",
            "8 * 5 = 40\n",
            "8 * 6 = 48\n",
            "8 * 7 = 56\n",
            "8 * 8 = 64\n"
          ]
        }
      ]
    }
  ]
}