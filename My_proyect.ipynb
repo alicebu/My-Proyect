{
  "nbformat": 4,
  "nbformat_minor": 0,
  "metadata": {
    "colab": {
      "name": "My proyect.ipynb",
      "provenance": [],
      "toc_visible": true,
      "collapsed_sections": [],
      "authorship_tag": "ABX9TyM1jc+3BHDvCevcKj1MvQAd",
      "include_colab_link": true
    },
    "kernelspec": {
      "name": "python3",
      "display_name": "Python 3"
    },
    "language_info": {
      "name": "python"
    }
  },
  "cells": [
    {
      "cell_type": "markdown",
      "metadata": {
        "id": "view-in-github",
        "colab_type": "text"
      },
      "source": [
        "<a href=\"https://colab.research.google.com/github/alicebu/My-Proyect/blob/main/My_proyect.ipynb\" target=\"_parent\"><img src=\"https://colab.research.google.com/assets/colab-badge.svg\" alt=\"Open In Colab\"/></a>"
      ]
    },
    {
      "cell_type": "code",
      "execution_count": null,
      "metadata": {
        "id": "VFqZU2G5SxpG"
      },
      "outputs": [],
      "source": [
        ""
      ]
    },
    {
      "cell_type": "markdown",
      "source": [
        "# Heading level 1\n",
        " \n",
        "\n",
        "\n"
      ],
      "metadata": {
        "id": "wc6QZL5AUxtE"
      }
    },
    {
      "cell_type": "markdown",
      "source": [
        "## Heading level 2"
      ],
      "metadata": {
        "id": "erpKuU7dXS3q"
      }
    },
    {
      "cell_type": "markdown",
      "source": [
        "#Text Formating\n",
        "\n",
        "BOLD\n",
        "\n",
        "**CAR**"
      ],
      "metadata": {
        "id": "fc5Up4OGXjOa"
      }
    },
    {
      "cell_type": "markdown",
      "source": [
        "##Italics"
      ],
      "metadata": {
        "id": "sprwbM5ROxnP"
      }
    },
    {
      "cell_type": "markdown",
      "source": [
        "##Combine Bold and Italics"
      ],
      "metadata": {
        "id": "_wYILdvcPQxC"
      }
    },
    {
      "cell_type": "markdown",
      "source": [
        "##Uederline"
      ],
      "metadata": {
        "id": "OMc0L2s6PYDm"
      }
    },
    {
      "cell_type": "markdown",
      "source": [
        "#List"
      ],
      "metadata": {
        "id": "hb-Vcp6SPeb2"
      }
    },
    {
      "cell_type": "markdown",
      "source": [
        "##Unordered list\n",
        "\n",
        "**grocery list:**\n",
        "\n",
        "* rice\n",
        "\n",
        "* milk\n",
        "\n",
        "* eggs\n",
        "\n",
        "* coffe\n",
        "\n",
        " \n",
        "\n",
        "\n"
      ],
      "metadata": {
        "id": "VUiuZUy1PibP"
      }
    },
    {
      "cell_type": "markdown",
      "source": [
        "## Ordered list\n",
        "\n",
        "**table Contents**\n",
        "\n",
        "1. Introduction\n",
        "\n",
        "2. Abstract\n",
        "\n",
        "3. Results\n",
        "\n"
      ],
      "metadata": {
        "id": "lAFWBQ9dP8z4"
      }
    },
    {
      "cell_type": "markdown",
      "source": [
        "##Nested list\n",
        "\n",
        "A nested a list "
      ],
      "metadata": {
        "id": "wooDgm_DRKpq"
      }
    },
    {
      "cell_type": "markdown",
      "source": [
        "# Sección nueva"
      ],
      "metadata": {
        "id": "jKg_UWHrOyq7"
      }
    },
    {
      "cell_type": "markdown",
      "source": [
        "# Example\n",
        "##scientific notation\n",
        "\n"
      ],
      "metadata": {
        "id": "UKa55_V8I8Be"
      }
    },
    {
      "cell_type": "code",
      "source": [
        "1.52e2\n"
      ],
      "metadata": {
        "colab": {
          "base_uri": "https://localhost:8080/"
        },
        "id": "gYbzASugJbqH",
        "outputId": "1d1c9786-bbfb-472c-8e10-39de6f39c36e"
      },
      "execution_count": 1,
      "outputs": [
        {
          "output_type": "execute_result",
          "data": {
            "text/plain": [
              "152.0"
            ]
          },
          "metadata": {},
          "execution_count": 1
        }
      ]
    },
    {
      "cell_type": "markdown",
      "source": [
        "# what happen if you to represent 0.25 with scientific notation\n"
      ],
      "metadata": {
        "id": "AnkQA1ILJhIW"
      }
    },
    {
      "cell_type": "code",
      "source": [
        "0.025e1"
      ],
      "metadata": {
        "colab": {
          "base_uri": "https://localhost:8080/"
        },
        "id": "uE1-IN5eJtNW",
        "outputId": "eac496c4-6416-40aa-9c48-893c8bc83ae8"
      },
      "execution_count": 2,
      "outputs": [
        {
          "output_type": "execute_result",
          "data": {
            "text/plain": [
              "0.25"
            ]
          },
          "metadata": {},
          "execution_count": 2
        }
      ]
    },
    {
      "cell_type": "code",
      "source": [
        "2.5e-1"
      ],
      "metadata": {
        "colab": {
          "base_uri": "https://localhost:8080/"
        },
        "id": "LYQq2FC-KO8e",
        "outputId": "8cbfecae-eb45-4b2d-9abd-3280713b1267"
      },
      "execution_count": 3,
      "outputs": [
        {
          "output_type": "execute_result",
          "data": {
            "text/plain": [
              "0.25"
            ]
          },
          "metadata": {},
          "execution_count": 3
        }
      ]
    },
    {
      "cell_type": "markdown",
      "source": [
        "# example \n",
        "1.5e0.5"
      ],
      "metadata": {
        "id": "7DH33TFFLWr9"
      }
    },
    {
      "cell_type": "code",
      "source": [
        "1.5e5"
      ],
      "metadata": {
        "colab": {
          "base_uri": "https://localhost:8080/"
        },
        "id": "gMhGm7OsLVNu",
        "outputId": "e5c8172a-be41-4c0f-ed0f-07eff83a241e"
      },
      "execution_count": 9,
      "outputs": [
        {
          "output_type": "execute_result",
          "data": {
            "text/plain": [
              "150000.0"
            ]
          },
          "metadata": {},
          "execution_count": 9
        }
      ]
    },
    {
      "cell_type": "markdown",
      "source": [
        "### **Transformation**\n",
        "\n",
        "\n",
        "\n",
        "\n",
        "```\n",
        "# Tiene formato de código\n",
        "```\n",
        "\n"
      ],
      "metadata": {
        "id": "UkrUm4mJM9M7"
      }
    },
    {
      "cell_type": "code",
      "source": [
        "# Examplr int to float\n",
        "float(5)"
      ],
      "metadata": {
        "colab": {
          "base_uri": "https://localhost:8080/"
        },
        "id": "eC7t-a5LMBcd",
        "outputId": "dcc210a4-9366-4d7d-ed7f-4d5c5fd1ef58"
      },
      "execution_count": 10,
      "outputs": [
        {
          "output_type": "execute_result",
          "data": {
            "text/plain": [
              "5.0"
            ]
          },
          "metadata": {},
          "execution_count": 10
        }
      ]
    },
    {
      "cell_type": "code",
      "source": [
        "# Examole float to int\n",
        "int(7.25)"
      ],
      "metadata": {
        "colab": {
          "base_uri": "https://localhost:8080/"
        },
        "id": "mv849k0aNZzK",
        "outputId": "4fcda3fd-1e04-4da4-c65e-b0d022e31330"
      },
      "execution_count": 11,
      "outputs": [
        {
          "output_type": "execute_result",
          "data": {
            "text/plain": [
              "7"
            ]
          },
          "metadata": {},
          "execution_count": 11
        }
      ]
    },
    {
      "cell_type": "markdown",
      "source": [
        "## 3.4. Basic function\n",
        "\n"
      ],
      "metadata": {
        "id": "-Lg6kyvaNyqa"
      }
    },
    {
      "cell_type": "markdown",
      "source": [
        "###**print**\n",
        "\n"
      ],
      "metadata": {
        "id": "oSFx5chJOMrC"
      }
    },
    {
      "cell_type": "code",
      "source": [
        "# Number Example\n",
        "print(2022,8,11)"
      ],
      "metadata": {
        "colab": {
          "base_uri": "https://localhost:8080/"
        },
        "id": "kkwolbIJNxFb",
        "outputId": "9db60ddb-ac13-4447-fa9a-b5b3d94bdf07"
      },
      "execution_count": 14,
      "outputs": [
        {
          "output_type": "stream",
          "name": "stdout",
          "text": [
            "2022 8 11\n"
          ]
        }
      ]
    },
    {
      "cell_type": "code",
      "source": [
        "# Strin (alphabet) Example \n",
        "print('rodrigo')"
      ],
      "metadata": {
        "colab": {
          "base_uri": "https://localhost:8080/"
        },
        "id": "S37eMWZcPLyT",
        "outputId": "faf7de04-0e10-4846-8998-a3d5ce35c210"
      },
      "execution_count": 16,
      "outputs": [
        {
          "output_type": "stream",
          "name": "stdout",
          "text": [
            "rodrigo\n"
          ]
        }
      ]
    },
    {
      "cell_type": "code",
      "source": [
        "# More complicated examples\n",
        "print('First Name: Quintero','Last Name: Bulla')\n",
        "print('First Name: Quintero\\tLast Name: Bulla')\n",
        "print('First Name: Quintero\\nLast Name: Bulla')"
      ],
      "metadata": {
        "colab": {
          "base_uri": "https://localhost:8080/"
        },
        "id": "u3QLd_pPQLM7",
        "outputId": "4260866b-fb09-45a3-8e2f-96a8bf2254de"
      },
      "execution_count": 18,
      "outputs": [
        {
          "output_type": "stream",
          "name": "stdout",
          "text": [
            "First Name: Quintero Last Name: Bulla\n",
            "First Name: Quintero\tLast Name: Bulla\n",
            "First Name: Quintero\n",
            "Last Name: Bulla\n"
          ]
        }
      ]
    },
    {
      "cell_type": "code",
      "source": [
        "# More complicated number example\n",
        "for i in range(0,10): print(i)\n"
      ],
      "metadata": {
        "colab": {
          "base_uri": "https://localhost:8080/"
        },
        "id": "jU1my_ocSESV",
        "outputId": "d751a6e5-b35b-44cc-9899-9bdb4afe2613"
      },
      "execution_count": 19,
      "outputs": [
        {
          "output_type": "stream",
          "name": "stdout",
          "text": [
            "0\n",
            "1\n",
            "2\n",
            "3\n",
            "4\n",
            "5\n",
            "6\n",
            "7\n",
            "8\n",
            "9\n"
          ]
        }
      ]
    },
    {
      "cell_type": "code",
      "source": [
        "# Combine string and numbers\n",
        "print('My favorite number is:' ,3,'yes')"
      ],
      "metadata": {
        "colab": {
          "base_uri": "https://localhost:8080/"
        },
        "id": "rFQQLCNgTKmd",
        "outputId": "b7a81f49-21b7-443d-e198-2d74f499205e"
      },
      "execution_count": 25,
      "outputs": [
        {
          "output_type": "stream",
          "name": "stdout",
          "text": [
            "My favorite number is: 3 yes\n"
          ]
        }
      ]
    },
    {
      "cell_type": "code",
      "source": [
        "# A simple example\n",
        "round(1.253,2)"
      ],
      "metadata": {
        "colab": {
          "base_uri": "https://localhost:8080/"
        },
        "id": "i0fuTD7oT52G",
        "outputId": "9f42d04a-a25a-4ade-8363-0ae278734051"
      },
      "execution_count": 26,
      "outputs": [
        {
          "output_type": "execute_result",
          "data": {
            "text/plain": [
              "1.25"
            ]
          },
          "metadata": {},
          "execution_count": 26
        }
      ]
    },
    {
      "cell_type": "code",
      "source": [
        "# Time to practique\n",
        "# Consider the number 7.2354\n",
        "# Print every result for rounding from 3 to 0 positions\n",
        "print('Round with', 0, 'decimals', round(7.2345,0))\n",
        "print('Round with', 1, 'decimals', round(7.2345,1))\n",
        "print('Round with', 2, 'decimals', round(7.2345,2))\n",
        "print('Round with', 3, 'decimals', round(7.2345,3))\n"
      ],
      "metadata": {
        "colab": {
          "base_uri": "https://localhost:8080/"
        },
        "id": "qrP_v0XAUHva",
        "outputId": "c8af0626-877f-4189-d3ec-b7297e8d56af"
      },
      "execution_count": 38,
      "outputs": [
        {
          "output_type": "stream",
          "name": "stdout",
          "text": [
            "Round with 0 decimals 7.0\n",
            "Round with 1 decimals 7.2\n",
            "Round with 2 decimals 7.23\n",
            "Round with 3 decimals 7.234\n"
          ]
        }
      ]
    },
    {
      "cell_type": "code",
      "source": [
        "# If we for loops\n",
        "for i in range(0,4): print('Round with', i, 'decimals', round(7.2345,i))"
      ],
      "metadata": {
        "colab": {
          "base_uri": "https://localhost:8080/"
        },
        "id": "nGac57qnYx36",
        "outputId": "f7105cd2-8462-4c1d-b4c3-541bea5c60f7"
      },
      "execution_count": 39,
      "outputs": [
        {
          "output_type": "stream",
          "name": "stdout",
          "text": [
            "Round with 0 decimals 7.0\n",
            "Round with 1 decimals 7.2\n",
            "Round with 2 decimals 7.23\n",
            "Round with 3 decimals 7.234\n"
          ]
        }
      ]
    },
    {
      "cell_type": "code",
      "source": [
        "# practice \n",
        "# Print the first 100 multiplies of the number the 2\n",
        "for i in range(1,100): print('multiplique of' , i, ':',  (2*i))\n"
      ],
      "metadata": {
        "colab": {
          "base_uri": "https://localhost:8080/"
        },
        "id": "gFNH1PfoZZnx",
        "outputId": "2897de7b-a910-4566-aad7-58ac93853c5a"
      },
      "execution_count": 54,
      "outputs": [
        {
          "output_type": "stream",
          "name": "stdout",
          "text": [
            "multiplique of 1 : 2\n",
            "multiplique of 2 : 4\n",
            "multiplique of 3 : 6\n",
            "multiplique of 4 : 8\n",
            "multiplique of 5 : 10\n",
            "multiplique of 6 : 12\n",
            "multiplique of 7 : 14\n",
            "multiplique of 8 : 16\n",
            "multiplique of 9 : 18\n",
            "multiplique of 10 : 20\n",
            "multiplique of 11 : 22\n",
            "multiplique of 12 : 24\n",
            "multiplique of 13 : 26\n",
            "multiplique of 14 : 28\n",
            "multiplique of 15 : 30\n",
            "multiplique of 16 : 32\n",
            "multiplique of 17 : 34\n",
            "multiplique of 18 : 36\n",
            "multiplique of 19 : 38\n",
            "multiplique of 20 : 40\n",
            "multiplique of 21 : 42\n",
            "multiplique of 22 : 44\n",
            "multiplique of 23 : 46\n",
            "multiplique of 24 : 48\n",
            "multiplique of 25 : 50\n",
            "multiplique of 26 : 52\n",
            "multiplique of 27 : 54\n",
            "multiplique of 28 : 56\n",
            "multiplique of 29 : 58\n",
            "multiplique of 30 : 60\n",
            "multiplique of 31 : 62\n",
            "multiplique of 32 : 64\n",
            "multiplique of 33 : 66\n",
            "multiplique of 34 : 68\n",
            "multiplique of 35 : 70\n",
            "multiplique of 36 : 72\n",
            "multiplique of 37 : 74\n",
            "multiplique of 38 : 76\n",
            "multiplique of 39 : 78\n",
            "multiplique of 40 : 80\n",
            "multiplique of 41 : 82\n",
            "multiplique of 42 : 84\n",
            "multiplique of 43 : 86\n",
            "multiplique of 44 : 88\n",
            "multiplique of 45 : 90\n",
            "multiplique of 46 : 92\n",
            "multiplique of 47 : 94\n",
            "multiplique of 48 : 96\n",
            "multiplique of 49 : 98\n",
            "multiplique of 50 : 100\n",
            "multiplique of 51 : 102\n",
            "multiplique of 52 : 104\n",
            "multiplique of 53 : 106\n",
            "multiplique of 54 : 108\n",
            "multiplique of 55 : 110\n",
            "multiplique of 56 : 112\n",
            "multiplique of 57 : 114\n",
            "multiplique of 58 : 116\n",
            "multiplique of 59 : 118\n",
            "multiplique of 60 : 120\n",
            "multiplique of 61 : 122\n",
            "multiplique of 62 : 124\n",
            "multiplique of 63 : 126\n",
            "multiplique of 64 : 128\n",
            "multiplique of 65 : 130\n",
            "multiplique of 66 : 132\n",
            "multiplique of 67 : 134\n",
            "multiplique of 68 : 136\n",
            "multiplique of 69 : 138\n",
            "multiplique of 70 : 140\n",
            "multiplique of 71 : 142\n",
            "multiplique of 72 : 144\n",
            "multiplique of 73 : 146\n",
            "multiplique of 74 : 148\n",
            "multiplique of 75 : 150\n",
            "multiplique of 76 : 152\n",
            "multiplique of 77 : 154\n",
            "multiplique of 78 : 156\n",
            "multiplique of 79 : 158\n",
            "multiplique of 80 : 160\n",
            "multiplique of 81 : 162\n",
            "multiplique of 82 : 164\n",
            "multiplique of 83 : 166\n",
            "multiplique of 84 : 168\n",
            "multiplique of 85 : 170\n",
            "multiplique of 86 : 172\n",
            "multiplique of 87 : 174\n",
            "multiplique of 88 : 176\n",
            "multiplique of 89 : 178\n",
            "multiplique of 90 : 180\n",
            "multiplique of 91 : 182\n",
            "multiplique of 92 : 184\n",
            "multiplique of 93 : 186\n",
            "multiplique of 94 : 188\n",
            "multiplique of 95 : 190\n",
            "multiplique of 96 : 192\n",
            "multiplique of 97 : 194\n",
            "multiplique of 98 : 196\n",
            "multiplique of 99 : 198\n"
          ]
        }
      ]
    }
  ]
}