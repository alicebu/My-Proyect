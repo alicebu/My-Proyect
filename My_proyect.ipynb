{
  "nbformat": 4,
  "nbformat_minor": 0,
  "metadata": {
    "colab": {
      "name": "My proyect.ipynb",
      "provenance": [],
      "toc_visible": true,
      "authorship_tag": "ABX9TyPwWm5q1fGcvA7FjPa8JvJE",
      "include_colab_link": true
    },
    "kernelspec": {
      "name": "python3",
      "display_name": "Python 3"
    },
    "language_info": {
      "name": "python"
    }
  },
  "cells": [
    {
      "cell_type": "markdown",
      "metadata": {
        "id": "view-in-github",
        "colab_type": "text"
      },
      "source": [
        "<a href=\"https://colab.research.google.com/github/alicebu/My-Proyect/blob/main/My_proyect.ipynb\" target=\"_parent\"><img src=\"https://colab.research.google.com/assets/colab-badge.svg\" alt=\"Open In Colab\"/></a>"
      ]
    },
    {
      "cell_type": "code",
      "execution_count": null,
      "metadata": {
        "id": "VFqZU2G5SxpG"
      },
      "outputs": [],
      "source": [
        ""
      ]
    },
    {
      "cell_type": "markdown",
      "source": [
        "# Heading level 1\n",
        " \n",
        "\n",
        "\n"
      ],
      "metadata": {
        "id": "wc6QZL5AUxtE"
      }
    },
    {
      "cell_type": "markdown",
      "source": [
        "## Heading level 2"
      ],
      "metadata": {
        "id": "erpKuU7dXS3q"
      }
    },
    {
      "cell_type": "markdown",
      "source": [
        ""
      ],
      "metadata": {
        "id": "fc5Up4OGXjOa"
      }
    }
  ]
}