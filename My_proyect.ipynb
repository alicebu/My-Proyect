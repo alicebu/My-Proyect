{
  "nbformat": 4,
  "nbformat_minor": 0,
  "metadata": {
    "colab": {
      "name": "My proyect.ipynb",
      "provenance": [],
      "toc_visible": true,
      "authorship_tag": "ABX9TyNmfdw4TSaxoWdjKT6uZ6DB",
      "include_colab_link": true
    },
    "kernelspec": {
      "name": "python3",
      "display_name": "Python 3"
    },
    "language_info": {
      "name": "python"
    }
  },
  "cells": [
    {
      "cell_type": "markdown",
      "metadata": {
        "id": "view-in-github",
        "colab_type": "text"
      },
      "source": [
        "<a href=\"https://colab.research.google.com/github/alicebu/My-Proyect/blob/main/My_proyect.ipynb\" target=\"_parent\"><img src=\"https://colab.research.google.com/assets/colab-badge.svg\" alt=\"Open In Colab\"/></a>"
      ]
    },
    {
      "cell_type": "code",
      "execution_count": null,
      "metadata": {
        "id": "VFqZU2G5SxpG"
      },
      "outputs": [],
      "source": [
        ""
      ]
    },
    {
      "cell_type": "markdown",
      "source": [
        "# Heading level 1\n",
        " \n",
        "\n",
        "\n"
      ],
      "metadata": {
        "id": "wc6QZL5AUxtE"
      }
    },
    {
      "cell_type": "markdown",
      "source": [
        "## Heading level 2"
      ],
      "metadata": {
        "id": "erpKuU7dXS3q"
      }
    },
    {
      "cell_type": "markdown",
      "source": [
        "#Text Formating\n",
        "\n",
        "BOLD\n",
        "\n",
        "**CAR**"
      ],
      "metadata": {
        "id": "fc5Up4OGXjOa"
      }
    },
    {
      "cell_type": "markdown",
      "source": [
        "##Italics"
      ],
      "metadata": {
        "id": "sprwbM5ROxnP"
      }
    },
    {
      "cell_type": "markdown",
      "source": [
        "##Combine Bold and Italics"
      ],
      "metadata": {
        "id": "_wYILdvcPQxC"
      }
    },
    {
      "cell_type": "markdown",
      "source": [
        "##Uederline"
      ],
      "metadata": {
        "id": "OMc0L2s6PYDm"
      }
    },
    {
      "cell_type": "markdown",
      "source": [
        "#List"
      ],
      "metadata": {
        "id": "hb-Vcp6SPeb2"
      }
    },
    {
      "cell_type": "markdown",
      "source": [
        "##Unordered list\n",
        "\n",
        "**grocery list:**\n",
        "\n",
        "* rice\n",
        "\n",
        "* milk\n",
        "\n",
        "* eggs\n",
        "\n",
        "* coffe\n",
        "\n",
        " \n",
        "\n",
        "\n"
      ],
      "metadata": {
        "id": "VUiuZUy1PibP"
      }
    },
    {
      "cell_type": "markdown",
      "source": [
        "## Ordered list\n",
        "\n",
        "**table Contents**\n",
        "\n",
        "1. Introduction\n",
        "\n",
        "2. Abstract\n",
        "\n",
        "3. Results\n",
        "\n"
      ],
      "metadata": {
        "id": "lAFWBQ9dP8z4"
      }
    },
    {
      "cell_type": "markdown",
      "source": [
        "##Nested list\n",
        "\n",
        "A nested a list "
      ],
      "metadata": {
        "id": "wooDgm_DRKpq"
      }
    },
    {
      "cell_type": "markdown",
      "source": [
        "# Sección nueva"
      ],
      "metadata": {
        "id": "jKg_UWHrOyq7"
      }
    }
  ]
}