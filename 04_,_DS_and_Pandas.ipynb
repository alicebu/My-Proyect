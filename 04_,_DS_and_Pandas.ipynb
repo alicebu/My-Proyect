{
  "nbformat": 4,
  "nbformat_minor": 0,
  "metadata": {
    "colab": {
      "provenance": [],
      "authorship_tag": "ABX9TyNVkLB432CsvDKkRRvCXkjJ",
      "include_colab_link": true
    },
    "kernelspec": {
      "name": "python3",
      "display_name": "Python 3"
    },
    "language_info": {
      "name": "python"
    }
  },
  "cells": [
    {
      "cell_type": "markdown",
      "metadata": {
        "id": "view-in-github",
        "colab_type": "text"
      },
      "source": [
        "<a href=\"https://colab.research.google.com/github/alicebu/My-Proyect/blob/main/04_%2C_DS_and_Pandas.ipynb\" target=\"_parent\"><img src=\"https://colab.research.google.com/assets/colab-badge.svg\" alt=\"Open In Colab\"/></a>"
      ]
    },
    {
      "cell_type": "markdown",
      "source": [
        "# **1. Data Structure and Pandas\n",
        "\n",
        "´numpy´ is for vector and matrices ('arrays')\n",
        "\n",
        "'pandas' is a library to work databases (data with relations and conextions).In practical terms, 'pandas' is the Excel of Python.\n",
        "\n",
        "To make clear you can work with 'numpy' and 'pandas' at the same time"
      ],
      "metadata": {
        "id": "4AzuSwzqk6QZ"
      }
    },
    {
      "cell_type": "code",
      "execution_count": 11,
      "metadata": {
        "id": "WqL0kh03km6a"
      },
      "outputs": [],
      "source": [
        "import pandas as pd\n",
        "import numpy as np"
      ]
    },
    {
      "cell_type": "markdown",
      "source": [
        "# **2. Pandas Series**\n",
        "\n",
        "A series (in pandas) is a one-dimensional object"
      ],
      "metadata": {
        "id": "6eKW-Lt7mzd_"
      }
    },
    {
      "cell_type": "markdown",
      "source": [
        "# 2.1 series creation"
      ],
      "metadata": {
        "id": "TBVugaHinM0X"
      }
    },
    {
      "cell_type": "code",
      "source": [
        "# Empty series (creacion de objetos vacios)\n",
        "\n",
        "s_empty = pd.Series()\n",
        "print(s_empty)"
      ],
      "metadata": {
        "colab": {
          "base_uri": "https://localhost:8080/"
        },
        "id": "MWsNlKKqnQNw",
        "outputId": "b2061782-a2f7-46e3-a744-c6b9a1d4ed94"
      },
      "execution_count": 5,
      "outputs": [
        {
          "output_type": "stream",
          "name": "stdout",
          "text": [
            "Series([], dtype: float64)\n"
          ]
        },
        {
          "output_type": "stream",
          "name": "stderr",
          "text": [
            "/usr/local/lib/python3.7/dist-packages/ipykernel_launcher.py:3: DeprecationWarning: The default dtype for empty Series will be 'object' instead of 'float64' in a future version. Specify a dtype explicitly to silence this warning.\n",
            "  This is separate from the ipykernel package so we can avoid doing imports until\n"
          ]
        }
      ]
    },
    {
      "cell_type": "code",
      "source": [
        "# Creating a Series - typing the values\n",
        "## int values\n",
        "\n",
        "s_int = pd.Series([1,2,3,4,5,6,7])\n",
        "print(s_int)"
      ],
      "metadata": {
        "colab": {
          "base_uri": "https://localhost:8080/"
        },
        "id": "bjJUefiAoJPo",
        "outputId": "529bd1ea-1034-43be-eec1-09cc0786d921"
      },
      "execution_count": 6,
      "outputs": [
        {
          "output_type": "stream",
          "name": "stdout",
          "text": [
            "0    1\n",
            "1    2\n",
            "2    3\n",
            "3    4\n",
            "4    5\n",
            "5    6\n",
            "6    7\n",
            "dtype: int64\n"
          ]
        }
      ]
    },
    {
      "cell_type": "code",
      "source": [
        "# Creating a Series - using random numbers\n",
        "## float values\n",
        "\n",
        "s_num = pd.Series(np.random.rand(8))\n",
        "print(s_num)"
      ],
      "metadata": {
        "colab": {
          "base_uri": "https://localhost:8080/"
        },
        "id": "Y8fLNLCjo0yv",
        "outputId": "d08c3b96-913d-4a97-8445-21334fc235ad"
      },
      "execution_count": 7,
      "outputs": [
        {
          "output_type": "stream",
          "name": "stdout",
          "text": [
            "0    0.858876\n",
            "1    0.473338\n",
            "2    0.057746\n",
            "3    0.226075\n",
            "4    0.203599\n",
            "5    0.310088\n",
            "6    0.344325\n",
            "7    0.350017\n",
            "dtype: float64\n"
          ]
        }
      ]
    },
    {
      "cell_type": "code",
      "source": [
        "# Creating a Series\n",
        "## with str\n",
        "s_str = pd.Series(['Valentina', 'Ashly', 'Alice', 'Cristian', 'Karen', 'Rodrigo'])\n",
        "print(s_str)"
      ],
      "metadata": {
        "colab": {
          "base_uri": "https://localhost:8080/"
        },
        "id": "5Uf5AoGupFhc",
        "outputId": "dc5221eb-3145-4b43-b547-e99303927953"
      },
      "execution_count": 14,
      "outputs": [
        {
          "output_type": "stream",
          "name": "stdout",
          "text": [
            "0    Valentina\n",
            "1        Ashly\n",
            "2        Alice\n",
            "3     Cristian\n",
            "4        Karen\n",
            "5      Rodrigo\n",
            "dtype: object\n"
          ]
        }
      ]
    },
    {
      "cell_type": "code",
      "source": [
        "# Creating a Series\n",
        "tmp  = pd.Series([1, 0.2548, 'Python'])\n",
        "print(tmp)"
      ],
      "metadata": {
        "colab": {
          "base_uri": "https://localhost:8080/"
        },
        "id": "lqJqcQNjp-I0",
        "outputId": "1e422384-cf76-4ed1-9ce3-bfe2bff06d34"
      },
      "execution_count": 15,
      "outputs": [
        {
          "output_type": "stream",
          "name": "stdout",
          "text": [
            "0         1\n",
            "1    0.2548\n",
            "2    Python\n",
            "dtype: object\n"
          ]
        }
      ]
    },
    {
      "cell_type": "markdown",
      "source": [
        "# 2.2 Indexing"
      ],
      "metadata": {
        "id": "VXIXStnmuMIz"
      }
    },
    {
      "cell_type": "code",
      "source": [
        "# Check the index of a series\n",
        "s_num.index"
      ],
      "metadata": {
        "colab": {
          "base_uri": "https://localhost:8080/"
        },
        "id": "IJgs2VjEuPhr",
        "outputId": "d5d31586-1d8c-4414-e2c8-1cda1dc9d7d3"
      },
      "execution_count": 16,
      "outputs": [
        {
          "output_type": "execute_result",
          "data": {
            "text/plain": [
              "RangeIndex(start=0, stop=8, step=1)"
            ]
          },
          "metadata": {},
          "execution_count": 16
        }
      ]
    },
    {
      "cell_type": "code",
      "source": [
        "from os import sched_rr_get_interval\n",
        "# Create your own index\n",
        "\n",
        "new_index = ['i','ii','iii','iv']\n",
        "s_ran = pd.Series(np.random.rand(4), index = new_index)\n",
        "print(s_ran)\n",
        "s_ran.index"
      ],
      "metadata": {
        "colab": {
          "base_uri": "https://localhost:8080/"
        },
        "id": "nRVpj7TOuVzq",
        "outputId": "8940ba5d-5b95-459e-a7c6-dc86189d6536"
      },
      "execution_count": 17,
      "outputs": [
        {
          "output_type": "stream",
          "name": "stdout",
          "text": [
            "i      0.079332\n",
            "ii     0.947485\n",
            "iii    0.047413\n",
            "iv     0.229198\n",
            "dtype: float64\n"
          ]
        },
        {
          "output_type": "execute_result",
          "data": {
            "text/plain": [
              "Index(['i', 'ii', 'iii', 'iv'], dtype='object')"
            ]
          },
          "metadata": {},
          "execution_count": 17
        }
      ]
    },
    {
      "cell_type": "markdown",
      "source": [
        "# 2.3 Selecting and Slincing\n",
        "Rember thet series are one-dimensional objects, so we only need one number to identify an element."
      ],
      "metadata": {
        "id": "iTLuPpm3urZy"
      }
    },
    {
      "cell_type": "code",
      "source": [
        "# Selecting one value\n",
        "\n",
        "print('The first element of s_num:', s_num[0])\n",
        "print('The first element of s_ran:', s_ran[0])\n",
        "print('The first element of s_ran:', s_ran['i'])"
      ],
      "metadata": {
        "colab": {
          "base_uri": "https://localhost:8080/"
        },
        "id": "WscgoV8QuXLD",
        "outputId": "243f30fc-c008-470d-9e33-ca48a946e1f9"
      },
      "execution_count": 18,
      "outputs": [
        {
          "output_type": "stream",
          "name": "stdout",
          "text": [
            "The first element of s_num: 0.8588762375221634\n",
            "The first element of s_ran: 0.07933162398904314\n",
            "The first element of s_ran: 0.07933162398904314\n"
          ]
        }
      ]
    },
    {
      "cell_type": "code",
      "source": [
        "# Selecting one value \n",
        "\n",
        "s_num[[5,7]]"
      ],
      "metadata": {
        "colab": {
          "base_uri": "https://localhost:8080/"
        },
        "id": "1OEet6uKuxYS",
        "outputId": "f3a58d56-c646-415f-a29f-bc51df1aeab8"
      },
      "execution_count": 19,
      "outputs": [
        {
          "output_type": "execute_result",
          "data": {
            "text/plain": [
              "5    0.310088\n",
              "7    0.350017\n",
              "dtype: float64"
            ]
          },
          "metadata": {},
          "execution_count": 19
        }
      ]
    },
    {
      "cell_type": "code",
      "source": [
        "# Selecting more than one value\n",
        "\n",
        "s_ran[['i','iv']] #This selects the 1st and 4th element"
      ],
      "metadata": {
        "colab": {
          "base_uri": "https://localhost:8080/"
        },
        "id": "dqFn75uxu4Ya",
        "outputId": "22a5599b-0f56-40bc-dda3-60e451a7a2ad"
      },
      "execution_count": 20,
      "outputs": [
        {
          "output_type": "execute_result",
          "data": {
            "text/plain": [
              "i     0.079332\n",
              "iv    0.229198\n",
              "dtype: float64"
            ]
          },
          "metadata": {},
          "execution_count": 20
        }
      ]
    },
    {
      "cell_type": "code",
      "source": [
        "# Selecting a sequence of values\n",
        "\n",
        "print(s_num[:3])"
      ],
      "metadata": {
        "colab": {
          "base_uri": "https://localhost:8080/"
        },
        "id": "YxDM1OTsvBuC",
        "outputId": "75f0ec8c-5d98-4e15-a6d0-fed8299347c4"
      },
      "execution_count": 21,
      "outputs": [
        {
          "output_type": "stream",
          "name": "stdout",
          "text": [
            "0    0.858876\n",
            "1    0.473338\n",
            "2    0.057746\n",
            "dtype: float64\n"
          ]
        }
      ]
    },
    {
      "cell_type": "code",
      "source": [
        "# Change a value\n",
        "\n",
        "s_num[0] = 100 # C\n",
        "print(s_num)"
      ],
      "metadata": {
        "colab": {
          "base_uri": "https://localhost:8080/"
        },
        "id": "Oo1trdVQvEQ7",
        "outputId": "ebf188fc-c0a8-442a-eb43-e162852024a7"
      },
      "execution_count": 22,
      "outputs": [
        {
          "output_type": "stream",
          "name": "stdout",
          "text": [
            "0    100.000000\n",
            "1      0.473338\n",
            "2      0.057746\n",
            "3      0.226075\n",
            "4      0.203599\n",
            "5      0.310088\n",
            "6      0.344325\n",
            "7      0.350017\n",
            "dtype: float64\n"
          ]
        }
      ]
    },
    {
      "cell_type": "markdown",
      "source": [
        "# 2.4. Operations"
      ],
      "metadata": {
        "id": "qTSflCCLvTFb"
      }
    },
    {
      "cell_type": "code",
      "source": [
        "# Basic operations - element wise\n",
        "\n",
        "## Addition\n",
        "s_num + 2\n",
        "\n",
        "## Substraction\n",
        "s_num - 3 \n",
        "\n",
        "## Multiplication\n",
        "s_num * 4\n",
        "\n",
        "## Division\n",
        "s_num / 5\n",
        "\n",
        "## Exponentiation\n",
        "s_num  ** 2\n",
        "\n",
        "## Special\n",
        "np.exp(s_num)\n",
        "np.log(s_num)"
      ],
      "metadata": {
        "colab": {
          "base_uri": "https://localhost:8080/"
        },
        "id": "czTqzZqYvWpi",
        "outputId": "60a6f70e-d022-45ba-8978-3fffd3c20e0f"
      },
      "execution_count": 23,
      "outputs": [
        {
          "output_type": "execute_result",
          "data": {
            "text/plain": [
              "0    4.605170\n",
              "1   -0.747946\n",
              "2   -2.851701\n",
              "3   -1.486889\n",
              "4   -1.591603\n",
              "5   -1.170899\n",
              "6   -1.066169\n",
              "7   -1.049773\n",
              "dtype: float64"
            ]
          },
          "metadata": {},
          "execution_count": 23
        }
      ]
    },
    {
      "cell_type": "markdown",
      "source": [
        "# 3.1. Indexing Pandas TimeSeries"
      ],
      "metadata": {
        "id": "bbUU8koXvb-s"
      }
    },
    {
      "cell_type": "code",
      "source": [
        "# Create a date range\n",
        "\n",
        "pd.date_range(start = '01/01/2022', end = '28/09/2022')"
      ],
      "metadata": {
        "colab": {
          "base_uri": "https://localhost:8080/"
        },
        "id": "r06IMVeivaWr",
        "outputId": "d9e900e7-7ab6-40e1-e5ca-98f208c57415"
      },
      "execution_count": 24,
      "outputs": [
        {
          "output_type": "execute_result",
          "data": {
            "text/plain": [
              "DatetimeIndex(['2022-01-01', '2022-01-02', '2022-01-03', '2022-01-04',\n",
              "               '2022-01-05', '2022-01-06', '2022-01-07', '2022-01-08',\n",
              "               '2022-01-09', '2022-01-10',\n",
              "               ...\n",
              "               '2022-09-19', '2022-09-20', '2022-09-21', '2022-09-22',\n",
              "               '2022-09-23', '2022-09-24', '2022-09-25', '2022-09-26',\n",
              "               '2022-09-27', '2022-09-28'],\n",
              "              dtype='datetime64[ns]', length=271, freq='D')"
            ]
          },
          "metadata": {},
          "execution_count": 24
        }
      ]
    },
    {
      "cell_type": "code",
      "source": [
        "# Create a date range\n",
        "\n",
        "pd.date_range(start = '01/01/2022', periods = 35)"
      ],
      "metadata": {
        "colab": {
          "base_uri": "https://localhost:8080/"
        },
        "id": "0oGvMYhGvhfL",
        "outputId": "98365692-f03c-4d78-dbe1-e4810a6d1ba2"
      },
      "execution_count": 25,
      "outputs": [
        {
          "output_type": "execute_result",
          "data": {
            "text/plain": [
              "DatetimeIndex(['2022-01-01', '2022-01-02', '2022-01-03', '2022-01-04',\n",
              "               '2022-01-05', '2022-01-06', '2022-01-07', '2022-01-08',\n",
              "               '2022-01-09', '2022-01-10', '2022-01-11', '2022-01-12',\n",
              "               '2022-01-13', '2022-01-14', '2022-01-15', '2022-01-16',\n",
              "               '2022-01-17', '2022-01-18', '2022-01-19', '2022-01-20',\n",
              "               '2022-01-21', '2022-01-22', '2022-01-23', '2022-01-24',\n",
              "               '2022-01-25', '2022-01-26', '2022-01-27', '2022-01-28',\n",
              "               '2022-01-29', '2022-01-30', '2022-01-31', '2022-02-01',\n",
              "               '2022-02-02', '2022-02-03', '2022-02-04'],\n",
              "              dtype='datetime64[ns]', freq='D')"
            ]
          },
          "metadata": {},
          "execution_count": 25
        }
      ]
    },
    {
      "cell_type": "code",
      "source": [
        "# Create a date range\n",
        "\n",
        "pd.date_range(end = '28/09/2022', periods = 21, freq = 'D')"
      ],
      "metadata": {
        "colab": {
          "base_uri": "https://localhost:8080/"
        },
        "id": "BDhyK64Xvthj",
        "outputId": "d2b57622-dccf-48d7-f77f-b29808098d5b"
      },
      "execution_count": 26,
      "outputs": [
        {
          "output_type": "execute_result",
          "data": {
            "text/plain": [
              "DatetimeIndex(['2022-09-08', '2022-09-09', '2022-09-10', '2022-09-11',\n",
              "               '2022-09-12', '2022-09-13', '2022-09-14', '2022-09-15',\n",
              "               '2022-09-16', '2022-09-17', '2022-09-18', '2022-09-19',\n",
              "               '2022-09-20', '2022-09-21', '2022-09-22', '2022-09-23',\n",
              "               '2022-09-24', '2022-09-25', '2022-09-26', '2022-09-27',\n",
              "               '2022-09-28'],\n",
              "              dtype='datetime64[ns]', freq='D')"
            ]
          },
          "metadata": {},
          "execution_count": 26
        }
      ]
    },
    {
      "cell_type": "markdown",
      "source": [
        "If i need a different frequency:\n",
        "\n",
        "* H - hourly\n",
        "* M - end of the month\n",
        "* MS - Start of the month\n",
        "* XM - 2M\n",
        "* XMS - 2MS\n",
        "* Q - end of the quarter\n",
        "* QS - Start of the quarter\n",
        "* A or Y - end of the year\n",
        "* As or Ys - Start of the year"
      ],
      "metadata": {
        "id": "4klc3rB7v7PK"
      }
    },
    {
      "cell_type": "code",
      "source": [
        "pd.date_range(start = '28/09/2022', periods = 37, freq = 'M')"
      ],
      "metadata": {
        "colab": {
          "base_uri": "https://localhost:8080/"
        },
        "id": "xa2tKSpiwAPK",
        "outputId": "ced2a0ce-4b2b-43b4-86b3-9d1ad6b37708"
      },
      "execution_count": 27,
      "outputs": [
        {
          "output_type": "execute_result",
          "data": {
            "text/plain": [
              "DatetimeIndex(['2022-09-30', '2022-10-31', '2022-11-30', '2022-12-31',\n",
              "               '2023-01-31', '2023-02-28', '2023-03-31', '2023-04-30',\n",
              "               '2023-05-31', '2023-06-30', '2023-07-31', '2023-08-31',\n",
              "               '2023-09-30', '2023-10-31', '2023-11-30', '2023-12-31',\n",
              "               '2024-01-31', '2024-02-29', '2024-03-31', '2024-04-30',\n",
              "               '2024-05-31', '2024-06-30', '2024-07-31', '2024-08-31',\n",
              "               '2024-09-30', '2024-10-31', '2024-11-30', '2024-12-31',\n",
              "               '2025-01-31', '2025-02-28', '2025-03-31', '2025-04-30',\n",
              "               '2025-05-31', '2025-06-30', '2025-07-31', '2025-08-31',\n",
              "               '2025-09-30'],\n",
              "              dtype='datetime64[ns]', freq='M')"
            ]
          },
          "metadata": {},
          "execution_count": 27
        }
      ]
    },
    {
      "cell_type": "markdown",
      "source": [
        "# 3.2. Assign a time-series index"
      ],
      "metadata": {
        "id": "pmSJVMpEwKva"
      }
    },
    {
      "cell_type": "code",
      "source": [
        "# Create a Series \n",
        "#How do Iget append or assign dates?\n",
        "my_dates = pd.date_range(start = '26/09/2022', end = '30/09/2022')\n",
        "\n",
        "s_sales = pd.Series(np.random.randint(low = 100, high = 300, size = 5)) # this is the data for sales\n",
        "\n",
        "s_sales = pd.Series (s_sales, index = my_dates)\n",
        "print(s_sales)"
      ],
      "metadata": {
        "colab": {
          "base_uri": "https://localhost:8080/"
        },
        "id": "EBo4ldHGwIWC",
        "outputId": "f1f49209-2ea3-4549-c808-783edfab1f0a"
      },
      "execution_count": 28,
      "outputs": [
        {
          "output_type": "stream",
          "name": "stdout",
          "text": [
            "2022-09-26   NaN\n",
            "2022-09-27   NaN\n",
            "2022-09-28   NaN\n",
            "2022-09-29   NaN\n",
            "2022-09-30   NaN\n",
            "Freq: D, dtype: float64\n"
          ]
        }
      ]
    },
    {
      "cell_type": "markdown",
      "source": [
        "## 4. PRACTICAL CASE"
      ],
      "metadata": {
        "id": "vrY7q3HewSDF"
      }
    },
    {
      "cell_type": "markdown",
      "source": [
        "# 4.1. Simulation \n",
        "\n",
        "A simulation is a model to replicate an event.\n",
        "\n",
        "One of the key term is *paths* of the smiluation."
      ],
      "metadata": {
        "id": "DTgPt8hVr6Ds"
      }
    },
    {
      "cell_type": "markdown",
      "source": [
        "## 4.2. Creating the simulation\n",
        "\n",
        "A simulation of the price of a financial asset.\n",
        "\n",
        "To do this, we need:\n",
        "\n",
        "* First, create the dates:"
      ],
      "metadata": {
        "id": "fo5bOGZlr8yM"
      }
    },
    {
      "cell_type": "code",
      "source": [
        "# Daily date from 2021 to update\n",
        "\n",
        "## This line saves the current date with a given format\n",
        "\n",
        "td = pd.to_datetime(\"today\").strftime(\"%m/%d/%y\")\n",
        "\n",
        "## Create the date range \n",
        "dr = pd.date_range(start = \"01/01/2021\", end = td) \n",
        "\n",
        "## Number od dates \n",
        "nd = len(dr)"
      ],
      "metadata": {
        "id": "ogsqOQtvsipM"
      },
      "execution_count": 8,
      "outputs": []
    },
    {
      "cell_type": "markdown",
      "source": [
        "* Second, simulate the price (do not worry about the formula)"
      ],
      "metadata": {
        "id": "r7cs30OYsk4s"
      }
    },
    {
      "cell_type": "code",
      "source": [
        "# Price with returns N(mu, sigma^2)¨\n",
        "\n",
        "mu = 0.001; sigma = 0.01\n",
        "r = np.random.normal(mu, sigma, size = nd)\n",
        "\n",
        "## Create the price\n",
        "S1 = np.empty(nd)\n",
        "S1[0] = 100       # intial price \n",
        "\n",
        "for i in range(1,nd):\n",
        " S1[i] = S1[i-1]*np.exp(r[i])"
      ],
      "metadata": {
        "id": "hXkjuUNywt3_"
      },
      "execution_count": 29,
      "outputs": []
    },
    {
      "cell_type": "markdown",
      "source": [
        "* Convert S1 to a time-Series object:"
      ],
      "metadata": {
        "id": "z7SogfLCw24x"
      }
    },
    {
      "cell_type": "code",
      "source": [
        "# Convert S1\n",
        "\n",
        "S1 = pd.Series(S1, index = dr)\n",
        "S1.head(5)"
      ],
      "metadata": {
        "colab": {
          "base_uri": "https://localhost:8080/"
        },
        "id": "4q8ksY5zsDBM",
        "outputId": "3ac6f66d-3266-4970-e531-75bbbd61a02e"
      },
      "execution_count": 30,
      "outputs": [
        {
          "output_type": "execute_result",
          "data": {
            "text/plain": [
              "2021-01-01    100.000000\n",
              "2021-01-02    100.625857\n",
              "2021-01-03     99.122085\n",
              "2021-01-04     98.200807\n",
              "2021-01-05     99.043883\n",
              "Freq: D, dtype: float64"
            ]
          },
          "metadata": {},
          "execution_count": 30
        }
      ]
    },
    {
      "cell_type": "code",
      "source": [
        "# This a library to graphic\n",
        "import matplotlib.pyplot as plt"
      ],
      "metadata": {
        "id": "Tjn5yTR6w6sr"
      },
      "execution_count": 31,
      "outputs": []
    },
    {
      "cell_type": "code",
      "source": [
        "plt.plot(S1)\n",
        "plt.show()"
      ],
      "metadata": {
        "colab": {
          "base_uri": "https://localhost:8080/",
          "height": 265
        },
        "id": "LCpXica4w9xb",
        "outputId": "adfb8176-48b4-4ed9-993c-0d45d99a1c6f"
      },
      "execution_count": 32,
      "outputs": [
        {
          "output_type": "display_data",
          "data": {
            "text/plain": [
              "<Figure size 432x288 with 1 Axes>"
            ],
            "image/png": "[encoded data removed]"
          },
          "metadata": {
            "needs_background": "light"
          }
        }
      ]
    },
    {
      "cell_type": "markdown",
      "source": [
        "So, we are going to use \"plotly\""
      ],
      "metadata": {
        "id": "PEJTaqaMpNe8"
      }
    },
    {
      "cell_type": "code",
      "source": [
        "# Import library\n",
        "import plotly.express as px\n"
      ],
      "metadata": {
        "id": "i3v8ag31pmpz"
      },
      "execution_count": 13,
      "outputs": []
    },
    {
      "cell_type": "code",
      "source": [
        "fig = px.line(S1, title = 'Financial Asset')\n",
        "fig.show()\n"
      ],
      "metadata": {
        "colab": {
          "base_uri": "https://localhost:8080/",
          "height": 542
        },
        "id": "E_kI0ARQp3y9",
        "outputId": "2be5c19a-f1c6-496f-dff6-1ef0b84dc931"
      },
      "execution_count": 33,
      "outputs": [
        {
          "output_type": "display_data",
          "data": {
            "text/html": [
              "<html>\n",
              "<head><meta charset=\"utf-8\" /></head>\n",
              "<body>\n",
              "    <div>            <script src=\"https://cdnjs.cloudflare.com/ajax/libs/mathjax/2.7.5/MathJax.js?config=TeX-AMS-MML_SVG\"></script><script type=\"text/javascript\">if (window.MathJax) {MathJax.Hub.Config({SVG: {font: \"STIX-Web\"}});}</script>                <script type=\"text/javascript\">window.PlotlyConfig = {MathJaxConfig: 'local'};</script>\n",
              "        <script src=\"https://cdn.plot.ly/plotly-2.8.3.min.js\"></script>                <div id=\"749ee56e-4c4c-455b-b4e3-f19565e6dfb2\" class=\"plotly-graph-div\" style=\"height:525px; width:100%;\"></div>            <script type=\"text/javascript\">                                    window.PLOTLYENV=window.PLOTLYENV || {};                                    if (document.getElementById(\"749ee56e-4c4c-455b-b4e3-f19565e6dfb2\")) {                    Plotly.newPlot(                        \"749ee56e-4c4c-455b-b4e3-f19565e6dfb2\",                        [{\"hovertemplate\":\"variable=0<br>index=%{x}<br>value=%{y}<extra></extra>\",\"legendgroup\":\"0\",\"line\":{\"color\":\"#636efa\",\"dash\":\"solid\"},\"marker\":{\"symbol\":\"circle\"},\"mode\":\"lines\",\"name\":\"0\",\"orientation\":\"v\",\"showlegend\":true,\"x\":[\"2021-01-01T00:00:00\",\"2021-01-02T00:00:00\",\"2021-01-03T00:00:00\",\"2021-01-04T00:00:00\",\"2021-01-05T00:00:00\",\"2021-01-06T00:00:00\",\"2021-01-07T00:00:00\",\"2021-01-08T00:00:00\",\"2021-01-09T00:00:00\",\"2021-01-10T00:00:00\",\"2021-01-11T00:00:00\",\"2021-01-12T00:00:00\",\"2021-01-13T00:00:00\",\"2021-01-14T00:00:00\",\"2021-01-15T00:00:00\",\"2021-01-16T00:00:00\",\"2021-01-17T00:00:00\",\"2021-01-18T00:00:00\",\"2021-01-19T00:00:00\",\"2021-01-20T00:00:00\",\"2021-01-21T00:00:00\",\"2021-01-22T00:00:00\",\"2021-01-23T00:00:00\",\"2021-01-24T00:00:00\",\"2021-01-25T00:00:00\",\"2021-01-26T00:00:00\",\"2021-01-27T00:00:00\",\"2021-01-28T00:00:00\",\"2021-01-29T00:00:00\",\"2021-01-30T00:00:00\",\"2021-01-31T00:00:00\",\"2021-02-01T00:00:00\",\"2021-02-02T00:00:00\",\"2021-02-03T00:00:00\",\"2021-02-04T00:00:00\",\"2021-02-05T00:00:00\",\"2021-02-06T00:00:00\",\"2021-02-07T00:00:00\",\"2021-02-08T00:00:00\",\"2021-02-09T00:00:00\",\"2021-02-10T00:00:00\",\"2021-02-11T00:00:00\",\"2021-02-12T00:00:00\",\"2021-02-13T00:00:00\",\"2021-02-14T00:00:00\",\"2021-02-15T00:00:00\",\"2021-02-16T00:00:00\",\"2021-02-17T00:00:00\",\"2021-02-18T00:00:00\",\"2021-02-19T00:00:00\",\"2021-02-20T00:00:00\",\"2021-02-21T00:00:00\",\"2021-02-22T00:00:00\",\"2021-02-23T00:00:00\",\"2021-02-24T00:00:00\",\"2021-02-25T00:00:00\",\"2021-02-26T00:00:00\",\"2021-02-27T00:00:00\",\"2021-02-28T00:00:00\",\"2021-03-01T00:00:00\",\"2021-03-02T00:00:00\",\"2021-03-03T00:00:00\",\"2021-03-04T00:00:00\",\"2021-03-05T00:00:00\",\"2021-03-06T00:00:00\",\"2021-03-07T00:00:00\",\"2021-03-08T00:00:00\",\"2021-03-09T00:00:00\",\"2021-03-10T00:00:00\",\"2021-03-11T00:00:00\",\"2021-03-12T00:00:00\",\"2021-03-13T00:00:00\",\"2021-03-14T00:00:00\",\"2021-03-15T00:00:00\",\"2021-03-16T00:00:00\",\"2021-03-17T00:00:00\",\"2021-03-18T00:00:00\",\"2021-03-19T00:00:00\",\"2021-03-20T00:00:00\",\"2021-03-21T00:00:00\",\"2021-03-22T00:00:00\",\"2021-03-23T00:00:00\",\"2021-03-24T00:00:00\",\"2021-03-25T00:00:00\",\"2021-03-26T00:00:00\",\"2021-03-27T00:00:00\",\"2021-03-28T00:00:00\",\"2021-03-29T00:00:00\",\"2021-03-30T00:00:00\",\"2021-03-31T00:00:00\",\"2021-04-01T00:00:00\",\"2021-04-02T00:00:00\",\"2021-04-03T00:00:00\",\"2021-04-04T00:00:00\",\"2021-04-05T00:00:00\",\"2021-04-06T00:00:00\",\"2021-04-07T00:00:00\",\"2021-04-08T00:00:00\",\"2021-04-09T00:00:00\",\"2021-04-10T00:00:00\",\"2021-04-11T00:00:00\",\"2021-04-12T00:00:00\",\"2021-04-13T00:00:00\",\"2021-04-14T00:00:00\",\"2021-04-15T00:00:00\",\"2021-04-16T00:00:00\",\"2021-04-17T00:00:00\",\"2021-04-18T00:00:00\",\"2021-04-19T00:00:00\",\"2021-04-20T00:00:00\",\"2021-04-21T00:00:00\",\"2021-04-22T00:00:00\",\"2021-04-23T00:00:00\",\"2021-04-24T00:00:00\",\"2021-04-25T00:00:00\",\"2021-04-26T00:00:00\",\"2021-04-27T00:00:00\",\"2021-04-28T00:00:00\",\"2021-04-29T00:00:00\",\"2021-04-30T00:00:00\",\"2021-05-01T00:00:00\",\"2021-05-02T00:00:00\",\"2021-05-03T00:00:00\",\"2021-05-04T00:00:00\",\"2021-05-05T00:00:00\",\"2021-05-06T00:00:00\",\"2021-05-07T00:00:00\",\"2021-05-08T00:00:00\",\"2021-05-09T00:00:00\",\"2021-05-10T00:00:00\",\"2021-05-11T00:00:00\",\"2021-05-12T00:00:00\",\"2021-05-13T00:00:00\",\"2021-05-14T00:00:00\",\"2021-05-15T00:00:00\",\"2021-05-16T00:00:00\",\"2021-05-17T00:00:00\",\"2021-05-18T00:00:00\",\"2021-05-19T00:00:00\",\"2021-05-20T00:00:00\",\"2021-05-21T00:00:00\",\"2021-05-22T00:00:00\",\"2021-05-23T00:00:00\",\"2021-05-24T00:00:00\",\"2021-05-25T00:00:00\",\"2021-05-26T00:00:00\",\"2021-05-27T00:00:00\",\"2021-05-28T00:00:00\",\"2021-05-29T00:00:00\",\"2021-05-30T00:00:00\",\"2021-05-31T00:00:00\",\"2021-06-01T00:00:00\",\"2021-06-02T00:00:00\",\"2021-06-03T00:00:00\",\"2021-06-04T00:00:00\",\"2021-06-05T00:00:00\",\"2021-06-06T00:00:00\",\"2021-06-07T00:00:00\",\"2021-06-08T00:00:00\",\"2021-06-09T00:00:00\",\"2021-06-10T00:00:00\",\"2021-06-11T00:00:00\",\"2021-06-12T00:00:00\",\"2021-06-13T00:00:00\",\"2021-06-14T00:00:00\",\"2021-06-15T00:00:00\",\"2021-06-16T00:00:00\",\"2021-06-17T00:00:00\",\"2021-06-18T00:00:00\",\"2021-06-19T00:00:00\",\"2021-06-20T00:00:00\",\"2021-06-21T00:00:00\",\"2021-06-22T00:00:00\",\"2021-06-23T00:00:00\",\"2021-06-24T00:00:00\",\"2021-06-25T00:00:00\",\"2021-06-26T00:00:00\",\"2021-06-27T00:00:00\",\"2021-06-28T00:00:00\",\"2021-06-29T00:00:00\",\"2021-06-30T00:00:00\",\"2021-07-01T00:00:00\",\"2021-07-02T00:00:00\",\"2021-07-03T00:00:00\",\"2021-07-04T00:00:00\",\"2021-07-05T00:00:00\",\"2021-07-06T00:00:00\",\"2021-07-07T00:00:00\",\"2021-07-08T00:00:00\",\"2021-07-09T00:00:00\",\"2021-07-10T00:00:00\",\"2021-07-11T00:00:00\",\"2021-07-12T00:00:00\",\"2021-07-13T00:00:00\",\"2021-07-14T00:00:00\",\"2021-07-15T00:00:00\",\"2021-07-16T00:00:00\",\"2021-07-17T00:00:00\",\"2021-07-18T00:00:00\",\"2021-07-19T00:00:00\",\"2021-07-20T00:00:00\",\"2021-07-21T00:00:00\",\"2021-07-22T00:00:00\",\"2021-07-23T00:00:00\",\"2021-07-24T00:00:00\",\"2021-07-25T00:00:00\",\"2021-07-26T00:00:00\",\"2021-07-27T00:00:00\",\"2021-07-28T00:00:00\",\"2021-07-29T00:00:00\",\"2021-07-30T00:00:00\",\"2021-07-31T00:00:00\",\"2021-08-01T00:00:00\",\"2021-08-02T00:00:00\",\"2021-08-03T00:00:00\",\"2021-08-04T00:00:00\",\"2021-08-05T00:00:00\",\"2021-08-06T00:00:00\",\"2021-08-07T00:00:00\",\"2021-08-08T00:00:00\",\"2021-08-09T00:00:00\",\"2021-08-10T00:00:00\",\"2021-08-11T00:00:00\",\"2021-08-12T00:00:00\",\"2021-08-13T00:00:00\",\"2021-08-14T00:00:00\",\"2021-08-15T00:00:00\",\"2021-08-16T00:00:00\",\"2021-08-17T00:00:00\",\"2021-08-18T00:00:00\",\"2021-08-19T00:00:00\",\"2021-08-20T00:00:00\",\"2021-08-21T00:00:00\",\"2021-08-22T00:00:00\",\"2021-08-23T00:00:00\",\"2021-08-24T00:00:00\",\"2021-08-25T00:00:00\",\"2021-08-26T00:00:00\",\"2021-08-27T00:00:00\",\"2021-08-28T00:00:00\",\"2021-08-29T00:00:00\",\"2021-08-30T00:00:00\",\"2021-08-31T00:00:00\",\"2021-09-01T00:00:00\",\"2021-09-02T00:00:00\",\"2021-09-03T00:00:00\",\"2021-09-04T00:00:00\",\"2021-09-05T00:00:00\",\"2021-09-06T00:00:00\",\"2021-09-07T00:00:00\",\"2021-09-08T00:00:00\",\"2021-09-09T00:00:00\",\"2021-09-10T00:00:00\",\"2021-09-11T00:00:00\",\"2021-09-12T00:00:00\",\"2021-09-13T00:00:00\",\"2021-09-14T00:00:00\",\"2021-09-15T00:00:00\",\"2021-09-16T00:00:00\",\"2021-09-17T00:00:00\",\"2021-09-18T00:00:00\",\"2021-09-19T00:00:00\",\"2021-09-20T00:00:00\",\"2021-09-21T00:00:00\",\"2021-09-22T00:00:00\",\"2021-09-23T00:00:00\",\"2021-09-24T00:00:00\",\"2021-09-25T00:00:00\",\"2021-09-26T00:00:00\",\"2021-09-27T00:00:00\",\"2021-09-28T00:00:00\",\"2021-09-29T00:00:00\",\"2021-09-30T00:00:00\",\"2021-10-01T00:00:00\",\"2021-10-02T00:00:00\",\"2021-10-03T00:00:00\",\"2021-10-04T00:00:00\",\"2021-10-05T00:00:00\",\"2021-10-06T00:00:00\",\"2021-10-07T00:00:00\",\"2021-10-08T00:00:00\",\"2021-10-09T00:00:00\",\"2021-10-10T00:00:00\",\"2021-10-11T00:00:00\",\"2021-10-12T00:00:00\",\"2021-10-13T00:00:00\",\"2021-10-14T00:00:00\",\"2021-10-15T00:00:00\",\"2021-10-16T00:00:00\",\"2021-10-17T00:00:00\",\"2021-10-18T00:00:00\",\"2021-10-19T00:00:00\",\"2021-10-20T00:00:00\",\"2021-10-21T00:00:00\",\"2021-10-22T00:00:00\",\"2021-10-23T00:00:00\",\"2021-10-24T00:00:00\",\"2021-10-25T00:00:00\",\"2021-10-26T00:00:00\",\"2021-10-27T00:00:00\",\"2021-10-28T00:00:00\",\"2021-10-29T00:00:00\",\"2021-10-30T00:00:00\",\"2021-10-31T00:00:00\",\"2021-11-01T00:00:00\",\"2021-11-02T00:00:00\",\"2021-11-03T00:00:00\",\"2021-11-04T00:00:00\",\"2021-11-05T00:00:00\",\"2021-11-06T00:00:00\",\"2021-11-07T00:00:00\",\"2021-11-08T00:00:00\",\"2021-11-09T00:00:00\",\"2021-11-10T00:00:00\",\"2021-11-11T00:00:00\",\"2021-11-12T00:00:00\",\"2021-11-13T00:00:00\",\"2021-11-14T00:00:00\",\"2021-11-15T00:00:00\",\"2021-11-16T00:00:00\",\"2021-11-17T00:00:00\",\"2021-11-18T00:00:00\",\"2021-11-19T00:00:00\",\"2021-11-20T00:00:00\",\"2021-11-21T00:00:00\",\"2021-11-22T00:00:00\",\"2021-11-23T00:00:00\",\"2021-11-24T00:00:00\",\"2021-11-25T00:00:00\",\"2021-11-26T00:00:00\",\"2021-11-27T00:00:00\",\"2021-11-28T00:00:00\",\"2021-11-29T00:00:00\",\"2021-11-30T00:00:00\",\"2021-12-01T00:00:00\",\"2021-12-02T00:00:00\",\"2021-12-03T00:00:00\",\"2021-12-04T00:00:00\",\"2021-12-05T00:00:00\",\"2021-12-06T00:00:00\",\"2021-12-07T00:00:00\",\"2021-12-08T00:00:00\",\"2021-12-09T00:00:00\",\"2021-12-10T00:00:00\",\"2021-12-11T00:00:00\",\"2021-12-12T00:00:00\",\"2021-12-13T00:00:00\",\"2021-12-14T00:00:00\",\"2021-12-15T00:00:00\",\"2021-12-16T00:00:00\",\"2021-12-17T00:00:00\",\"2021-12-18T00:00:00\",\"2021-12-19T00:00:00\",\"2021-12-20T00:00:00\",\"2021-12-21T00:00:00\",\"2021-12-22T00:00:00\",\"2021-12-23T00:00:00\",\"2021-12-24T00:00:00\",\"2021-12-25T00:00:00\",\"2021-12-26T00:00:00\",\"2021-12-27T00:00:00\",\"2021-12-28T00:00:00\",\"2021-12-29T00:00:00\",\"2021-12-30T00:00:00\",\"2021-12-31T00:00:00\",\"2022-01-01T00:00:00\",\"2022-01-02T00:00:00\",\"2022-01-03T00:00:00\",\"2022-01-04T00:00:00\",\"2022-01-05T00:00:00\",\"2022-01-06T00:00:00\",\"2022-01-07T00:00:00\",\"2022-01-08T00:00:00\",\"2022-01-09T00:00:00\",\"2022-01-10T00:00:00\",\"2022-01-11T00:00:00\",\"2022-01-12T00:00:00\",\"2022-01-13T00:00:00\",\"2022-01-14T00:00:00\",\"2022-01-15T00:00:00\",\"2022-01-16T00:00:00\",\"2022-01-17T00:00:00\",\"2022-01-18T00:00:00\",\"2022-01-19T00:00:00\",\"2022-01-20T00:00:00\",\"2022-01-21T00:00:00\",\"2022-01-22T00:00:00\",\"2022-01-23T00:00:00\",\"2022-01-24T00:00:00\",\"2022-01-25T00:00:00\",\"2022-01-26T00:00:00\",\"2022-01-27T00:00:00\",\"2022-01-28T00:00:00\",\"2022-01-29T00:00:00\",\"2022-01-30T00:00:00\",\"2022-01-31T00:00:00\",\"2022-02-01T00:00:00\",\"2022-02-02T00:00:00\",\"2022-02-03T00:00:00\",\"2022-02-04T00:00:00\",\"2022-02-05T00:00:00\",\"2022-02-06T00:00:00\",\"2022-02-07T00:00:00\",\"2022-02-08T00:00:00\",\"2022-02-09T00:00:00\",\"2022-02-10T00:00:00\",\"2022-02-11T00:00:00\",\"2022-02-12T00:00:00\",\"2022-02-13T00:00:00\",\"2022-02-14T00:00:00\",\"2022-02-15T00:00:00\",\"2022-02-16T00:00:00\",\"2022-02-17T00:00:00\",\"2022-02-18T00:00:00\",\"2022-02-19T00:00:00\",\"2022-02-20T00:00:00\",\"2022-02-21T00:00:00\",\"2022-02-22T00:00:00\",\"2022-02-23T00:00:00\",\"2022-02-24T00:00:00\",\"2022-02-25T00:00:00\",\"2022-02-26T00:00:00\",\"2022-02-27T00:00:00\",\"2022-02-28T00:00:00\",\"2022-03-01T00:00:00\",\"2022-03-02T00:00:00\",\"2022-03-03T00:00:00\",\"2022-03-04T00:00:00\",\"2022-03-05T00:00:00\",\"2022-03-06T00:00:00\",\"2022-03-07T00:00:00\",\"2022-03-08T00:00:00\",\"2022-03-09T00:00:00\",\"2022-03-10T00:00:00\",\"2022-03-11T00:00:00\",\"2022-03-12T00:00:00\",\"2022-03-13T00:00:00\",\"2022-03-14T00:00:00\",\"2022-03-15T00:00:00\",\"2022-03-16T00:00:00\",\"2022-03-17T00:00:00\",\"2022-03-18T00:00:00\",\"2022-03-19T00:00:00\",\"2022-03-20T00:00:00\",\"2022-03-21T00:00:00\",\"2022-03-22T00:00:00\",\"2022-03-23T00:00:00\",\"2022-03-24T00:00:00\",\"2022-03-25T00:00:00\",\"2022-03-26T00:00:00\",\"2022-03-27T00:00:00\",\"2022-03-28T00:00:00\",\"2022-03-29T00:00:00\",\"2022-03-30T00:00:00\",\"2022-03-31T00:00:00\",\"2022-04-01T00:00:00\",\"2022-04-02T00:00:00\",\"2022-04-03T00:00:00\",\"2022-04-04T00:00:00\",\"2022-04-05T00:00:00\",\"2022-04-06T00:00:00\",\"2022-04-07T00:00:00\",\"2022-04-08T00:00:00\",\"2022-04-09T00:00:00\",\"2022-04-10T00:00:00\",\"2022-04-11T00:00:00\",\"2022-04-12T00:00:00\",\"2022-04-13T00:00:00\",\"2022-04-14T00:00:00\",\"2022-04-15T00:00:00\",\"2022-04-16T00:00:00\",\"2022-04-17T00:00:00\",\"2022-04-18T00:00:00\",\"2022-04-19T00:00:00\",\"2022-04-20T00:00:00\",\"2022-04-21T00:00:00\",\"2022-04-22T00:00:00\",\"2022-04-23T00:00:00\",\"2022-04-24T00:00:00\",\"2022-04-25T00:00:00\",\"2022-04-26T00:00:00\",\"2022-04-27T00:00:00\",\"2022-04-28T00:00:00\",\"2022-04-29T00:00:00\",\"2022-04-30T00:00:00\",\"2022-05-01T00:00:00\",\"2022-05-02T00:00:00\",\"2022-05-03T00:00:00\",\"2022-05-04T00:00:00\",\"2022-05-05T00:00:00\",\"2022-05-06T00:00:00\",\"2022-05-07T00:00:00\",\"2022-05-08T00:00:00\",\"2022-05-09T00:00:00\",\"2022-05-10T00:00:00\",\"2022-05-11T00:00:00\",\"2022-05-12T00:00:00\",\"2022-05-13T00:00:00\",\"2022-05-14T00:00:00\",\"2022-05-15T00:00:00\",\"2022-05-16T00:00:00\",\"2022-05-17T00:00:00\",\"2022-05-18T00:00:00\",\"2022-05-19T00:00:00\",\"2022-05-20T00:00:00\",\"2022-05-21T00:00:00\",\"2022-05-22T00:00:00\",\"2022-05-23T00:00:00\",\"2022-05-24T00:00:00\",\"2022-05-25T00:00:00\",\"2022-05-26T00:00:00\",\"2022-05-27T00:00:00\",\"2022-05-28T00:00:00\",\"2022-05-29T00:00:00\",\"2022-05-30T00:00:00\",\"2022-05-31T00:00:00\",\"2022-06-01T00:00:00\",\"2022-06-02T00:00:00\",\"2022-06-03T00:00:00\",\"2022-06-04T00:00:00\",\"2022-06-05T00:00:00\",\"2022-06-06T00:00:00\",\"2022-06-07T00:00:00\",\"2022-06-08T00:00:00\",\"2022-06-09T00:00:00\",\"2022-06-10T00:00:00\",\"2022-06-11T00:00:00\",\"2022-06-12T00:00:00\",\"2022-06-13T00:00:00\",\"2022-06-14T00:00:00\",\"2022-06-15T00:00:00\",\"2022-06-16T00:00:00\",\"2022-06-17T00:00:00\",\"2022-06-18T00:00:00\",\"2022-06-19T00:00:00\",\"2022-06-20T00:00:00\",\"2022-06-21T00:00:00\",\"2022-06-22T00:00:00\",\"2022-06-23T00:00:00\",\"2022-06-24T00:00:00\",\"2022-06-25T00:00:00\",\"2022-06-26T00:00:00\",\"2022-06-27T00:00:00\",\"2022-06-28T00:00:00\",\"2022-06-29T00:00:00\",\"2022-06-30T00:00:00\",\"2022-07-01T00:00:00\",\"2022-07-02T00:00:00\",\"2022-07-03T00:00:00\",\"2022-07-04T00:00:00\",\"2022-07-05T00:00:00\",\"2022-07-06T00:00:00\",\"2022-07-07T00:00:00\",\"2022-07-08T00:00:00\",\"2022-07-09T00:00:00\",\"2022-07-10T00:00:00\",\"2022-07-11T00:00:00\",\"2022-07-12T00:00:00\",\"2022-07-13T00:00:00\",\"2022-07-14T00:00:00\",\"2022-07-15T00:00:00\",\"2022-07-16T00:00:00\",\"2022-07-17T00:00:00\",\"2022-07-18T00:00:00\",\"2022-07-19T00:00:00\",\"2022-07-20T00:00:00\",\"2022-07-21T00:00:00\",\"2022-07-22T00:00:00\",\"2022-07-23T00:00:00\",\"2022-07-24T00:00:00\",\"2022-07-25T00:00:00\",\"2022-07-26T00:00:00\",\"2022-07-27T00:00:00\",\"2022-07-28T00:00:00\",\"2022-07-29T00:00:00\",\"2022-07-30T00:00:00\",\"2022-07-31T00:00:00\",\"2022-08-01T00:00:00\",\"2022-08-02T00:00:00\",\"2022-08-03T00:00:00\",\"2022-08-04T00:00:00\",\"2022-08-05T00:00:00\",\"2022-08-06T00:00:00\",\"2022-08-07T00:00:00\",\"2022-08-08T00:00:00\",\"2022-08-09T00:00:00\",\"2022-08-10T00:00:00\",\"2022-08-11T00:00:00\",\"2022-08-12T00:00:00\",\"2022-08-13T00:00:00\",\"2022-08-14T00:00:00\",\"2022-08-15T00:00:00\",\"2022-08-16T00:00:00\",\"2022-08-17T00:00:00\",\"2022-08-18T00:00:00\",\"2022-08-19T00:00:00\",\"2022-08-20T00:00:00\",\"2022-08-21T00:00:00\",\"2022-08-22T00:00:00\",\"2022-08-23T00:00:00\",\"2022-08-24T00:00:00\",\"2022-08-25T00:00:00\",\"2022-08-26T00:00:00\",\"2022-08-27T00:00:00\",\"2022-08-28T00:00:00\",\"2022-08-29T00:00:00\",\"2022-08-30T00:00:00\",\"2022-08-31T00:00:00\",\"2022-09-01T00:00:00\",\"2022-09-02T00:00:00\",\"2022-09-03T00:00:00\",\"2022-09-04T00:00:00\",\"2022-09-05T00:00:00\",\"2022-09-06T00:00:00\",\"2022-09-07T00:00:00\",\"2022-09-08T00:00:00\",\"2022-09-09T00:00:00\",\"2022-09-10T00:00:00\",\"2022-09-11T00:00:00\",\"2022-09-12T00:00:00\",\"2022-09-13T00:00:00\",\"2022-09-14T00:00:00\",\"2022-09-15T00:00:00\",\"2022-09-16T00:00:00\",\"2022-09-17T00:00:00\",\"2022-09-18T00:00:00\",\"2022-09-19T00:00:00\",\"2022-09-20T00:00:00\",\"2022-09-21T00:00:00\",\"2022-09-22T00:00:00\",\"2022-09-23T00:00:00\",\"2022-09-24T00:00:00\",\"2022-09-25T00:00:00\",\"2022-09-26T00:00:00\",\"2022-09-27T00:00:00\",\"2022-09-28T00:00:00\",\"2022-09-29T00:00:00\",\"2022-09-30T00:00:00\",\"2022-10-01T00:00:00\",\"2022-10-02T00:00:00\",\"2022-10-03T00:00:00\",\"2022-10-04T00:00:00\",\"2022-10-05T00:00:00\"],\"xaxis\":\"x\",\"y\":[100.0,100.62585689927815,99.12208480393039,98.20080663483994,99.04388344662587,97.30914578026803,98.18183374635724,98.40116539432188,99.54894757685508,100.3183138306364,100.0857580571797,101.57664610468935,101.42578451008654,101.4856305419983,102.5521557675802,103.40458090790017,103.62431645020763,102.93099674212021,102.52336090058547,102.8704500227884,102.33257818757659,102.3322281509105,101.9474887650368,100.47427223674758,100.02721950114413,98.9887462798023,100.14659759062593,101.46600760319383,102.02387945848287,103.20923148790814,100.72583372535419,100.20516084378274,100.43765573831175,101.25686903389202,99.52617992392267,99.68884138748074,100.40319509483129,99.32782636442533,98.56001584576892,99.30721492056331,98.09954519487341,98.72338566140485,100.13228488693233,98.1662200763404,97.78038782642925,99.89491378631502,99.52496621441884,101.74712149693656,100.2124955589807,101.57305684806646,102.46372944582954,103.0661671892589,101.60573262009926,102.44860733262581,102.8613418661678,103.29976035596518,105.19526646462437,105.79574621646618,103.7746206685445,103.50620894907965,104.02570587400038,103.7846443988573,103.96214990984672,104.15596607953441,103.51054278712411,104.89604713387331,103.56400950365322,104.56024606786217,103.96705757864851,102.96866206697369,101.15684673099355,101.77095250262724,103.46074120833568,101.96042171894598,104.13343633368821,105.45177168922552,105.63551121539473,104.70709376950256,104.41202494681092,104.11774800147117,104.82380054259393,103.04618920715845,102.0002389849175,102.53035567822423,103.44591569816,103.19759705892803,103.4279547350138,103.74256909421331,105.24612282103135,105.76837484243072,105.72591088664804,106.98432046870468,110.14762194070327,110.49366453057176,111.61451562293146,112.28440568878143,113.71505961918245,113.54386627644492,112.63964203258799,113.28067569174108,115.56606298274804,116.26819154059895,115.47305261701808,116.21147784728463,117.53719295786843,121.20362848084189,122.347990649209,123.35127449365064,122.93955556070892,123.45218238023756,124.5877402392569,125.3011022250814,125.64054651362534,126.82778586679711,126.96468302481631,129.72578602954155,130.4522486728613,130.90964954566667,132.50174698034596,133.35785678597276,133.79499310618192,132.71458621710792,132.11967254045365,131.19388653470477,131.57058370537518,131.63868172725145,130.52755987618679,130.9927295171832,131.5462617742569,132.51937179928754,132.0933345803025,132.9177970240931,133.40414037004578,135.43847370543293,133.52174515402933,133.3242355989748,134.76078432647967,138.67439192999134,136.07556145937033,135.86509462173905,137.62699921515258,139.1426169127702,140.05802783991675,139.94861862432504,140.33428243127958,140.50533847103162,141.35597783643667,140.4146959983062,139.79130493318644,137.94565248938542,139.38848242235912,139.5145842551411,139.94581819432378,142.7434232785587,143.5512446366301,144.7563241198915,142.11347256148753,141.45402244340113,139.8734334058684,138.65332037007929,136.68647846147724,137.80748551320454,138.78687582474737,139.64839544114184,140.38062908812785,142.36901463746239,142.2301533656386,141.47161764770868,139.962475867769,142.14094427810764,141.31270684502476,142.63158239158778,142.718725828603,143.7172830410069,145.0795617501166,144.8050313874494,145.1327992795634,146.96368161805148,148.22144298764758,147.6944233308026,150.95228262595433,149.29234063861267,149.8974939790237,151.08389421407992,151.83141857867002,153.15091956711734,154.33278474371664,156.6705145822954,155.69171476651192,153.78755349737776,152.6322341500708,154.8993785645968,153.16832239411673,153.74013501603366,153.74854396509178,153.56613635179556,155.52333874099125,154.02656963415785,156.50040064173697,157.6962784918563,158.62387037349234,157.7766429387689,159.04447685678215,160.5000756668244,159.42340049610473,160.66796279486698,161.09790422318946,161.74132632686423,159.5782558063701,160.45874528450005,163.5002574282131,164.09589586929386,161.65970272951918,163.1407232117456,163.49913079944355,165.36932900671525,167.03710336256094,168.6771836521898,170.69154033613813,173.1612126574686,172.1653946521038,172.78779993586738,172.03063581768885,171.89277240750138,174.78099692042696,178.05941625087894,180.87723115775134,180.17546971111216,181.0908137968364,178.91789662363558,182.81096686855173,182.52644092725836,186.10583531064577,183.4060843672673,183.86499033560438,182.24698361931266,184.40586829992912,185.58601100300035,185.40076605028662,183.90457939638517,185.76990962191363,184.1085791455359,185.1459370847958,184.76468686670626,186.31863634088702,184.4418824971668,186.37005076248278,187.77548338225964,185.0545937495674,186.28191409104753,187.76900883166542,189.728537110802,190.19640134021213,191.9565874879353,193.93644933659334,193.93584232864157,195.29296155969715,193.8576193784221,194.27011409081422,194.90653032821461,195.6197695008276,193.95121107599218,196.79131931803994,198.4044605073873,202.17293126141894,201.8010892994599,199.88554436852684,200.0376813554714,199.77661943717246,196.84415722943606,191.41566307906842,191.66277304757466,193.23251056628092,193.99919535150914,191.38176660796492,191.49930540113286,191.4666834933352,192.17996853522794,192.382176818335,191.06757753578188,193.27497365058338,194.115264968643,194.30531761614026,196.3986652773875,194.86772503349664,194.33439677343947,193.45315962684663,194.05050448319048,193.63171034904397,194.83196126843345,198.51441530844608,199.60921442681547,202.00472057622395,206.44581545338912,210.39955631865817,209.44521284752062,212.0845031532802,215.26825957362846,214.3433903903032,216.49448685053173,216.96766564611167,223.34248725548127,222.60677376948453,219.69004169809946,220.60767150672055,220.57415269941464,217.95180601290932,217.54281193083946,218.549283125835,219.55800329124133,220.72946119517525,222.0739705238697,221.76343793169772,222.44683508988632,218.69309552928593,219.42160213350604,225.48731767242433,228.59984365463552,222.99077954681098,222.33078338786683,221.69565040719291,221.98560282916992,223.1523222843754,221.79833018026437,222.38054979604374,222.51288584195382,221.5423180689953,219.44277793903257,218.71145356294087,218.08133486768315,216.7380622255671,220.42026774561975,219.8342756523841,220.58635953270647,223.07947564994356,224.56690050894457,223.18533841063177,224.99507262612826,227.06252985716378,226.1803521029878,220.73883138650166,220.11508437449228,221.23641597735087,220.95689556098594,223.85670191977144,221.97610441354286,221.40518829445293,221.45589662326617,218.85218883477253,219.88123697256856,222.1185582800479,222.64635351945907,224.91653090372455,226.88683087440148,223.71749806255775,221.7459034697266,222.53763473820058,220.8936444827847,222.6384268575377,227.8236333251308,229.61308898187417,230.24179831907878,228.44203743725794,227.71989555517848,225.05651448465105,224.3478217970259,227.220344588389,225.69074312356227,228.0184440943313,228.9961025234651,228.024500646779,227.47276109969098,228.89237440098353,230.87444674677425,230.04737398339995,232.68318342575705,234.94525688967528,228.48354716740977,223.03544427005366,223.62430726996658,225.2299811201041,227.36233988648507,229.16648640173108,227.40607075993097,227.47628442444875,228.77407317980453,226.90076083428818,224.68022305790737,227.31497982623253,228.3428072298283,228.38576234432395,227.28933531480166,226.93707047346888,225.28514895024756,224.7308406094522,226.64379043923677,227.8751656700045,229.40345378962135,228.67402316489176,228.93874916460544,227.20005723700592,225.37454957700945,227.86969963276601,227.76625350491508,227.55024757123215,231.32458502551523,231.99837944908143,233.752405873122,229.66426846989424,233.38235331389282,233.59214455276663,235.63454631233415,233.50692016589215,233.1671767186578,228.54283888227084,229.7870909168791,227.9555027955065,227.9614183936493,230.62486263085435,231.11932621282176,229.19661696164422,230.0874129023178,232.02058113810912,232.84700757454198,235.4691640661393,231.29706039780575,232.94973895716876,231.20673713066097,229.84050980645972,233.6734546922361,233.18948529739194,239.02418987454422,236.50063090203162,239.66845846719633,238.87750541514293,237.17396918132135,231.4013307472846,230.57887064040744,231.42282744259415,233.3065793908336,234.92377224925352,235.88832635203696,232.9541579829696,235.9954596814536,236.95779048401522,235.98345101920572,240.18055762631863,240.85848295253223,240.94517281120972,239.56401948035958,239.31715501485544,239.20430867564355,237.73766918080193,238.00544144088695,240.06232913624132,239.6216089042849,241.44323231052974,235.6797770930459,230.48994363456745,230.44984094884217,228.23045879436023,227.49492646587092,225.98239300443058,221.18414814542842,221.0623687165063,221.9032465985273,215.6670621025172,214.39216856525974,215.57237425451402,214.85336645808462,216.59029846673093,221.52912103041857,221.62147632518102,222.7332172743951,220.3258035687373,219.65056418601412,215.61593637284955,214.17480507972311,216.14677418910335,219.66559886746236,221.68896576963164,222.79557638876116,228.06480957067558,231.04347174629567,229.53699934835194,228.03241275452902,232.75307673647941,235.96870562704427,235.1941516196601,237.75614855113574,232.12314234218124,234.59265726491407,231.26157052685298,230.55784004016843,234.3044933433573,235.74927783665882,231.43179885771403,235.46648072232068,235.63379061423817,234.5820176210021,229.95527239806358,232.23090116203298,235.9486818009034,234.33709367982644,233.99729557334666,235.2047634390913,235.15191744924556,236.39241287066957,234.73327701805374,235.42223444773157,230.73356896355267,231.71275549485054,232.70168977324767,234.939921964666,231.61015151705408,228.86317950932695,225.38806351838545,224.20744685465232,225.86465168256368,227.0591703513897,228.09944727302948,230.1928955183078,229.73322171810685,232.055520529073,231.73604908860042,229.7819962966849,227.2078056630687,221.55643611207353,221.48118382389785,222.24341322603786,222.00565628032115,223.99643491376537,227.93710695938304,225.74916879298084,221.84388054431028,227.97048511246732,231.31536907578595,230.21006354215083,228.8053959750287,230.40089714850447,229.61966868248825,229.21732832441174,227.76321906792583,230.16089937479296,226.9929664425904,227.85752200645246,222.17832355108254,221.63784246598215,225.4011021742585,225.65776295433994,223.77625637900886,219.43648033070218,221.70822950346897,219.88735675880957,219.9349592267219,218.99396399905416,218.95554466668125,220.05070318439368,220.26840383896004,221.95578703082907,218.9924636118337,218.80441943487992,222.36000707530079,222.3460961775481,224.17399280888435,223.3593959128881,227.29015786273848,227.05636709411428,225.0063586185066,226.09334371127213,223.6125114599426,225.11739633291438,221.32145708787863,221.62583830788918,225.27331730035894,223.896111817683,222.20901850073005,219.2058885231031,217.71890919740767,218.32846674350256,219.26355242340875,221.1311160262258,222.7338488535748,221.5818473326978,224.12013920848275,220.12087129661157,219.77071401503588,218.435341557243,220.2256175465373,220.65575082304653,226.74599643010802,227.54618483595502,229.12016971486514,227.33163195086408,226.58471313773214,229.26173703569864,232.33026110575858,232.03428565827218,232.00901195724913,227.75203386959964,229.26165815231082,226.09518564916257,225.92788331986645,227.76472084966272,229.79064312044483,230.91308058408916,228.58699590379572,232.6479831135112,235.26012192954727,232.64135409618692,233.4747706121944,230.59469825091523,233.04479686016214,239.67135358501721,237.86369513665613,237.10990751989243,239.2544417492949,238.66441280473973,238.69091929069904,240.79417371312465,242.95416375108243,240.89083650242063,244.97940948438287,247.65925972365193,250.93542133283933,252.58082312108613,251.36651396380807,253.0479852999209,251.12856444501773,252.14872917676576,253.62013499233814,250.29997157247183,249.95316752558972,248.62065451406755,248.1725332597721,249.81528258162632,252.7322263023797,252.4460313242746,255.12962800013474,256.1991283914481,258.52646539335984,256.77315126357297,258.0098723138743],\"yaxis\":\"y\",\"type\":\"scatter\"}],                        {\"template\":{\"data\":{\"bar\":[{\"error_x\":{\"color\":\"#2a3f5f\"},\"error_y\":{\"color\":\"#2a3f5f\"},\"marker\":{\"line\":{\"color\":\"#E5ECF6\",\"width\":0.5},\"pattern\":{\"fillmode\":\"overlay\",\"size\":10,\"solidity\":0.2}},\"type\":\"bar\"}],\"barpolar\":[{\"marker\":{\"line\":{\"color\":\"#E5ECF6\",\"width\":0.5},\"pattern\":{\"fillmode\":\"overlay\",\"size\":10,\"solidity\":0.2}},\"type\":\"barpolar\"}],\"carpet\":[{\"aaxis\":{\"endlinecolor\":\"#2a3f5f\",\"gridcolor\":\"white\",\"linecolor\":\"white\",\"minorgridcolor\":\"white\",\"startlinecolor\":\"#2a3f5f\"},\"baxis\":{\"endlinecolor\":\"#2a3f5f\",\"gridcolor\":\"white\",\"linecolor\":\"white\",\"minorgridcolor\":\"white\",\"startlinecolor\":\"#2a3f5f\"},\"type\":\"carpet\"}],\"choropleth\":[{\"colorbar\":{\"outlinewidth\":0,\"ticks\":\"\"},\"type\":\"choropleth\"}],\"contour\":[{\"colorbar\":{\"outlinewidth\":0,\"ticks\":\"\"},\"colorscale\":[[0.0,\"#0d0887\"],[0.1111111111111111,\"#46039f\"],[0.2222222222222222,\"#7201a8\"],[0.3333333333333333,\"#9c179e\"],[0.4444444444444444,\"#bd3786\"],[0.5555555555555556,\"#d8576b\"],[0.6666666666666666,\"#ed7953\"],[0.7777777777777778,\"#fb9f3a\"],[0.8888888888888888,\"#fdca26\"],[1.0,\"#f0f921\"]],\"type\":\"contour\"}],\"contourcarpet\":[{\"colorbar\":{\"outlinewidth\":0,\"ticks\":\"\"},\"type\":\"contourcarpet\"}],\"heatmap\":[{\"colorbar\":{\"outlinewidth\":0,\"ticks\":\"\"},\"colorscale\":[[0.0,\"#0d0887\"],[0.1111111111111111,\"#46039f\"],[0.2222222222222222,\"#7201a8\"],[0.3333333333333333,\"#9c179e\"],[0.4444444444444444,\"#bd3786\"],[0.5555555555555556,\"#d8576b\"],[0.6666666666666666,\"#ed7953\"],[0.7777777777777778,\"#fb9f3a\"],[0.8888888888888888,\"#fdca26\"],[1.0,\"#f0f921\"]],\"type\":\"heatmap\"}],\"heatmapgl\":[{\"colorbar\":{\"outlinewidth\":0,\"ticks\":\"\"},\"colorscale\":[[0.0,\"#0d0887\"],[0.1111111111111111,\"#46039f\"],[0.2222222222222222,\"#7201a8\"],[0.3333333333333333,\"#9c179e\"],[0.4444444444444444,\"#bd3786\"],[0.5555555555555556,\"#d8576b\"],[0.6666666666666666,\"#ed7953\"],[0.7777777777777778,\"#fb9f3a\"],[0.8888888888888888,\"#fdca26\"],[1.0,\"#f0f921\"]],\"type\":\"heatmapgl\"}],\"histogram\":[{\"marker\":{\"pattern\":{\"fillmode\":\"overlay\",\"size\":10,\"solidity\":0.2}},\"type\":\"histogram\"}],\"histogram2d\":[{\"colorbar\":{\"outlinewidth\":0,\"ticks\":\"\"},\"colorscale\":[[0.0,\"#0d0887\"],[0.1111111111111111,\"#46039f\"],[0.2222222222222222,\"#7201a8\"],[0.3333333333333333,\"#9c179e\"],[0.4444444444444444,\"#bd3786\"],[0.5555555555555556,\"#d8576b\"],[0.6666666666666666,\"#ed7953\"],[0.7777777777777778,\"#fb9f3a\"],[0.8888888888888888,\"#fdca26\"],[1.0,\"#f0f921\"]],\"type\":\"histogram2d\"}],\"histogram2dcontour\":[{\"colorbar\":{\"outlinewidth\":0,\"ticks\":\"\"},\"colorscale\":[[0.0,\"#0d0887\"],[0.1111111111111111,\"#46039f\"],[0.2222222222222222,\"#7201a8\"],[0.3333333333333333,\"#9c179e\"],[0.4444444444444444,\"#bd3786\"],[0.5555555555555556,\"#d8576b\"],[0.6666666666666666,\"#ed7953\"],[0.7777777777777778,\"#fb9f3a\"],[0.8888888888888888,\"#fdca26\"],[1.0,\"#f0f921\"]],\"type\":\"histogram2dcontour\"}],\"mesh3d\":[{\"colorbar\":{\"outlinewidth\":0,\"ticks\":\"\"},\"type\":\"mesh3d\"}],\"parcoords\":[{\"line\":{\"colorbar\":{\"outlinewidth\":0,\"ticks\":\"\"}},\"type\":\"parcoords\"}],\"pie\":[{\"automargin\":true,\"type\":\"pie\"}],\"scatter\":[{\"marker\":{\"colorbar\":{\"outlinewidth\":0,\"ticks\":\"\"}},\"type\":\"scatter\"}],\"scatter3d\":[{\"line\":{\"colorbar\":{\"outlinewidth\":0,\"ticks\":\"\"}},\"marker\":{\"colorbar\":{\"outlinewidth\":0,\"ticks\":\"\"}},\"type\":\"scatter3d\"}],\"scattercarpet\":[{\"marker\":{\"colorbar\":{\"outlinewidth\":0,\"ticks\":\"\"}},\"type\":\"scattercarpet\"}],\"scattergeo\":[{\"marker\":{\"colorbar\":{\"outlinewidth\":0,\"ticks\":\"\"}},\"type\":\"scattergeo\"}],\"scattergl\":[{\"marker\":{\"colorbar\":{\"outlinewidth\":0,\"ticks\":\"\"}},\"type\":\"scattergl\"}],\"scattermapbox\":[{\"marker\":{\"colorbar\":{\"outlinewidth\":0,\"ticks\":\"\"}},\"type\":\"scattermapbox\"}],\"scatterpolar\":[{\"marker\":{\"colorbar\":{\"outlinewidth\":0,\"ticks\":\"\"}},\"type\":\"scatterpolar\"}],\"scatterpolargl\":[{\"marker\":{\"colorbar\":{\"outlinewidth\":0,\"ticks\":\"\"}},\"type\":\"scatterpolargl\"}],\"scatterternary\":[{\"marker\":{\"colorbar\":{\"outlinewidth\":0,\"ticks\":\"\"}},\"type\":\"scatterternary\"}],\"surface\":[{\"colorbar\":{\"outlinewidth\":0,\"ticks\":\"\"},\"colorscale\":[[0.0,\"#0d0887\"],[0.1111111111111111,\"#46039f\"],[0.2222222222222222,\"#7201a8\"],[0.3333333333333333,\"#9c179e\"],[0.4444444444444444,\"#bd3786\"],[0.5555555555555556,\"#d8576b\"],[0.6666666666666666,\"#ed7953\"],[0.7777777777777778,\"#fb9f3a\"],[0.8888888888888888,\"#fdca26\"],[1.0,\"#f0f921\"]],\"type\":\"surface\"}],\"table\":[{\"cells\":{\"fill\":{\"color\":\"#EBF0F8\"},\"line\":{\"color\":\"white\"}},\"header\":{\"fill\":{\"color\":\"#C8D4E3\"},\"line\":{\"color\":\"white\"}},\"type\":\"table\"}]},\"layout\":{\"annotationdefaults\":{\"arrowcolor\":\"#2a3f5f\",\"arrowhead\":0,\"arrowwidth\":1},\"autotypenumbers\":\"strict\",\"coloraxis\":{\"colorbar\":{\"outlinewidth\":0,\"ticks\":\"\"}},\"colorscale\":{\"diverging\":[[0,\"#8e0152\"],[0.1,\"#c51b7d\"],[0.2,\"#de77ae\"],[0.3,\"#f1b6da\"],[0.4,\"#fde0ef\"],[0.5,\"#f7f7f7\"],[0.6,\"#e6f5d0\"],[0.7,\"#b8e186\"],[0.8,\"#7fbc41\"],[0.9,\"#4d9221\"],[1,\"#276419\"]],\"sequential\":[[0.0,\"#0d0887\"],[0.1111111111111111,\"#46039f\"],[0.2222222222222222,\"#7201a8\"],[0.3333333333333333,\"#9c179e\"],[0.4444444444444444,\"#bd3786\"],[0.5555555555555556,\"#d8576b\"],[0.6666666666666666,\"#ed7953\"],[0.7777777777777778,\"#fb9f3a\"],[0.8888888888888888,\"#fdca26\"],[1.0,\"#f0f921\"]],\"sequentialminus\":[[0.0,\"#0d0887\"],[0.1111111111111111,\"#46039f\"],[0.2222222222222222,\"#7201a8\"],[0.3333333333333333,\"#9c179e\"],[0.4444444444444444,\"#bd3786\"],[0.5555555555555556,\"#d8576b\"],[0.6666666666666666,\"#ed7953\"],[0.7777777777777778,\"#fb9f3a\"],[0.8888888888888888,\"#fdca26\"],[1.0,\"#f0f921\"]]},\"colorway\":[\"#636efa\",\"#EF553B\",\"#00cc96\",\"#ab63fa\",\"#FFA15A\",\"#19d3f3\",\"#FF6692\",\"#B6E880\",\"#FF97FF\",\"#FECB52\"],\"font\":{\"color\":\"#2a3f5f\"},\"geo\":{\"bgcolor\":\"white\",\"lakecolor\":\"white\",\"landcolor\":\"#E5ECF6\",\"showlakes\":true,\"showland\":true,\"subunitcolor\":\"white\"},\"hoverlabel\":{\"align\":\"left\"},\"hovermode\":\"closest\",\"mapbox\":{\"style\":\"light\"},\"paper_bgcolor\":\"white\",\"plot_bgcolor\":\"#E5ECF6\",\"polar\":{\"angularaxis\":{\"gridcolor\":\"white\",\"linecolor\":\"white\",\"ticks\":\"\"},\"bgcolor\":\"#E5ECF6\",\"radialaxis\":{\"gridcolor\":\"white\",\"linecolor\":\"white\",\"ticks\":\"\"}},\"scene\":{\"xaxis\":{\"backgroundcolor\":\"#E5ECF6\",\"gridcolor\":\"white\",\"gridwidth\":2,\"linecolor\":\"white\",\"showbackground\":true,\"ticks\":\"\",\"zerolinecolor\":\"white\"},\"yaxis\":{\"backgroundcolor\":\"#E5ECF6\",\"gridcolor\":\"white\",\"gridwidth\":2,\"linecolor\":\"white\",\"showbackground\":true,\"ticks\":\"\",\"zerolinecolor\":\"white\"},\"zaxis\":{\"backgroundcolor\":\"#E5ECF6\",\"gridcolor\":\"white\",\"gridwidth\":2,\"linecolor\":\"white\",\"showbackground\":true,\"ticks\":\"\",\"zerolinecolor\":\"white\"}},\"shapedefaults\":{\"line\":{\"color\":\"#2a3f5f\"}},\"ternary\":{\"aaxis\":{\"gridcolor\":\"white\",\"linecolor\":\"white\",\"ticks\":\"\"},\"baxis\":{\"gridcolor\":\"white\",\"linecolor\":\"white\",\"ticks\":\"\"},\"bgcolor\":\"#E5ECF6\",\"caxis\":{\"gridcolor\":\"white\",\"linecolor\":\"white\",\"ticks\":\"\"}},\"title\":{\"x\":0.05},\"xaxis\":{\"automargin\":true,\"gridcolor\":\"white\",\"linecolor\":\"white\",\"ticks\":\"\",\"title\":{\"standoff\":15},\"zerolinecolor\":\"white\",\"zerolinewidth\":2},\"yaxis\":{\"automargin\":true,\"gridcolor\":\"white\",\"linecolor\":\"white\",\"ticks\":\"\",\"title\":{\"standoff\":15},\"zerolinecolor\":\"white\",\"zerolinewidth\":2}}},\"xaxis\":{\"anchor\":\"y\",\"domain\":[0.0,1.0],\"title\":{\"text\":\"index\"}},\"yaxis\":{\"anchor\":\"x\",\"domain\":[0.0,1.0],\"title\":{\"text\":\"value\"}},\"legend\":{\"title\":{\"text\":\"variable\"},\"tracegroupgap\":0},\"title\":{\"text\":\"Financial Asset\"}},                        {\"responsive\": true}                    ).then(function(){\n",
              "                            \n",
              "var gd = document.getElementById('749ee56e-4c4c-455b-b4e3-f19565e6dfb2');\n",
              "var x = new MutationObserver(function (mutations, observer) {{\n",
              "        var display = window.getComputedStyle(gd).display;\n",
              "        if (!display || display === 'none') {{\n",
              "            console.log([gd, 'removed!']);\n",
              "            Plotly.purge(gd);\n",
              "            observer.disconnect();\n",
              "        }}\n",
              "}});\n",
              "\n",
              "// Listen for the removal of the full notebook cells\n",
              "var notebookContainer = gd.closest('#notebook-container');\n",
              "if (notebookContainer) {{\n",
              "    x.observe(notebookContainer, {childList: true});\n",
              "}}\n",
              "\n",
              "// Listen for the clearing of the current output cell\n",
              "var outputEl = gd.closest('.output');\n",
              "if (outputEl) {{\n",
              "    x.observe(outputEl, {childList: true});\n",
              "}}\n",
              "\n",
              "                        })                };                            </script>        </div>\n",
              "</body>\n",
              "</html>"
            ]
          },
          "metadata": {}
        }
      ]
    },
    {
      "cell_type": "markdown",
      "source": [
        "* This graph is better, but we can pimp it up:\n"
      ],
      "metadata": {
        "id": "YRvO5fYIxSTK"
      }
    },
    {
      "cell_type": "code",
      "source": [
        "fig = px.line(S1).update_layout(showlegend = False)\n",
        "\n",
        "# Title\n",
        "fig.update_layout(title = \"Financial Asset\", \n",
        "                  title_font_size = 21,\n",
        "                  title_x = 0.5)\n",
        "\n",
        "#Axis\n",
        "fig.update_xaxes(title = \"Dates\", title_font_size = 20)\n",
        "fig.update_yaxes(title = \"price\", title_font_size = 20)\n",
        "\n",
        "fig.show()"
      ],
      "metadata": {
        "colab": {
          "base_uri": "https://localhost:8080/",
          "height": 542
        },
        "id": "80veHhqdxQDy",
        "outputId": "7717216f-43a5-4b7d-fdf6-acaa875104aa"
      },
      "execution_count": 34,
      "outputs": [
        {
          "output_type": "display_data",
          "data": {
            "text/html": [
              "<html>\n",
              "<head><meta charset=\"utf-8\" /></head>\n",
              "<body>\n",
              "    <div>            <script src=\"https://cdnjs.cloudflare.com/ajax/libs/mathjax/2.7.5/MathJax.js?config=TeX-AMS-MML_SVG\"></script><script type=\"text/javascript\">if (window.MathJax) {MathJax.Hub.Config({SVG: {font: \"STIX-Web\"}});}</script>                <script type=\"text/javascript\">window.PlotlyConfig = {MathJaxConfig: 'local'};</script>\n",
              "        <script src=\"https://cdn.plot.ly/plotly-2.8.3.min.js\"></script>                <div id=\"93554078-f2e8-4fd6-962b-9d1c0e6cd0e9\" class=\"plotly-graph-div\" style=\"height:525px; width:100%;\"></div>            <script type=\"text/javascript\">                                    window.PLOTLYENV=window.PLOTLYENV || {};                                    if (document.getElementById(\"93554078-f2e8-4fd6-962b-9d1c0e6cd0e9\")) {                    Plotly.newPlot(                        \"93554078-f2e8-4fd6-962b-9d1c0e6cd0e9\",                        [{\"hovertemplate\":\"variable=0<br>index=%{x}<br>value=%{y}<extra></extra>\",\"legendgroup\":\"0\",\"line\":{\"color\":\"#636efa\",\"dash\":\"solid\"},\"marker\":{\"symbol\":\"circle\"},\"mode\":\"lines\",\"name\":\"0\",\"orientation\":\"v\",\"showlegend\":true,\"x\":[\"2021-01-01T00:00:00\",\"2021-01-02T00:00:00\",\"2021-01-03T00:00:00\",\"2021-01-04T00:00:00\",\"2021-01-05T00:00:00\",\"2021-01-06T00:00:00\",\"2021-01-07T00:00:00\",\"2021-01-08T00:00:00\",\"2021-01-09T00:00:00\",\"2021-01-10T00:00:00\",\"2021-01-11T00:00:00\",\"2021-01-12T00:00:00\",\"2021-01-13T00:00:00\",\"2021-01-14T00:00:00\",\"2021-01-15T00:00:00\",\"2021-01-16T00:00:00\",\"2021-01-17T00:00:00\",\"2021-01-18T00:00:00\",\"2021-01-19T00:00:00\",\"2021-01-20T00:00:00\",\"2021-01-21T00:00:00\",\"2021-01-22T00:00:00\",\"2021-01-23T00:00:00\",\"2021-01-24T00:00:00\",\"2021-01-25T00:00:00\",\"2021-01-26T00:00:00\",\"2021-01-27T00:00:00\",\"2021-01-28T00:00:00\",\"2021-01-29T00:00:00\",\"2021-01-30T00:00:00\",\"2021-01-31T00:00:00\",\"2021-02-01T00:00:00\",\"2021-02-02T00:00:00\",\"2021-02-03T00:00:00\",\"2021-02-04T00:00:00\",\"2021-02-05T00:00:00\",\"2021-02-06T00:00:00\",\"2021-02-07T00:00:00\",\"2021-02-08T00:00:00\",\"2021-02-09T00:00:00\",\"2021-02-10T00:00:00\",\"2021-02-11T00:00:00\",\"2021-02-12T00:00:00\",\"2021-02-13T00:00:00\",\"2021-02-14T00:00:00\",\"2021-02-15T00:00:00\",\"2021-02-16T00:00:00\",\"2021-02-17T00:00:00\",\"2021-02-18T00:00:00\",\"2021-02-19T00:00:00\",\"2021-02-20T00:00:00\",\"2021-02-21T00:00:00\",\"2021-02-22T00:00:00\",\"2021-02-23T00:00:00\",\"2021-02-24T00:00:00\",\"2021-02-25T00:00:00\",\"2021-02-26T00:00:00\",\"2021-02-27T00:00:00\",\"2021-02-28T00:00:00\",\"2021-03-01T00:00:00\",\"2021-03-02T00:00:00\",\"2021-03-03T00:00:00\",\"2021-03-04T00:00:00\",\"2021-03-05T00:00:00\",\"2021-03-06T00:00:00\",\"2021-03-07T00:00:00\",\"2021-03-08T00:00:00\",\"2021-03-09T00:00:00\",\"2021-03-10T00:00:00\",\"2021-03-11T00:00:00\",\"2021-03-12T00:00:00\",\"2021-03-13T00:00:00\",\"2021-03-14T00:00:00\",\"2021-03-15T00:00:00\",\"2021-03-16T00:00:00\",\"2021-03-17T00:00:00\",\"2021-03-18T00:00:00\",\"2021-03-19T00:00:00\",\"2021-03-20T00:00:00\",\"2021-03-21T00:00:00\",\"2021-03-22T00:00:00\",\"2021-03-23T00:00:00\",\"2021-03-24T00:00:00\",\"2021-03-25T00:00:00\",\"2021-03-26T00:00:00\",\"2021-03-27T00:00:00\",\"2021-03-28T00:00:00\",\"2021-03-29T00:00:00\",\"2021-03-30T00:00:00\",\"2021-03-31T00:00:00\",\"2021-04-01T00:00:00\",\"2021-04-02T00:00:00\",\"2021-04-03T00:00:00\",\"2021-04-04T00:00:00\",\"2021-04-05T00:00:00\",\"2021-04-06T00:00:00\",\"2021-04-07T00:00:00\",\"2021-04-08T00:00:00\",\"2021-04-09T00:00:00\",\"2021-04-10T00:00:00\",\"2021-04-11T00:00:00\",\"2021-04-12T00:00:00\",\"2021-04-13T00:00:00\",\"2021-04-14T00:00:00\",\"2021-04-15T00:00:00\",\"2021-04-16T00:00:00\",\"2021-04-17T00:00:00\",\"2021-04-18T00:00:00\",\"2021-04-19T00:00:00\",\"2021-04-20T00:00:00\",\"2021-04-21T00:00:00\",\"2021-04-22T00:00:00\",\"2021-04-23T00:00:00\",\"2021-04-24T00:00:00\",\"2021-04-25T00:00:00\",\"2021-04-26T00:00:00\",\"2021-04-27T00:00:00\",\"2021-04-28T00:00:00\",\"2021-04-29T00:00:00\",\"2021-04-30T00:00:00\",\"2021-05-01T00:00:00\",\"2021-05-02T00:00:00\",\"2021-05-03T00:00:00\",\"2021-05-04T00:00:00\",\"2021-05-05T00:00:00\",\"2021-05-06T00:00:00\",\"2021-05-07T00:00:00\",\"2021-05-08T00:00:00\",\"2021-05-09T00:00:00\",\"2021-05-10T00:00:00\",\"2021-05-11T00:00:00\",\"2021-05-12T00:00:00\",\"2021-05-13T00:00:00\",\"2021-05-14T00:00:00\",\"2021-05-15T00:00:00\",\"2021-05-16T00:00:00\",\"2021-05-17T00:00:00\",\"2021-05-18T00:00:00\",\"2021-05-19T00:00:00\",\"2021-05-20T00:00:00\",\"2021-05-21T00:00:00\",\"2021-05-22T00:00:00\",\"2021-05-23T00:00:00\",\"2021-05-24T00:00:00\",\"2021-05-25T00:00:00\",\"2021-05-26T00:00:00\",\"2021-05-27T00:00:00\",\"2021-05-28T00:00:00\",\"2021-05-29T00:00:00\",\"2021-05-30T00:00:00\",\"2021-05-31T00:00:00\",\"2021-06-01T00:00:00\",\"2021-06-02T00:00:00\",\"2021-06-03T00:00:00\",\"2021-06-04T00:00:00\",\"2021-06-05T00:00:00\",\"2021-06-06T00:00:00\",\"2021-06-07T00:00:00\",\"2021-06-08T00:00:00\",\"2021-06-09T00:00:00\",\"2021-06-10T00:00:00\",\"2021-06-11T00:00:00\",\"2021-06-12T00:00:00\",\"2021-06-13T00:00:00\",\"2021-06-14T00:00:00\",\"2021-06-15T00:00:00\",\"2021-06-16T00:00:00\",\"2021-06-17T00:00:00\",\"2021-06-18T00:00:00\",\"2021-06-19T00:00:00\",\"2021-06-20T00:00:00\",\"2021-06-21T00:00:00\",\"2021-06-22T00:00:00\",\"2021-06-23T00:00:00\",\"2021-06-24T00:00:00\",\"2021-06-25T00:00:00\",\"2021-06-26T00:00:00\",\"2021-06-27T00:00:00\",\"2021-06-28T00:00:00\",\"2021-06-29T00:00:00\",\"2021-06-30T00:00:00\",\"2021-07-01T00:00:00\",\"2021-07-02T00:00:00\",\"2021-07-03T00:00:00\",\"2021-07-04T00:00:00\",\"2021-07-05T00:00:00\",\"2021-07-06T00:00:00\",\"2021-07-07T00:00:00\",\"2021-07-08T00:00:00\",\"2021-07-09T00:00:00\",\"2021-07-10T00:00:00\",\"2021-07-11T00:00:00\",\"2021-07-12T00:00:00\",\"2021-07-13T00:00:00\",\"2021-07-14T00:00:00\",\"2021-07-15T00:00:00\",\"2021-07-16T00:00:00\",\"2021-07-17T00:00:00\",\"2021-07-18T00:00:00\",\"2021-07-19T00:00:00\",\"2021-07-20T00:00:00\",\"2021-07-21T00:00:00\",\"2021-07-22T00:00:00\",\"2021-07-23T00:00:00\",\"2021-07-24T00:00:00\",\"2021-07-25T00:00:00\",\"2021-07-26T00:00:00\",\"2021-07-27T00:00:00\",\"2021-07-28T00:00:00\",\"2021-07-29T00:00:00\",\"2021-07-30T00:00:00\",\"2021-07-31T00:00:00\",\"2021-08-01T00:00:00\",\"2021-08-02T00:00:00\",\"2021-08-03T00:00:00\",\"2021-08-04T00:00:00\",\"2021-08-05T00:00:00\",\"2021-08-06T00:00:00\",\"2021-08-07T00:00:00\",\"2021-08-08T00:00:00\",\"2021-08-09T00:00:00\",\"2021-08-10T00:00:00\",\"2021-08-11T00:00:00\",\"2021-08-12T00:00:00\",\"2021-08-13T00:00:00\",\"2021-08-14T00:00:00\",\"2021-08-15T00:00:00\",\"2021-08-16T00:00:00\",\"2021-08-17T00:00:00\",\"2021-08-18T00:00:00\",\"2021-08-19T00:00:00\",\"2021-08-20T00:00:00\",\"2021-08-21T00:00:00\",\"2021-08-22T00:00:00\",\"2021-08-23T00:00:00\",\"2021-08-24T00:00:00\",\"2021-08-25T00:00:00\",\"2021-08-26T00:00:00\",\"2021-08-27T00:00:00\",\"2021-08-28T00:00:00\",\"2021-08-29T00:00:00\",\"2021-08-30T00:00:00\",\"2021-08-31T00:00:00\",\"2021-09-01T00:00:00\",\"2021-09-02T00:00:00\",\"2021-09-03T00:00:00\",\"2021-09-04T00:00:00\",\"2021-09-05T00:00:00\",\"2021-09-06T00:00:00\",\"2021-09-07T00:00:00\",\"2021-09-08T00:00:00\",\"2021-09-09T00:00:00\",\"2021-09-10T00:00:00\",\"2021-09-11T00:00:00\",\"2021-09-12T00:00:00\",\"2021-09-13T00:00:00\",\"2021-09-14T00:00:00\",\"2021-09-15T00:00:00\",\"2021-09-16T00:00:00\",\"2021-09-17T00:00:00\",\"2021-09-18T00:00:00\",\"2021-09-19T00:00:00\",\"2021-09-20T00:00:00\",\"2021-09-21T00:00:00\",\"2021-09-22T00:00:00\",\"2021-09-23T00:00:00\",\"2021-09-24T00:00:00\",\"2021-09-25T00:00:00\",\"2021-09-26T00:00:00\",\"2021-09-27T00:00:00\",\"2021-09-28T00:00:00\",\"2021-09-29T00:00:00\",\"2021-09-30T00:00:00\",\"2021-10-01T00:00:00\",\"2021-10-02T00:00:00\",\"2021-10-03T00:00:00\",\"2021-10-04T00:00:00\",\"2021-10-05T00:00:00\",\"2021-10-06T00:00:00\",\"2021-10-07T00:00:00\",\"2021-10-08T00:00:00\",\"2021-10-09T00:00:00\",\"2021-10-10T00:00:00\",\"2021-10-11T00:00:00\",\"2021-10-12T00:00:00\",\"2021-10-13T00:00:00\",\"2021-10-14T00:00:00\",\"2021-10-15T00:00:00\",\"2021-10-16T00:00:00\",\"2021-10-17T00:00:00\",\"2021-10-18T00:00:00\",\"2021-10-19T00:00:00\",\"2021-10-20T00:00:00\",\"2021-10-21T00:00:00\",\"2021-10-22T00:00:00\",\"2021-10-23T00:00:00\",\"2021-10-24T00:00:00\",\"2021-10-25T00:00:00\",\"2021-10-26T00:00:00\",\"2021-10-27T00:00:00\",\"2021-10-28T00:00:00\",\"2021-10-29T00:00:00\",\"2021-10-30T00:00:00\",\"2021-10-31T00:00:00\",\"2021-11-01T00:00:00\",\"2021-11-02T00:00:00\",\"2021-11-03T00:00:00\",\"2021-11-04T00:00:00\",\"2021-11-05T00:00:00\",\"2021-11-06T00:00:00\",\"2021-11-07T00:00:00\",\"2021-11-08T00:00:00\",\"2021-11-09T00:00:00\",\"2021-11-10T00:00:00\",\"2021-11-11T00:00:00\",\"2021-11-12T00:00:00\",\"2021-11-13T00:00:00\",\"2021-11-14T00:00:00\",\"2021-11-15T00:00:00\",\"2021-11-16T00:00:00\",\"2021-11-17T00:00:00\",\"2021-11-18T00:00:00\",\"2021-11-19T00:00:00\",\"2021-11-20T00:00:00\",\"2021-11-21T00:00:00\",\"2021-11-22T00:00:00\",\"2021-11-23T00:00:00\",\"2021-11-24T00:00:00\",\"2021-11-25T00:00:00\",\"2021-11-26T00:00:00\",\"2021-11-27T00:00:00\",\"2021-11-28T00:00:00\",\"2021-11-29T00:00:00\",\"2021-11-30T00:00:00\",\"2021-12-01T00:00:00\",\"2021-12-02T00:00:00\",\"2021-12-03T00:00:00\",\"2021-12-04T00:00:00\",\"2021-12-05T00:00:00\",\"2021-12-06T00:00:00\",\"2021-12-07T00:00:00\",\"2021-12-08T00:00:00\",\"2021-12-09T00:00:00\",\"2021-12-10T00:00:00\",\"2021-12-11T00:00:00\",\"2021-12-12T00:00:00\",\"2021-12-13T00:00:00\",\"2021-12-14T00:00:00\",\"2021-12-15T00:00:00\",\"2021-12-16T00:00:00\",\"2021-12-17T00:00:00\",\"2021-12-18T00:00:00\",\"2021-12-19T00:00:00\",\"2021-12-20T00:00:00\",\"2021-12-21T00:00:00\",\"2021-12-22T00:00:00\",\"2021-12-23T00:00:00\",\"2021-12-24T00:00:00\",\"2021-12-25T00:00:00\",\"2021-12-26T00:00:00\",\"2021-12-27T00:00:00\",\"2021-12-28T00:00:00\",\"2021-12-29T00:00:00\",\"2021-12-30T00:00:00\",\"2021-12-31T00:00:00\",\"2022-01-01T00:00:00\",\"2022-01-02T00:00:00\",\"2022-01-03T00:00:00\",\"2022-01-04T00:00:00\",\"2022-01-05T00:00:00\",\"2022-01-06T00:00:00\",\"2022-01-07T00:00:00\",\"2022-01-08T00:00:00\",\"2022-01-09T00:00:00\",\"2022-01-10T00:00:00\",\"2022-01-11T00:00:00\",\"2022-01-12T00:00:00\",\"2022-01-13T00:00:00\",\"2022-01-14T00:00:00\",\"2022-01-15T00:00:00\",\"2022-01-16T00:00:00\",\"2022-01-17T00:00:00\",\"2022-01-18T00:00:00\",\"2022-01-19T00:00:00\",\"2022-01-20T00:00:00\",\"2022-01-21T00:00:00\",\"2022-01-22T00:00:00\",\"2022-01-23T00:00:00\",\"2022-01-24T00:00:00\",\"2022-01-25T00:00:00\",\"2022-01-26T00:00:00\",\"2022-01-27T00:00:00\",\"2022-01-28T00:00:00\",\"2022-01-29T00:00:00\",\"2022-01-30T00:00:00\",\"2022-01-31T00:00:00\",\"2022-02-01T00:00:00\",\"2022-02-02T00:00:00\",\"2022-02-03T00:00:00\",\"2022-02-04T00:00:00\",\"2022-02-05T00:00:00\",\"2022-02-06T00:00:00\",\"2022-02-07T00:00:00\",\"2022-02-08T00:00:00\",\"2022-02-09T00:00:00\",\"2022-02-10T00:00:00\",\"2022-02-11T00:00:00\",\"2022-02-12T00:00:00\",\"2022-02-13T00:00:00\",\"2022-02-14T00:00:00\",\"2022-02-15T00:00:00\",\"2022-02-16T00:00:00\",\"2022-02-17T00:00:00\",\"2022-02-18T00:00:00\",\"2022-02-19T00:00:00\",\"2022-02-20T00:00:00\",\"2022-02-21T00:00:00\",\"2022-02-22T00:00:00\",\"2022-02-23T00:00:00\",\"2022-02-24T00:00:00\",\"2022-02-25T00:00:00\",\"2022-02-26T00:00:00\",\"2022-02-27T00:00:00\",\"2022-02-28T00:00:00\",\"2022-03-01T00:00:00\",\"2022-03-02T00:00:00\",\"2022-03-03T00:00:00\",\"2022-03-04T00:00:00\",\"2022-03-05T00:00:00\",\"2022-03-06T00:00:00\",\"2022-03-07T00:00:00\",\"2022-03-08T00:00:00\",\"2022-03-09T00:00:00\",\"2022-03-10T00:00:00\",\"2022-03-11T00:00:00\",\"2022-03-12T00:00:00\",\"2022-03-13T00:00:00\",\"2022-03-14T00:00:00\",\"2022-03-15T00:00:00\",\"2022-03-16T00:00:00\",\"2022-03-17T00:00:00\",\"2022-03-18T00:00:00\",\"2022-03-19T00:00:00\",\"2022-03-20T00:00:00\",\"2022-03-21T00:00:00\",\"2022-03-22T00:00:00\",\"2022-03-23T00:00:00\",\"2022-03-24T00:00:00\",\"2022-03-25T00:00:00\",\"2022-03-26T00:00:00\",\"2022-03-27T00:00:00\",\"2022-03-28T00:00:00\",\"2022-03-29T00:00:00\",\"2022-03-30T00:00:00\",\"2022-03-31T00:00:00\",\"2022-04-01T00:00:00\",\"2022-04-02T00:00:00\",\"2022-04-03T00:00:00\",\"2022-04-04T00:00:00\",\"2022-04-05T00:00:00\",\"2022-04-06T00:00:00\",\"2022-04-07T00:00:00\",\"2022-04-08T00:00:00\",\"2022-04-09T00:00:00\",\"2022-04-10T00:00:00\",\"2022-04-11T00:00:00\",\"2022-04-12T00:00:00\",\"2022-04-13T00:00:00\",\"2022-04-14T00:00:00\",\"2022-04-15T00:00:00\",\"2022-04-16T00:00:00\",\"2022-04-17T00:00:00\",\"2022-04-18T00:00:00\",\"2022-04-19T00:00:00\",\"2022-04-20T00:00:00\",\"2022-04-21T00:00:00\",\"2022-04-22T00:00:00\",\"2022-04-23T00:00:00\",\"2022-04-24T00:00:00\",\"2022-04-25T00:00:00\",\"2022-04-26T00:00:00\",\"2022-04-27T00:00:00\",\"2022-04-28T00:00:00\",\"2022-04-29T00:00:00\",\"2022-04-30T00:00:00\",\"2022-05-01T00:00:00\",\"2022-05-02T00:00:00\",\"2022-05-03T00:00:00\",\"2022-05-04T00:00:00\",\"2022-05-05T00:00:00\",\"2022-05-06T00:00:00\",\"2022-05-07T00:00:00\",\"2022-05-08T00:00:00\",\"2022-05-09T00:00:00\",\"2022-05-10T00:00:00\",\"2022-05-11T00:00:00\",\"2022-05-12T00:00:00\",\"2022-05-13T00:00:00\",\"2022-05-14T00:00:00\",\"2022-05-15T00:00:00\",\"2022-05-16T00:00:00\",\"2022-05-17T00:00:00\",\"2022-05-18T00:00:00\",\"2022-05-19T00:00:00\",\"2022-05-20T00:00:00\",\"2022-05-21T00:00:00\",\"2022-05-22T00:00:00\",\"2022-05-23T00:00:00\",\"2022-05-24T00:00:00\",\"2022-05-25T00:00:00\",\"2022-05-26T00:00:00\",\"2022-05-27T00:00:00\",\"2022-05-28T00:00:00\",\"2022-05-29T00:00:00\",\"2022-05-30T00:00:00\",\"2022-05-31T00:00:00\",\"2022-06-01T00:00:00\",\"2022-06-02T00:00:00\",\"2022-06-03T00:00:00\",\"2022-06-04T00:00:00\",\"2022-06-05T00:00:00\",\"2022-06-06T00:00:00\",\"2022-06-07T00:00:00\",\"2022-06-08T00:00:00\",\"2022-06-09T00:00:00\",\"2022-06-10T00:00:00\",\"2022-06-11T00:00:00\",\"2022-06-12T00:00:00\",\"2022-06-13T00:00:00\",\"2022-06-14T00:00:00\",\"2022-06-15T00:00:00\",\"2022-06-16T00:00:00\",\"2022-06-17T00:00:00\",\"2022-06-18T00:00:00\",\"2022-06-19T00:00:00\",\"2022-06-20T00:00:00\",\"2022-06-21T00:00:00\",\"2022-06-22T00:00:00\",\"2022-06-23T00:00:00\",\"2022-06-24T00:00:00\",\"2022-06-25T00:00:00\",\"2022-06-26T00:00:00\",\"2022-06-27T00:00:00\",\"2022-06-28T00:00:00\",\"2022-06-29T00:00:00\",\"2022-06-30T00:00:00\",\"2022-07-01T00:00:00\",\"2022-07-02T00:00:00\",\"2022-07-03T00:00:00\",\"2022-07-04T00:00:00\",\"2022-07-05T00:00:00\",\"2022-07-06T00:00:00\",\"2022-07-07T00:00:00\",\"2022-07-08T00:00:00\",\"2022-07-09T00:00:00\",\"2022-07-10T00:00:00\",\"2022-07-11T00:00:00\",\"2022-07-12T00:00:00\",\"2022-07-13T00:00:00\",\"2022-07-14T00:00:00\",\"2022-07-15T00:00:00\",\"2022-07-16T00:00:00\",\"2022-07-17T00:00:00\",\"2022-07-18T00:00:00\",\"2022-07-19T00:00:00\",\"2022-07-20T00:00:00\",\"2022-07-21T00:00:00\",\"2022-07-22T00:00:00\",\"2022-07-23T00:00:00\",\"2022-07-24T00:00:00\",\"2022-07-25T00:00:00\",\"2022-07-26T00:00:00\",\"2022-07-27T00:00:00\",\"2022-07-28T00:00:00\",\"2022-07-29T00:00:00\",\"2022-07-30T00:00:00\",\"2022-07-31T00:00:00\",\"2022-08-01T00:00:00\",\"2022-08-02T00:00:00\",\"2022-08-03T00:00:00\",\"2022-08-04T00:00:00\",\"2022-08-05T00:00:00\",\"2022-08-06T00:00:00\",\"2022-08-07T00:00:00\",\"2022-08-08T00:00:00\",\"2022-08-09T00:00:00\",\"2022-08-10T00:00:00\",\"2022-08-11T00:00:00\",\"2022-08-12T00:00:00\",\"2022-08-13T00:00:00\",\"2022-08-14T00:00:00\",\"2022-08-15T00:00:00\",\"2022-08-16T00:00:00\",\"2022-08-17T00:00:00\",\"2022-08-18T00:00:00\",\"2022-08-19T00:00:00\",\"2022-08-20T00:00:00\",\"2022-08-21T00:00:00\",\"2022-08-22T00:00:00\",\"2022-08-23T00:00:00\",\"2022-08-24T00:00:00\",\"2022-08-25T00:00:00\",\"2022-08-26T00:00:00\",\"2022-08-27T00:00:00\",\"2022-08-28T00:00:00\",\"2022-08-29T00:00:00\",\"2022-08-30T00:00:00\",\"2022-08-31T00:00:00\",\"2022-09-01T00:00:00\",\"2022-09-02T00:00:00\",\"2022-09-03T00:00:00\",\"2022-09-04T00:00:00\",\"2022-09-05T00:00:00\",\"2022-09-06T00:00:00\",\"2022-09-07T00:00:00\",\"2022-09-08T00:00:00\",\"2022-09-09T00:00:00\",\"2022-09-10T00:00:00\",\"2022-09-11T00:00:00\",\"2022-09-12T00:00:00\",\"2022-09-13T00:00:00\",\"2022-09-14T00:00:00\",\"2022-09-15T00:00:00\",\"2022-09-16T00:00:00\",\"2022-09-17T00:00:00\",\"2022-09-18T00:00:00\",\"2022-09-19T00:00:00\",\"2022-09-20T00:00:00\",\"2022-09-21T00:00:00\",\"2022-09-22T00:00:00\",\"2022-09-23T00:00:00\",\"2022-09-24T00:00:00\",\"2022-09-25T00:00:00\",\"2022-09-26T00:00:00\",\"2022-09-27T00:00:00\",\"2022-09-28T00:00:00\",\"2022-09-29T00:00:00\",\"2022-09-30T00:00:00\",\"2022-10-01T00:00:00\",\"2022-10-02T00:00:00\",\"2022-10-03T00:00:00\",\"2022-10-04T00:00:00\",\"2022-10-05T00:00:00\"],\"xaxis\":\"x\",\"y\":[100.0,100.62585689927815,99.12208480393039,98.20080663483994,99.04388344662587,97.30914578026803,98.18183374635724,98.40116539432188,99.54894757685508,100.3183138306364,100.0857580571797,101.57664610468935,101.42578451008654,101.4856305419983,102.5521557675802,103.40458090790017,103.62431645020763,102.93099674212021,102.52336090058547,102.8704500227884,102.33257818757659,102.3322281509105,101.9474887650368,100.47427223674758,100.02721950114413,98.9887462798023,100.14659759062593,101.46600760319383,102.02387945848287,103.20923148790814,100.72583372535419,100.20516084378274,100.43765573831175,101.25686903389202,99.52617992392267,99.68884138748074,100.40319509483129,99.32782636442533,98.56001584576892,99.30721492056331,98.09954519487341,98.72338566140485,100.13228488693233,98.1662200763404,97.78038782642925,99.89491378631502,99.52496621441884,101.74712149693656,100.2124955589807,101.57305684806646,102.46372944582954,103.0661671892589,101.60573262009926,102.44860733262581,102.8613418661678,103.29976035596518,105.19526646462437,105.79574621646618,103.7746206685445,103.50620894907965,104.02570587400038,103.7846443988573,103.96214990984672,104.15596607953441,103.51054278712411,104.89604713387331,103.56400950365322,104.56024606786217,103.96705757864851,102.96866206697369,101.15684673099355,101.77095250262724,103.46074120833568,101.96042171894598,104.13343633368821,105.45177168922552,105.63551121539473,104.70709376950256,104.41202494681092,104.11774800147117,104.82380054259393,103.04618920715845,102.0002389849175,102.53035567822423,103.44591569816,103.19759705892803,103.4279547350138,103.74256909421331,105.24612282103135,105.76837484243072,105.72591088664804,106.98432046870468,110.14762194070327,110.49366453057176,111.61451562293146,112.28440568878143,113.71505961918245,113.54386627644492,112.63964203258799,113.28067569174108,115.56606298274804,116.26819154059895,115.47305261701808,116.21147784728463,117.53719295786843,121.20362848084189,122.347990649209,123.35127449365064,122.93955556070892,123.45218238023756,124.5877402392569,125.3011022250814,125.64054651362534,126.82778586679711,126.96468302481631,129.72578602954155,130.4522486728613,130.90964954566667,132.50174698034596,133.35785678597276,133.79499310618192,132.71458621710792,132.11967254045365,131.19388653470477,131.57058370537518,131.63868172725145,130.52755987618679,130.9927295171832,131.5462617742569,132.51937179928754,132.0933345803025,132.9177970240931,133.40414037004578,135.43847370543293,133.52174515402933,133.3242355989748,134.76078432647967,138.67439192999134,136.07556145937033,135.86509462173905,137.62699921515258,139.1426169127702,140.05802783991675,139.94861862432504,140.33428243127958,140.50533847103162,141.35597783643667,140.4146959983062,139.79130493318644,137.94565248938542,139.38848242235912,139.5145842551411,139.94581819432378,142.7434232785587,143.5512446366301,144.7563241198915,142.11347256148753,141.45402244340113,139.8734334058684,138.65332037007929,136.68647846147724,137.80748551320454,138.78687582474737,139.64839544114184,140.38062908812785,142.36901463746239,142.2301533656386,141.47161764770868,139.962475867769,142.14094427810764,141.31270684502476,142.63158239158778,142.718725828603,143.7172830410069,145.0795617501166,144.8050313874494,145.1327992795634,146.96368161805148,148.22144298764758,147.6944233308026,150.95228262595433,149.29234063861267,149.8974939790237,151.08389421407992,151.83141857867002,153.15091956711734,154.33278474371664,156.6705145822954,155.69171476651192,153.78755349737776,152.6322341500708,154.8993785645968,153.16832239411673,153.74013501603366,153.74854396509178,153.56613635179556,155.52333874099125,154.02656963415785,156.50040064173697,157.6962784918563,158.62387037349234,157.7766429387689,159.04447685678215,160.5000756668244,159.42340049610473,160.66796279486698,161.09790422318946,161.74132632686423,159.5782558063701,160.45874528450005,163.5002574282131,164.09589586929386,161.65970272951918,163.1407232117456,163.49913079944355,165.36932900671525,167.03710336256094,168.6771836521898,170.69154033613813,173.1612126574686,172.1653946521038,172.78779993586738,172.03063581768885,171.89277240750138,174.78099692042696,178.05941625087894,180.87723115775134,180.17546971111216,181.0908137968364,178.91789662363558,182.81096686855173,182.52644092725836,186.10583531064577,183.4060843672673,183.86499033560438,182.24698361931266,184.40586829992912,185.58601100300035,185.40076605028662,183.90457939638517,185.76990962191363,184.1085791455359,185.1459370847958,184.76468686670626,186.31863634088702,184.4418824971668,186.37005076248278,187.77548338225964,185.0545937495674,186.28191409104753,187.76900883166542,189.728537110802,190.19640134021213,191.9565874879353,193.93644933659334,193.93584232864157,195.29296155969715,193.8576193784221,194.27011409081422,194.90653032821461,195.6197695008276,193.95121107599218,196.79131931803994,198.4044605073873,202.17293126141894,201.8010892994599,199.88554436852684,200.0376813554714,199.77661943717246,196.84415722943606,191.41566307906842,191.66277304757466,193.23251056628092,193.99919535150914,191.38176660796492,191.49930540113286,191.4666834933352,192.17996853522794,192.382176818335,191.06757753578188,193.27497365058338,194.115264968643,194.30531761614026,196.3986652773875,194.86772503349664,194.33439677343947,193.45315962684663,194.05050448319048,193.63171034904397,194.83196126843345,198.51441530844608,199.60921442681547,202.00472057622395,206.44581545338912,210.39955631865817,209.44521284752062,212.0845031532802,215.26825957362846,214.3433903903032,216.49448685053173,216.96766564611167,223.34248725548127,222.60677376948453,219.69004169809946,220.60767150672055,220.57415269941464,217.95180601290932,217.54281193083946,218.549283125835,219.55800329124133,220.72946119517525,222.0739705238697,221.76343793169772,222.44683508988632,218.69309552928593,219.42160213350604,225.48731767242433,228.59984365463552,222.99077954681098,222.33078338786683,221.69565040719291,221.98560282916992,223.1523222843754,221.79833018026437,222.38054979604374,222.51288584195382,221.5423180689953,219.44277793903257,218.71145356294087,218.08133486768315,216.7380622255671,220.42026774561975,219.8342756523841,220.58635953270647,223.07947564994356,224.56690050894457,223.18533841063177,224.99507262612826,227.06252985716378,226.1803521029878,220.73883138650166,220.11508437449228,221.23641597735087,220.95689556098594,223.85670191977144,221.97610441354286,221.40518829445293,221.45589662326617,218.85218883477253,219.88123697256856,222.1185582800479,222.64635351945907,224.91653090372455,226.88683087440148,223.71749806255775,221.7459034697266,222.53763473820058,220.8936444827847,222.6384268575377,227.8236333251308,229.61308898187417,230.24179831907878,228.44203743725794,227.71989555517848,225.05651448465105,224.3478217970259,227.220344588389,225.69074312356227,228.0184440943313,228.9961025234651,228.024500646779,227.47276109969098,228.89237440098353,230.87444674677425,230.04737398339995,232.68318342575705,234.94525688967528,228.48354716740977,223.03544427005366,223.62430726996658,225.2299811201041,227.36233988648507,229.16648640173108,227.40607075993097,227.47628442444875,228.77407317980453,226.90076083428818,224.68022305790737,227.31497982623253,228.3428072298283,228.38576234432395,227.28933531480166,226.93707047346888,225.28514895024756,224.7308406094522,226.64379043923677,227.8751656700045,229.40345378962135,228.67402316489176,228.93874916460544,227.20005723700592,225.37454957700945,227.86969963276601,227.76625350491508,227.55024757123215,231.32458502551523,231.99837944908143,233.752405873122,229.66426846989424,233.38235331389282,233.59214455276663,235.63454631233415,233.50692016589215,233.1671767186578,228.54283888227084,229.7870909168791,227.9555027955065,227.9614183936493,230.62486263085435,231.11932621282176,229.19661696164422,230.0874129023178,232.02058113810912,232.84700757454198,235.4691640661393,231.29706039780575,232.94973895716876,231.20673713066097,229.84050980645972,233.6734546922361,233.18948529739194,239.02418987454422,236.50063090203162,239.66845846719633,238.87750541514293,237.17396918132135,231.4013307472846,230.57887064040744,231.42282744259415,233.3065793908336,234.92377224925352,235.88832635203696,232.9541579829696,235.9954596814536,236.95779048401522,235.98345101920572,240.18055762631863,240.85848295253223,240.94517281120972,239.56401948035958,239.31715501485544,239.20430867564355,237.73766918080193,238.00544144088695,240.06232913624132,239.6216089042849,241.44323231052974,235.6797770930459,230.48994363456745,230.44984094884217,228.23045879436023,227.49492646587092,225.98239300443058,221.18414814542842,221.0623687165063,221.9032465985273,215.6670621025172,214.39216856525974,215.57237425451402,214.85336645808462,216.59029846673093,221.52912103041857,221.62147632518102,222.7332172743951,220.3258035687373,219.65056418601412,215.61593637284955,214.17480507972311,216.14677418910335,219.66559886746236,221.68896576963164,222.79557638876116,228.06480957067558,231.04347174629567,229.53699934835194,228.03241275452902,232.75307673647941,235.96870562704427,235.1941516196601,237.75614855113574,232.12314234218124,234.59265726491407,231.26157052685298,230.55784004016843,234.3044933433573,235.74927783665882,231.43179885771403,235.46648072232068,235.63379061423817,234.5820176210021,229.95527239806358,232.23090116203298,235.9486818009034,234.33709367982644,233.99729557334666,235.2047634390913,235.15191744924556,236.39241287066957,234.73327701805374,235.42223444773157,230.73356896355267,231.71275549485054,232.70168977324767,234.939921964666,231.61015151705408,228.86317950932695,225.38806351838545,224.20744685465232,225.86465168256368,227.0591703513897,228.09944727302948,230.1928955183078,229.73322171810685,232.055520529073,231.73604908860042,229.7819962966849,227.2078056630687,221.55643611207353,221.48118382389785,222.24341322603786,222.00565628032115,223.99643491376537,227.93710695938304,225.74916879298084,221.84388054431028,227.97048511246732,231.31536907578595,230.21006354215083,228.8053959750287,230.40089714850447,229.61966868248825,229.21732832441174,227.76321906792583,230.16089937479296,226.9929664425904,227.85752200645246,222.17832355108254,221.63784246598215,225.4011021742585,225.65776295433994,223.77625637900886,219.43648033070218,221.70822950346897,219.88735675880957,219.9349592267219,218.99396399905416,218.95554466668125,220.05070318439368,220.26840383896004,221.95578703082907,218.9924636118337,218.80441943487992,222.36000707530079,222.3460961775481,224.17399280888435,223.3593959128881,227.29015786273848,227.05636709411428,225.0063586185066,226.09334371127213,223.6125114599426,225.11739633291438,221.32145708787863,221.62583830788918,225.27331730035894,223.896111817683,222.20901850073005,219.2058885231031,217.71890919740767,218.32846674350256,219.26355242340875,221.1311160262258,222.7338488535748,221.5818473326978,224.12013920848275,220.12087129661157,219.77071401503588,218.435341557243,220.2256175465373,220.65575082304653,226.74599643010802,227.54618483595502,229.12016971486514,227.33163195086408,226.58471313773214,229.26173703569864,232.33026110575858,232.03428565827218,232.00901195724913,227.75203386959964,229.26165815231082,226.09518564916257,225.92788331986645,227.76472084966272,229.79064312044483,230.91308058408916,228.58699590379572,232.6479831135112,235.26012192954727,232.64135409618692,233.4747706121944,230.59469825091523,233.04479686016214,239.67135358501721,237.86369513665613,237.10990751989243,239.2544417492949,238.66441280473973,238.69091929069904,240.79417371312465,242.95416375108243,240.89083650242063,244.97940948438287,247.65925972365193,250.93542133283933,252.58082312108613,251.36651396380807,253.0479852999209,251.12856444501773,252.14872917676576,253.62013499233814,250.29997157247183,249.95316752558972,248.62065451406755,248.1725332597721,249.81528258162632,252.7322263023797,252.4460313242746,255.12962800013474,256.1991283914481,258.52646539335984,256.77315126357297,258.0098723138743],\"yaxis\":\"y\",\"type\":\"scatter\"}],                        {\"template\":{\"data\":{\"bar\":[{\"error_x\":{\"color\":\"#2a3f5f\"},\"error_y\":{\"color\":\"#2a3f5f\"},\"marker\":{\"line\":{\"color\":\"#E5ECF6\",\"width\":0.5},\"pattern\":{\"fillmode\":\"overlay\",\"size\":10,\"solidity\":0.2}},\"type\":\"bar\"}],\"barpolar\":[{\"marker\":{\"line\":{\"color\":\"#E5ECF6\",\"width\":0.5},\"pattern\":{\"fillmode\":\"overlay\",\"size\":10,\"solidity\":0.2}},\"type\":\"barpolar\"}],\"carpet\":[{\"aaxis\":{\"endlinecolor\":\"#2a3f5f\",\"gridcolor\":\"white\",\"linecolor\":\"white\",\"minorgridcolor\":\"white\",\"startlinecolor\":\"#2a3f5f\"},\"baxis\":{\"endlinecolor\":\"#2a3f5f\",\"gridcolor\":\"white\",\"linecolor\":\"white\",\"minorgridcolor\":\"white\",\"startlinecolor\":\"#2a3f5f\"},\"type\":\"carpet\"}],\"choropleth\":[{\"colorbar\":{\"outlinewidth\":0,\"ticks\":\"\"},\"type\":\"choropleth\"}],\"contour\":[{\"colorbar\":{\"outlinewidth\":0,\"ticks\":\"\"},\"colorscale\":[[0.0,\"#0d0887\"],[0.1111111111111111,\"#46039f\"],[0.2222222222222222,\"#7201a8\"],[0.3333333333333333,\"#9c179e\"],[0.4444444444444444,\"#bd3786\"],[0.5555555555555556,\"#d8576b\"],[0.6666666666666666,\"#ed7953\"],[0.7777777777777778,\"#fb9f3a\"],[0.8888888888888888,\"#fdca26\"],[1.0,\"#f0f921\"]],\"type\":\"contour\"}],\"contourcarpet\":[{\"colorbar\":{\"outlinewidth\":0,\"ticks\":\"\"},\"type\":\"contourcarpet\"}],\"heatmap\":[{\"colorbar\":{\"outlinewidth\":0,\"ticks\":\"\"},\"colorscale\":[[0.0,\"#0d0887\"],[0.1111111111111111,\"#46039f\"],[0.2222222222222222,\"#7201a8\"],[0.3333333333333333,\"#9c179e\"],[0.4444444444444444,\"#bd3786\"],[0.5555555555555556,\"#d8576b\"],[0.6666666666666666,\"#ed7953\"],[0.7777777777777778,\"#fb9f3a\"],[0.8888888888888888,\"#fdca26\"],[1.0,\"#f0f921\"]],\"type\":\"heatmap\"}],\"heatmapgl\":[{\"colorbar\":{\"outlinewidth\":0,\"ticks\":\"\"},\"colorscale\":[[0.0,\"#0d0887\"],[0.1111111111111111,\"#46039f\"],[0.2222222222222222,\"#7201a8\"],[0.3333333333333333,\"#9c179e\"],[0.4444444444444444,\"#bd3786\"],[0.5555555555555556,\"#d8576b\"],[0.6666666666666666,\"#ed7953\"],[0.7777777777777778,\"#fb9f3a\"],[0.8888888888888888,\"#fdca26\"],[1.0,\"#f0f921\"]],\"type\":\"heatmapgl\"}],\"histogram\":[{\"marker\":{\"pattern\":{\"fillmode\":\"overlay\",\"size\":10,\"solidity\":0.2}},\"type\":\"histogram\"}],\"histogram2d\":[{\"colorbar\":{\"outlinewidth\":0,\"ticks\":\"\"},\"colorscale\":[[0.0,\"#0d0887\"],[0.1111111111111111,\"#46039f\"],[0.2222222222222222,\"#7201a8\"],[0.3333333333333333,\"#9c179e\"],[0.4444444444444444,\"#bd3786\"],[0.5555555555555556,\"#d8576b\"],[0.6666666666666666,\"#ed7953\"],[0.7777777777777778,\"#fb9f3a\"],[0.8888888888888888,\"#fdca26\"],[1.0,\"#f0f921\"]],\"type\":\"histogram2d\"}],\"histogram2dcontour\":[{\"colorbar\":{\"outlinewidth\":0,\"ticks\":\"\"},\"colorscale\":[[0.0,\"#0d0887\"],[0.1111111111111111,\"#46039f\"],[0.2222222222222222,\"#7201a8\"],[0.3333333333333333,\"#9c179e\"],[0.4444444444444444,\"#bd3786\"],[0.5555555555555556,\"#d8576b\"],[0.6666666666666666,\"#ed7953\"],[0.7777777777777778,\"#fb9f3a\"],[0.8888888888888888,\"#fdca26\"],[1.0,\"#f0f921\"]],\"type\":\"histogram2dcontour\"}],\"mesh3d\":[{\"colorbar\":{\"outlinewidth\":0,\"ticks\":\"\"},\"type\":\"mesh3d\"}],\"parcoords\":[{\"line\":{\"colorbar\":{\"outlinewidth\":0,\"ticks\":\"\"}},\"type\":\"parcoords\"}],\"pie\":[{\"automargin\":true,\"type\":\"pie\"}],\"scatter\":[{\"marker\":{\"colorbar\":{\"outlinewidth\":0,\"ticks\":\"\"}},\"type\":\"scatter\"}],\"scatter3d\":[{\"line\":{\"colorbar\":{\"outlinewidth\":0,\"ticks\":\"\"}},\"marker\":{\"colorbar\":{\"outlinewidth\":0,\"ticks\":\"\"}},\"type\":\"scatter3d\"}],\"scattercarpet\":[{\"marker\":{\"colorbar\":{\"outlinewidth\":0,\"ticks\":\"\"}},\"type\":\"scattercarpet\"}],\"scattergeo\":[{\"marker\":{\"colorbar\":{\"outlinewidth\":0,\"ticks\":\"\"}},\"type\":\"scattergeo\"}],\"scattergl\":[{\"marker\":{\"colorbar\":{\"outlinewidth\":0,\"ticks\":\"\"}},\"type\":\"scattergl\"}],\"scattermapbox\":[{\"marker\":{\"colorbar\":{\"outlinewidth\":0,\"ticks\":\"\"}},\"type\":\"scattermapbox\"}],\"scatterpolar\":[{\"marker\":{\"colorbar\":{\"outlinewidth\":0,\"ticks\":\"\"}},\"type\":\"scatterpolar\"}],\"scatterpolargl\":[{\"marker\":{\"colorbar\":{\"outlinewidth\":0,\"ticks\":\"\"}},\"type\":\"scatterpolargl\"}],\"scatterternary\":[{\"marker\":{\"colorbar\":{\"outlinewidth\":0,\"ticks\":\"\"}},\"type\":\"scatterternary\"}],\"surface\":[{\"colorbar\":{\"outlinewidth\":0,\"ticks\":\"\"},\"colorscale\":[[0.0,\"#0d0887\"],[0.1111111111111111,\"#46039f\"],[0.2222222222222222,\"#7201a8\"],[0.3333333333333333,\"#9c179e\"],[0.4444444444444444,\"#bd3786\"],[0.5555555555555556,\"#d8576b\"],[0.6666666666666666,\"#ed7953\"],[0.7777777777777778,\"#fb9f3a\"],[0.8888888888888888,\"#fdca26\"],[1.0,\"#f0f921\"]],\"type\":\"surface\"}],\"table\":[{\"cells\":{\"fill\":{\"color\":\"#EBF0F8\"},\"line\":{\"color\":\"white\"}},\"header\":{\"fill\":{\"color\":\"#C8D4E3\"},\"line\":{\"color\":\"white\"}},\"type\":\"table\"}]},\"layout\":{\"annotationdefaults\":{\"arrowcolor\":\"#2a3f5f\",\"arrowhead\":0,\"arrowwidth\":1},\"autotypenumbers\":\"strict\",\"coloraxis\":{\"colorbar\":{\"outlinewidth\":0,\"ticks\":\"\"}},\"colorscale\":{\"diverging\":[[0,\"#8e0152\"],[0.1,\"#c51b7d\"],[0.2,\"#de77ae\"],[0.3,\"#f1b6da\"],[0.4,\"#fde0ef\"],[0.5,\"#f7f7f7\"],[0.6,\"#e6f5d0\"],[0.7,\"#b8e186\"],[0.8,\"#7fbc41\"],[0.9,\"#4d9221\"],[1,\"#276419\"]],\"sequential\":[[0.0,\"#0d0887\"],[0.1111111111111111,\"#46039f\"],[0.2222222222222222,\"#7201a8\"],[0.3333333333333333,\"#9c179e\"],[0.4444444444444444,\"#bd3786\"],[0.5555555555555556,\"#d8576b\"],[0.6666666666666666,\"#ed7953\"],[0.7777777777777778,\"#fb9f3a\"],[0.8888888888888888,\"#fdca26\"],[1.0,\"#f0f921\"]],\"sequentialminus\":[[0.0,\"#0d0887\"],[0.1111111111111111,\"#46039f\"],[0.2222222222222222,\"#7201a8\"],[0.3333333333333333,\"#9c179e\"],[0.4444444444444444,\"#bd3786\"],[0.5555555555555556,\"#d8576b\"],[0.6666666666666666,\"#ed7953\"],[0.7777777777777778,\"#fb9f3a\"],[0.8888888888888888,\"#fdca26\"],[1.0,\"#f0f921\"]]},\"colorway\":[\"#636efa\",\"#EF553B\",\"#00cc96\",\"#ab63fa\",\"#FFA15A\",\"#19d3f3\",\"#FF6692\",\"#B6E880\",\"#FF97FF\",\"#FECB52\"],\"font\":{\"color\":\"#2a3f5f\"},\"geo\":{\"bgcolor\":\"white\",\"lakecolor\":\"white\",\"landcolor\":\"#E5ECF6\",\"showlakes\":true,\"showland\":true,\"subunitcolor\":\"white\"},\"hoverlabel\":{\"align\":\"left\"},\"hovermode\":\"closest\",\"mapbox\":{\"style\":\"light\"},\"paper_bgcolor\":\"white\",\"plot_bgcolor\":\"#E5ECF6\",\"polar\":{\"angularaxis\":{\"gridcolor\":\"white\",\"linecolor\":\"white\",\"ticks\":\"\"},\"bgcolor\":\"#E5ECF6\",\"radialaxis\":{\"gridcolor\":\"white\",\"linecolor\":\"white\",\"ticks\":\"\"}},\"scene\":{\"xaxis\":{\"backgroundcolor\":\"#E5ECF6\",\"gridcolor\":\"white\",\"gridwidth\":2,\"linecolor\":\"white\",\"showbackground\":true,\"ticks\":\"\",\"zerolinecolor\":\"white\"},\"yaxis\":{\"backgroundcolor\":\"#E5ECF6\",\"gridcolor\":\"white\",\"gridwidth\":2,\"linecolor\":\"white\",\"showbackground\":true,\"ticks\":\"\",\"zerolinecolor\":\"white\"},\"zaxis\":{\"backgroundcolor\":\"#E5ECF6\",\"gridcolor\":\"white\",\"gridwidth\":2,\"linecolor\":\"white\",\"showbackground\":true,\"ticks\":\"\",\"zerolinecolor\":\"white\"}},\"shapedefaults\":{\"line\":{\"color\":\"#2a3f5f\"}},\"ternary\":{\"aaxis\":{\"gridcolor\":\"white\",\"linecolor\":\"white\",\"ticks\":\"\"},\"baxis\":{\"gridcolor\":\"white\",\"linecolor\":\"white\",\"ticks\":\"\"},\"bgcolor\":\"#E5ECF6\",\"caxis\":{\"gridcolor\":\"white\",\"linecolor\":\"white\",\"ticks\":\"\"}},\"title\":{\"x\":0.05},\"xaxis\":{\"automargin\":true,\"gridcolor\":\"white\",\"linecolor\":\"white\",\"ticks\":\"\",\"title\":{\"standoff\":15},\"zerolinecolor\":\"white\",\"zerolinewidth\":2},\"yaxis\":{\"automargin\":true,\"gridcolor\":\"white\",\"linecolor\":\"white\",\"ticks\":\"\",\"title\":{\"standoff\":15},\"zerolinecolor\":\"white\",\"zerolinewidth\":2}}},\"xaxis\":{\"anchor\":\"y\",\"domain\":[0.0,1.0],\"title\":{\"text\":\"Dates\",\"font\":{\"size\":20}}},\"yaxis\":{\"anchor\":\"x\",\"domain\":[0.0,1.0],\"title\":{\"text\":\"price\",\"font\":{\"size\":20}}},\"legend\":{\"title\":{\"text\":\"variable\"},\"tracegroupgap\":0},\"margin\":{\"t\":60},\"showlegend\":false,\"title\":{\"text\":\"Financial Asset\",\"font\":{\"size\":21},\"x\":0.5}},                        {\"responsive\": true}                    ).then(function(){\n",
              "                            \n",
              "var gd = document.getElementById('93554078-f2e8-4fd6-962b-9d1c0e6cd0e9');\n",
              "var x = new MutationObserver(function (mutations, observer) {{\n",
              "        var display = window.getComputedStyle(gd).display;\n",
              "        if (!display || display === 'none') {{\n",
              "            console.log([gd, 'removed!']);\n",
              "            Plotly.purge(gd);\n",
              "            observer.disconnect();\n",
              "        }}\n",
              "}});\n",
              "\n",
              "// Listen for the removal of the full notebook cells\n",
              "var notebookContainer = gd.closest('#notebook-container');\n",
              "if (notebookContainer) {{\n",
              "    x.observe(notebookContainer, {childList: true});\n",
              "}}\n",
              "\n",
              "// Listen for the clearing of the current output cell\n",
              "var outputEl = gd.closest('.output');\n",
              "if (outputEl) {{\n",
              "    x.observe(outputEl, {childList: true});\n",
              "}}\n",
              "\n",
              "                        })                };                            </script>        </div>\n",
              "</body>\n",
              "</html>"
            ]
          },
          "metadata": {}
        }
      ]
    },
    {
      "cell_type": "markdown",
      "source": [],
      "metadata": {
        "id": "EiAI1qWgrIs0"
      }
    },
    {
      "cell_type": "code",
      "source": [],
      "metadata": {
        "id": "X7LhCXa9rePy"
      },
      "execution_count": null,
      "outputs": []
    },
    {
      "cell_type": "markdown",
      "source": [
        "# 4.3. Basic Statistics"
      ],
      "metadata": {
        "id": "2WDDZQCqrYHk"
      }
    },
    {
      "cell_type": "code",
      "source": [
        "# Very (very) basic info\n",
        "print('Basic Statitics')"
      ],
      "metadata": {
        "id": "CagdLwndxtz5"
      },
      "execution_count": null,
      "outputs": []
    },
    {
      "cell_type": "markdown",
      "source": [
        "fig add adition es funcional para dar las cordenadas a \"x\" o \"y\" a  y se le debe poner un maximo del numero de datos que tengamos ejemplo \"0.85\" si se lle adhiere text crea el enunciado que se quiere mostrar en ña grafica se deb utilizar lenguaje HTML coo <b> de bold de negrilla y lenguaje de diseño de texto \"obs\", \"minimum\" y \"maximum\" el \"br\" se utiliza para separar las lineas\n",
        "\n",
        "showarrrow si se le adhiere true muestra cual cordenada pusimo por lo contrario se se pone \"false\" se elimina la flecha "
      ],
      "metadata": {
        "id": "cQprnFP3y1KX"
      }
    },
    {
      "cell_type": "code",
      "source": [],
      "metadata": {
        "id": "X27Pd9vEyynv"
      },
      "execution_count": null,
      "outputs": []
    }
  ]
}