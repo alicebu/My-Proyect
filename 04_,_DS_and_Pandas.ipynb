{
  "nbformat": 4,
  "nbformat_minor": 0,
  "metadata": {
    "colab": {
      "provenance": [],
      "authorship_tag": "ABX9TyNwCLFNoNDUUxjbJlLUHygY",
      "include_colab_link": true
    },
    "kernelspec": {
      "name": "python3",
      "display_name": "Python 3"
    },
    "language_info": {
      "name": "python"
    }
  },
  "cells": [
    {
      "cell_type": "markdown",
      "metadata": {
        "id": "view-in-github",
        "colab_type": "text"
      },
      "source": [
        "<a href=\"https://colab.research.google.com/github/alicebu/My-Proyect/blob/main/04_%2C_DS_and_Pandas.ipynb\" target=\"_parent\"><img src=\"https://colab.research.google.com/assets/colab-badge.svg\" alt=\"Open In Colab\"/></a>"
      ]
    },
    {
      "cell_type": "markdown",
      "source": [
        "# **1. Data Structure and Pandas\n",
        "\n",
        "´numpy´ is for vector and matrices ('arrays')\n",
        "\n",
        "'pandas' is a library to work databases (data with relations and conextions).In practical terms, 'pandas' is the Excel of Python.\n",
        "\n",
        "To make clear you can work with 'numpy' and 'pandas' at the same time"
      ],
      "metadata": {
        "id": "4AzuSwzqk6QZ"
      }
    },
    {
      "cell_type": "code",
      "execution_count": 1,
      "metadata": {
        "id": "WqL0kh03km6a"
      },
      "outputs": [],
      "source": [
        "import pandas as pd\n",
        "import numpy as np"
      ]
    },
    {
      "cell_type": "markdown",
      "source": [
        "# **2. Pandas Series**\n",
        "\n",
        "A series (in pandas) is a one-dimensional object"
      ],
      "metadata": {
        "id": "6eKW-Lt7mzd_"
      }
    },
    {
      "cell_type": "markdown",
      "source": [
        "# 2.1 series creation"
      ],
      "metadata": {
        "id": "TBVugaHinM0X"
      }
    },
    {
      "cell_type": "code",
      "source": [
        "# Empty series (creacion de objetos vacios)\n",
        "\n",
        "s_empty = pd.Series()\n",
        "print(s_empty)"
      ],
      "metadata": {
        "colab": {
          "base_uri": "https://localhost:8080/"
        },
        "id": "MWsNlKKqnQNw",
        "outputId": "f2517ff1-6410-400b-914b-21104fe94010"
      },
      "execution_count": 2,
      "outputs": [
        {
          "output_type": "stream",
          "name": "stdout",
          "text": [
            "Series([], dtype: float64)\n"
          ]
        },
        {
          "output_type": "stream",
          "name": "stderr",
          "text": [
            "/usr/local/lib/python3.7/dist-packages/ipykernel_launcher.py:3: DeprecationWarning: The default dtype for empty Series will be 'object' instead of 'float64' in a future version. Specify a dtype explicitly to silence this warning.\n",
            "  This is separate from the ipykernel package so we can avoid doing imports until\n"
          ]
        }
      ]
    },
    {
      "cell_type": "code",
      "source": [
        "# Creating a Series - typing the values\n",
        "## int values\n",
        "\n",
        "s_int = pd.Series([1,2,3,4,5,6,7])\n",
        "print(s_int)"
      ],
      "metadata": {
        "colab": {
          "base_uri": "https://localhost:8080/"
        },
        "id": "bjJUefiAoJPo",
        "outputId": "738296bf-8b8f-4ee0-d668-46a09e845b9c"
      },
      "execution_count": 5,
      "outputs": [
        {
          "output_type": "stream",
          "name": "stdout",
          "text": [
            "0    1\n",
            "1    2\n",
            "2    3\n",
            "3    4\n",
            "4    5\n",
            "5    6\n",
            "6    7\n",
            "dtype: int64\n"
          ]
        }
      ]
    },
    {
      "cell_type": "code",
      "source": [
        "# Creating a Series - using random numbers\n",
        "## float values\n",
        "\n",
        "s_num = pd.Series(np.random.rand(8))\n",
        "print(s_num)"
      ],
      "metadata": {
        "colab": {
          "base_uri": "https://localhost:8080/"
        },
        "id": "Y8fLNLCjo0yv",
        "outputId": "debf9afa-fbfb-484b-9cef-e36aa77828c9"
      },
      "execution_count": 6,
      "outputs": [
        {
          "output_type": "stream",
          "name": "stdout",
          "text": [
            "0    0.719964\n",
            "1    0.301390\n",
            "2    0.222714\n",
            "3    0.786279\n",
            "4    0.830265\n",
            "5    0.581198\n",
            "6    0.481254\n",
            "7    0.020115\n",
            "dtype: float64\n"
          ]
        }
      ]
    }
  ]
}