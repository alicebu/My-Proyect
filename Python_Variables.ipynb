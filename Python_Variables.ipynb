{
  "nbformat": 4,
  "nbformat_minor": 0,
  "metadata": {
    "colab": {
      "name": "Python Variables.ipynb",
      "provenance": [],
      "authorship_tag": "ABX9TyPV/OQPRIU8eeBDXkaujnlg",
      "include_colab_link": true
    },
    "kernelspec": {
      "name": "python3",
      "display_name": "Python 3"
    },
    "language_info": {
      "name": "python"
    }
  },
  "cells": [
    {
      "cell_type": "markdown",
      "metadata": {
        "id": "view-in-github",
        "colab_type": "text"
      },
      "source": [
        "<a href=\"https://colab.research.google.com/github/alicebu/My-Proyect/blob/main/Python_Variables.ipynb\" target=\"_parent\"><img src=\"https://colab.research.google.com/assets/colab-badge.svg\" alt=\"Open In Colab\"/></a>"
      ]
    },
    {
      "cell_type": "code",
      "execution_count": null,
      "metadata": {
        "id": "Q-BtoJTSOvyt"
      },
      "outputs": [],
      "source": [
        ""
      ]
    },
    {
      "cell_type": "markdown",
      "source": [
        "#1. What is a variable?\n",
        "\n",
        "*container*, **stores** values"
      ],
      "metadata": {
        "id": "IC_UeMPvO2ZG"
      }
    },
    {
      "cell_type": "markdown",
      "source": [
        "# 2. Declaration and Assigment\n",
        "\n"
      ],
      "metadata": {
        "id": "PGemkC8KPRLF"
      }
    },
    {
      "cell_type": "code",
      "source": [
        "# Example\n",
        "a = 3\n"
      ],
      "metadata": {
        "id": "Opuv3z7MPPUm"
      },
      "execution_count": 1,
      "outputs": []
    },
    {
      "cell_type": "code",
      "source": [
        "# Example using variable\n",
        "print(a + 1)"
      ],
      "metadata": {
        "colab": {
          "base_uri": "https://localhost:8080/"
        },
        "id": "xHJPXQkXQWfP",
        "outputId": "07b1a41a-2547-4470-962e-ca0451386fc5"
      },
      "execution_count": 10,
      "outputs": [
        {
          "output_type": "stream",
          "name": "stdout",
          "text": [
            "4\n"
          ]
        }
      ]
    },
    {
      "cell_type": "code",
      "source": [
        "# Example\n",
        "x = y = z = 100\n",
        "print(x,y,z)"
      ],
      "metadata": {
        "colab": {
          "base_uri": "https://localhost:8080/"
        },
        "id": "mwf9fSoGQ2CB",
        "outputId": "586e203f-af4d-4c59-c9fa-7d1feb069bd8"
      },
      "execution_count": 14,
      "outputs": [
        {
          "output_type": "stream",
          "name": "stdout",
          "text": [
            "100 100 100\n"
          ]
        }
      ]
    },
    {
      "cell_type": "markdown",
      "source": [
        "#3. Delte and clear\n"
      ],
      "metadata": {
        "id": "Ehk8wZThRZwq"
      }
    },
    {
      "cell_type": "code",
      "source": [
        "# Example - deleting a single variable\n",
        "age = 21\n",
        "del age\n",
        "\n"
      ],
      "metadata": {
        "id": "gVwARAxbR2_t"
      },
      "execution_count": 16,
      "outputs": []
    },
    {
      "cell_type": "code",
      "source": [
        "# Example - deleting a list of variables\n",
        "del a, o "
      ],
      "metadata": {
        "id": "PIpUxQeGSO8l"
      },
      "execution_count": 18,
      "outputs": []
    },
    {
      "cell_type": "code",
      "source": [
        "# Example - erase or clear all variables\n",
        "%reset\n"
      ],
      "metadata": {
        "id": "Vt79qognSm81"
      },
      "execution_count": null,
      "outputs": []
    },
    {
      "cell_type": "code",
      "source": [
        "w = 0.4"
      ],
      "metadata": {
        "id": "wv-NHjd8TN9-"
      },
      "execution_count": null,
      "outputs": []
    }
  ]
}