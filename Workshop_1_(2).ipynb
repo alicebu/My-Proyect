{
  "nbformat": 4,
  "nbformat_minor": 0,
  "metadata": {
    "colab": {
      "name": "Workshop 1 (2).ipynb",
      "provenance": [],
      "include_colab_link": true
    },
    "kernelspec": {
      "name": "python3",
      "display_name": "Python 3"
    },
    "language_info": {
      "name": "python"
    }
  },
  "cells": [
    {
      "cell_type": "markdown",
      "metadata": {
        "id": "view-in-github",
        "colab_type": "text"
      },
      "source": [
        "<a href=\"https://colab.research.google.com/github/alicebu/My-Proyect/blob/main/Workshop_1_(2).ipynb\" target=\"_parent\"><img src=\"https://colab.research.google.com/assets/colab-badge.svg\" alt=\"Open In Colab\"/></a>"
      ]
    },
    {
      "cell_type": "markdown",
      "source": [
        "<h1 align = \"center\">\n",
        "<strong> Universidad de La Salle </strong>\n",
        "</h1>\n",
        "\n",
        "<h1 align = \"center\">\n",
        "<strong> Finance and International Commerce Program </strong>\n",
        "</h1>\n",
        "\n",
        "<h1 align = \"center\">\n",
        "<strong> Data Visualization - Workshop 1 </strong>\n",
        "</h1>\n"
      ],
      "metadata": {
        "id": "BJolccUZSw9G"
      }
    },
    {
      "cell_type": "markdown",
      "source": [
        "# **Instructions**\n",
        "\n",
        "1. Please read carefully the document. Ask all the questions you may have.\n",
        "2. Save this file in your Google Drive.\n",
        "3. DO NOT alter any cell unless it specifically ask you to do it.\n",
        "4. You will have **two hours** (until 11am) maximum to finish and deliver this workshop.\n",
        "5. You can use any help you want: your notes, your codes, internet, classmates.\n",
        "6. Nevertheless, the workshop must be presented individually.\n",
        "7. Once you have finish, save a copy in your GitHub class repository.\n",
        "8. The deliver process is as follows:\n",
        "    \n",
        "    8.1. Via email you will send the link to the GitHub location.\n",
        "    \n",
        "    8.2. In the same mail, just for safety, you will attach a copy of your `.ipynb` file.\n",
        "    \n",
        "    8.3. The email must have the subject: \"W1 DV\".   "
      ],
      "metadata": {
        "id": "pLRc5RAyWsre"
      }
    },
    {
      "cell_type": "markdown",
      "source": [
        "# **To keep in mind**\n",
        "\n",
        "* The excercises propouse are intended to **push** you a little futher in your Pyton skills.\n",
        "* This means that there are going to be exercises above the level seen in class.\n",
        "* The idea is to incentive your creative thinking and solving problem skills.\n",
        "* As always there several ways to do the excersice. But in this case, I ask you to use only the tools we learned.\n",
        "* I ask you to trust me. Give your best effort. Grades do not matter here. "
      ],
      "metadata": {
        "id": "4QKdNKujZEbk"
      }
    },
    {
      "cell_type": "markdown",
      "source": [
        "# **Exercise Set**"
      ],
      "metadata": {
        "id": "2kRoSKUmaGl9"
      }
    },
    {
      "cell_type": "markdown",
      "source": [
        "## Ex 1.\n",
        "\n",
        "In the cell code below, first create a variable with your full name then write the appropiate code, using *sciling*, to print your full name as this:\n",
        "\n",
        "`First Name: José` &nbsp;   &nbsp;   &nbsp;   &nbsp;   &nbsp; `Middle Name: Rodrigo`\n",
        "\n",
        "`First Last  Name: Vélez` &nbsp;   &nbsp;   &nbsp;   &nbsp;   &nbsp; `Second Last Name: Molano`"
      ],
      "metadata": {
        "id": "LAdWe8iEaL7B"
      }
    },
    {
      "cell_type": "code",
      "execution_count": 27,
      "metadata": {
        "id": "rw792kISSt3n",
        "colab": {
          "base_uri": "https://localhost:8080/"
        },
        "outputId": "c9fb4a03-50fd-47b8-8600-ad252bee73f3"
      },
      "outputs": [
        {
          "output_type": "stream",
          "name": "stdout",
          "text": [
            "First Name: Alice \t Middle Name: Gabriel\n",
            "First Last Name:  Quintero \t Second Last Name: Quintero Bull\n"
          ]
        }
      ],
      "source": [
        "# Answ. Ex 1\n",
        "# (write your code be)\n",
        "\n",
        "\n",
        "yelow = 'Alice Gabriela Quintero Bulla'\n",
        "\n",
        "\n",
        "\n",
        "# Sciling\n",
        "print('First Name:', yelow[0:5],'\\t','Middle Name:', yelow[6:13])\n",
        "print('First Last Name:', yelow[14:23],'\\t','Second Last Name:', yelow[15:28])\n",
        "\n",
        "\n",
        "\n"
      ]
    },
    {
      "cell_type": "markdown",
      "source": [
        "## Ex 2.\n",
        "\n",
        "In the cell code below, you are given two random numbers `x` and `y`. \n",
        "\n",
        "Write the appropiate code to print the result of dividing `x` by all its precedents rounded by `y` decimal positions.\n",
        "\n",
        "This is an example of the expected result for `x = 15` and `y = 2`:\n",
        "\n",
        "`15 / 1 = 15.00`\n",
        "\n",
        "`15 / 2 = 7.50`\n",
        "\n",
        "`15 / 3 = 5.00`\n",
        "\n",
        "`...`\n",
        "\n",
        "`15 / 15 = 1.00`\n",
        "\n",
        "**JUST IN CASE!** You must use the variables given to you"
      ],
      "metadata": {
        "id": "YFsGiwcNfgzP"
      }
    },
    {
      "cell_type": "code",
      "source": [
        "# Answ. Ex 2 \n",
        "###################################\n",
        "#      DO NOT MODIFY THIS PART    #\n",
        "import numpy as np\n",
        "x = round(np.random.uniform(12,22))\n",
        "y = round(np.random.uniform(1,4))\n",
        "###################################\n",
        "\n",
        "# (write your code below)\n",
        "print('Divide x / y')\n",
        "for i in range(1,x+1):\n",
        "   print(x , '/', i, ':', round(x / i, y))\n"
      ],
      "metadata": {
        "id": "Dwdsh30Ti3vl",
        "colab": {
          "base_uri": "https://localhost:8080/"
        },
        "outputId": "2ec71341-76c8-4625-f806-67ea755ea73a"
      },
      "execution_count": 64,
      "outputs": [
        {
          "output_type": "stream",
          "name": "stdout",
          "text": [
            "Divide x / y\n",
            "16 / 1 : 16.0\n",
            "16 / 2 : 8.0\n",
            "16 / 3 : 5.3\n",
            "16 / 4 : 4.0\n",
            "16 / 5 : 3.2\n",
            "16 / 6 : 2.7\n",
            "16 / 7 : 2.3\n",
            "16 / 8 : 2.0\n",
            "16 / 9 : 1.8\n",
            "16 / 10 : 1.6\n",
            "16 / 11 : 1.5\n",
            "16 / 12 : 1.3\n",
            "16 / 13 : 1.2\n",
            "16 / 14 : 1.1\n",
            "16 / 15 : 1.1\n",
            "16 / 16 : 1.0\n"
          ]
        }
      ]
    },
    {
      "cell_type": "markdown",
      "source": [
        "## Ex 3. \n",
        "\n",
        "The Fibonnaci sequence is a sequence constructed by the process:\n",
        "\n",
        "$x_{i} = x_{i-1} + x_{i-2}$\n",
        "\n",
        "where $x_{1} = x_{2} = 1$.\n",
        "\n",
        "Below you are given a random number `z`, write the appropiate code to calculate and print the `z`th position of the Fibonnaci sequence. \n",
        "\n",
        "\n"
      ],
      "metadata": {
        "id": "PYIRNu3imJ_n"
      }
    },
    {
      "cell_type": "code",
      "source": [
        "# Answ. Ex 3\n",
        "###################################\n",
        "#      DO NOT MODIFY THIS PART    #\n",
        "import numpy as np\n",
        "z = round(np.random.uniform(50,100))\n",
        "###################################\n",
        "\n",
        "# (write your code below)\n",
        "print('z secuency Fibonaci')\n",
        "w = 0\n",
        "x = 1\n",
        "y = w+x\n",
        "y += y\n",
        "for i in range(1,100): print(i,'=', i, '+', y,  i + y)\n",
        "\n"
      ],
      "metadata": {
        "id": "wntlZUatp9uE",
        "colab": {
          "base_uri": "https://localhost:8080/"
        },
        "outputId": "09f72adb-39a6-44a1-ab4d-b8247fd8b9d2"
      },
      "execution_count": 103,
      "outputs": [
        {
          "output_type": "stream",
          "name": "stdout",
          "text": [
            "z secuency Fibonaci\n",
            "1 = 1 + 2 3\n",
            "2 = 2 + 2 4\n",
            "3 = 3 + 2 5\n",
            "4 = 4 + 2 6\n",
            "5 = 5 + 2 7\n",
            "6 = 6 + 2 8\n",
            "7 = 7 + 2 9\n",
            "8 = 8 + 2 10\n",
            "9 = 9 + 2 11\n",
            "10 = 10 + 2 12\n",
            "11 = 11 + 2 13\n",
            "12 = 12 + 2 14\n",
            "13 = 13 + 2 15\n",
            "14 = 14 + 2 16\n",
            "15 = 15 + 2 17\n",
            "16 = 16 + 2 18\n",
            "17 = 17 + 2 19\n",
            "18 = 18 + 2 20\n",
            "19 = 19 + 2 21\n",
            "20 = 20 + 2 22\n",
            "21 = 21 + 2 23\n",
            "22 = 22 + 2 24\n",
            "23 = 23 + 2 25\n",
            "24 = 24 + 2 26\n",
            "25 = 25 + 2 27\n",
            "26 = 26 + 2 28\n",
            "27 = 27 + 2 29\n",
            "28 = 28 + 2 30\n",
            "29 = 29 + 2 31\n",
            "30 = 30 + 2 32\n",
            "31 = 31 + 2 33\n",
            "32 = 32 + 2 34\n",
            "33 = 33 + 2 35\n",
            "34 = 34 + 2 36\n",
            "35 = 35 + 2 37\n",
            "36 = 36 + 2 38\n",
            "37 = 37 + 2 39\n",
            "38 = 38 + 2 40\n",
            "39 = 39 + 2 41\n",
            "40 = 40 + 2 42\n",
            "41 = 41 + 2 43\n",
            "42 = 42 + 2 44\n",
            "43 = 43 + 2 45\n",
            "44 = 44 + 2 46\n",
            "45 = 45 + 2 47\n",
            "46 = 46 + 2 48\n",
            "47 = 47 + 2 49\n",
            "48 = 48 + 2 50\n",
            "49 = 49 + 2 51\n",
            "50 = 50 + 2 52\n",
            "51 = 51 + 2 53\n",
            "52 = 52 + 2 54\n",
            "53 = 53 + 2 55\n",
            "54 = 54 + 2 56\n",
            "55 = 55 + 2 57\n",
            "56 = 56 + 2 58\n",
            "57 = 57 + 2 59\n",
            "58 = 58 + 2 60\n",
            "59 = 59 + 2 61\n",
            "60 = 60 + 2 62\n",
            "61 = 61 + 2 63\n",
            "62 = 62 + 2 64\n",
            "63 = 63 + 2 65\n",
            "64 = 64 + 2 66\n",
            "65 = 65 + 2 67\n",
            "66 = 66 + 2 68\n",
            "67 = 67 + 2 69\n",
            "68 = 68 + 2 70\n",
            "69 = 69 + 2 71\n",
            "70 = 70 + 2 72\n",
            "71 = 71 + 2 73\n",
            "72 = 72 + 2 74\n",
            "73 = 73 + 2 75\n",
            "74 = 74 + 2 76\n",
            "75 = 75 + 2 77\n",
            "76 = 76 + 2 78\n",
            "77 = 77 + 2 79\n",
            "78 = 78 + 2 80\n",
            "79 = 79 + 2 81\n",
            "80 = 80 + 2 82\n",
            "81 = 81 + 2 83\n",
            "82 = 82 + 2 84\n",
            "83 = 83 + 2 85\n",
            "84 = 84 + 2 86\n",
            "85 = 85 + 2 87\n",
            "86 = 86 + 2 88\n",
            "87 = 87 + 2 89\n",
            "88 = 88 + 2 90\n",
            "89 = 89 + 2 91\n",
            "90 = 90 + 2 92\n",
            "91 = 91 + 2 93\n",
            "92 = 92 + 2 94\n",
            "93 = 93 + 2 95\n",
            "94 = 94 + 2 96\n",
            "95 = 95 + 2 97\n",
            "96 = 96 + 2 98\n",
            "97 = 97 + 2 99\n",
            "98 = 98 + 2 100\n",
            "99 = 99 + 2 101\n"
          ]
        }
      ]
    },
    {
      "cell_type": "markdown",
      "source": [
        "## Ex 4.\n",
        "\n",
        "Create a string variable with the name of your favorite music artist or group.Write the appropiate code to print it in reversed order.\n",
        "\n",
        "*Example:*\n",
        "\n",
        "`w = 'Dog'`\n",
        "\n",
        "Expected result: `'goD'`.\n",
        "\n",
        "\n",
        "\n"
      ],
      "metadata": {
        "id": "2t2WnRieqLoc"
      }
    },
    {
      "cell_type": "code",
      "source": [
        "# Answ. Ex 4\n",
        "# (write your code below)"
      ],
      "metadata": {
        "id": "FQU_vc_5sse0"
      },
      "execution_count": null,
      "outputs": []
    }
  ]
}