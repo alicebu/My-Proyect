{
  "nbformat": 4,
  "nbformat_minor": 0,
  "metadata": {
    "colab": {
      "provenance": [],
      "authorship_tag": "ABX9TyNvUezacC7t9vVyNpLJ/m4Q",
      "include_colab_link": true
    },
    "kernelspec": {
      "name": "python3",
      "display_name": "Python 3"
    },
    "language_info": {
      "name": "python"
    }
  },
  "cells": [
    {
      "cell_type": "markdown",
      "metadata": {
        "id": "view-in-github",
        "colab_type": "text"
      },
      "source": [
        "<a href=\"https://colab.research.google.com/github/alicebu/My-Proyect/blob/main/Data_Structures.ipynb\" target=\"_parent\"><img src=\"https://colab.research.google.com/assets/colab-badge.svg\" alt=\"Open In Colab\"/></a>"
      ]
    },
    {
      "cell_type": "code",
      "execution_count": 4,
      "metadata": {
        "id": "-T5zj22FTMWJ"
      },
      "outputs": [],
      "source": []
    },
    {
      "cell_type": "markdown",
      "source": [
        "# **1. What is a data structure**\n",
        "\n",
        "DS are like variable, they *save* information. The difference is that DS can store more than 1 value.\n",
        "\n",
        "\n",
        "Formaly, DS store a **sequence** of values which can be located with an index (sciling). Ex: list, vectors and matrices, databases.\n",
        "\n",
        "Now, basic Python sucks!!! It lacks specialized tools. In this case, we need to install 'numpy'.\n",
        "\n"
      ],
      "metadata": {
        "id": "3EoL_ucuTTl9"
      }
    },
    {
      "cell_type": "markdown",
      "source": [
        "# 2 **1. Linear Algebra - Numpy**\n",
        "\n",
        "Numpy (or Numerical Python) is collection of funtions and methods to handle DS.\n",
        "\n",
        "This library works very well with other libraries and it is very popular.\n",
        "\n"
      ],
      "metadata": {
        "id": "hdzBmIbnU8l2"
      }
    },
    {
      "cell_type": "code",
      "source": [
        "# Install a library\n",
        "\n",
        "import numpy as np\n",
        "\n"
      ],
      "metadata": {
        "id": "0M0VHuKqVz5O"
      },
      "execution_count": 5,
      "outputs": []
    },
    {
      "cell_type": "code",
      "source": [
        "np.array"
      ],
      "metadata": {
        "colab": {
          "base_uri": "https://localhost:8080/"
        },
        "id": "mIS67IGtV7nj",
        "outputId": "1435a228-c608-466c-d055-954b4c2d30b9"
      },
      "execution_count": 6,
      "outputs": [
        {
          "output_type": "execute_result",
          "data": {
            "text/plain": [
              "<function numpy.array>"
            ]
          },
          "metadata": {},
          "execution_count": 6
        }
      ]
    },
    {
      "cell_type": "markdown",
      "source": [
        "# 2.2. Numpy arrays - vectors and matrices \n",
        "\n",
        "objets arranged by row and columns. With these object you can sum and multiply \n",
        "\n",
        "*Example 1*\n",
        "\n",
        "let be x_{1} $x_{1}$\n",
        "\n",
        "Let $a$ be a vector with 2 rows and 1 column\n",
        "\n",
        "\\begin{equation}\n",
        "a = \\left[\\begin{array}{c} a_{1} \\\\ a_{2}\n",
        "    \\end{array}\\right]\n",
        "\\end{equation}\n",
        "\n",
        "This is called a **COLUM VECTOR**. And the vector dimension or shape is $(2,1)$ or $(2 \\times 1)$\n",
        "\n",
        "*Example 2*\n",
        "\n",
        "Let $b$ be a vectors with 1 rows and 2 column\n",
        "\n",
        "\\begin{equation}\n",
        "a = \\left[\\begin{array}{c} b_{1} \\\\ b_{2}\n",
        "    \\end{array}\\right]\n",
        "\\end{equation}\n",
        "\n",
        "This is called a **ROW VECTOR**. And the vector dimension or shape is $(1,2)$ or $(1 \\times 2)$\n",
        "\n",
        "\n",
        "*Example 3*\n",
        "\n",
        "A matrix has more than 1 row and more than 1 column.\n",
        "\n",
        "Of course if the number of rows and columns are equal, it is called a *squared matrix*\n",
        "\n",
        "In general , let $M$ be a matrix of dimension $(n,m)$ or $(n \\times m)$\n",
        "\n",
        "For the case of $n=3$ and $m=3$:\n",
        "\n",
        "\\begin{equation}\n",
        "a = \\left[\\begin{array}{c} \n",
        "m_{1,1} & m_{1,2} & m_{1.3} \\\\\n",
        "m_{2,1} & m_{2,2} & m_{2.3} \\\\\n",
        "m_{3,1} & m_{3,2} & m_{3.3} \\\\\n",
        "    \\end{array}\\right]\n",
        "\\end{equation}\n",
        "\n"
      ],
      "metadata": {
        "id": "u-sdbl8LWlAK"
      }
    },
    {
      "cell_type": "code",
      "source": [
        "# Example - column vector \n",
        "\n",
        "a = np.array([[4], [5], [6]])\n",
        "print(a) \n",
        "print(a.shape)"
      ],
      "metadata": {
        "colab": {
          "base_uri": "https://localhost:8080/"
        },
        "id": "zz1In81Zc9RN",
        "outputId": "2ecd11a8-08aa-41c5-db67-25017e6d6f47"
      },
      "execution_count": 7,
      "outputs": [
        {
          "output_type": "stream",
          "name": "stdout",
          "text": [
            "[[4]\n",
            " [5]\n",
            " [6]]\n",
            "(3, 1)\n"
          ]
        }
      ]
    },
    {
      "cell_type": "code",
      "source": [
        "# Example - Row Vector\n",
        "\n",
        "b = np.array([[1, 2, 3]])\n",
        "print(b)\n",
        "print(b.shape)"
      ],
      "metadata": {
        "colab": {
          "base_uri": "https://localhost:8080/"
        },
        "id": "B0W4g1Bxad1O",
        "outputId": "c95bbdfa-5cca-4eba-e8ab-70d33750340b"
      },
      "execution_count": 8,
      "outputs": [
        {
          "output_type": "stream",
          "name": "stdout",
          "text": [
            "[[1 2 3]]\n",
            "(1, 3)\n"
          ]
        }
      ]
    },
    {
      "cell_type": "code",
      "source": [
        "# Example - Matrix \n",
        "M = np.array([[1,2,3],\n",
        "              [4,5,6],\n",
        "              [7,8,9]])\n",
        "print(M)\n",
        "print(M.shape)"
      ],
      "metadata": {
        "colab": {
          "base_uri": "https://localhost:8080/"
        },
        "id": "NGa3x2i4a8lu",
        "outputId": "f2aede4e-8776-4558-b7d8-0b3aadccc21b"
      },
      "execution_count": 9,
      "outputs": [
        {
          "output_type": "stream",
          "name": "stdout",
          "text": [
            "[[1 2 3]\n",
            " [4 5 6]\n",
            " [7 8 9]]\n",
            "(3, 3)\n"
          ]
        }
      ]
    },
    {
      "cell_type": "markdown",
      "source": [
        "# A nice track"
      ],
      "metadata": {
        "id": "jKIdYY53cAbM"
      }
    },
    {
      "cell_type": "code",
      "source": [
        "# nr: store the number of rows\n",
        "# nr: stores the number of columns\n",
        "nr, nc = M.shape"
      ],
      "metadata": {
        "id": "VcTQNGyzcLtk"
      },
      "execution_count": 10,
      "outputs": []
    },
    {
      "cell_type": "markdown",
      "source": [
        "# Size of DS\n",
        "\n",
        "In python, size means the number of elements in a DS"
      ],
      "metadata": {
        "id": "ndJuXl1PdeZH"
      }
    },
    {
      "cell_type": "code",
      "source": [
        "M.size"
      ],
      "metadata": {
        "colab": {
          "base_uri": "https://localhost:8080/"
        },
        "id": "MhTRnW9KdrjX",
        "outputId": "0bfab6bf-5cb6-46f9-91e3-5e853ef7c9c9"
      },
      "execution_count": 11,
      "outputs": [
        {
          "output_type": "execute_result",
          "data": {
            "text/plain": [
              "9"
            ]
          },
          "metadata": {},
          "execution_count": 11
        }
      ]
    },
    {
      "cell_type": "code",
      "source": [
        "# ONE WARNING\n",
        "\n",
        "z = 2\n",
        "w = np.array([[2]])\n",
        "print(type(z),type(w))"
      ],
      "metadata": {
        "colab": {
          "base_uri": "https://localhost:8080/"
        },
        "id": "bUlV4vtVdx3u",
        "outputId": "d83e6a2e-3b7e-495c-a067-35ee4e31bdcc"
      },
      "execution_count": 12,
      "outputs": [
        {
          "output_type": "stream",
          "name": "stdout",
          "text": [
            "<class 'int'> <class 'numpy.ndarray'>\n"
          ]
        }
      ]
    },
    {
      "cell_type": "markdown",
      "source": [
        "## 2.3 slicing\n",
        "\n",
        "It is the same as string variable, only with minor modifications.\n",
        "\n",
        "Let's see:"
      ],
      "metadata": {
        "id": "s2AQ6RWoeKQH"
      }
    },
    {
      "cell_type": "code",
      "source": [
        "# Extract the 1st element\n",
        "\n",
        "## column Vector\n",
        "print(a[0,0])\n",
        "print(type(a[0,0]))\n",
        "\n",
        "## Row Vector\n",
        "print(b[0,0])\n",
        "print(type(a[0,0]))\n",
        "\n",
        "## Matrix\n",
        "print(M[1,1])"
      ],
      "metadata": {
        "colab": {
          "base_uri": "https://localhost:8080/"
        },
        "id": "vs0UG1SMeaU_",
        "outputId": "4506d3a7-e344-489f-f325-a6e5dea78256"
      },
      "execution_count": 13,
      "outputs": [
        {
          "output_type": "stream",
          "name": "stdout",
          "text": [
            "4\n",
            "<class 'numpy.int64'>\n",
            "1\n",
            "<class 'numpy.int64'>\n",
            "5\n"
          ]
        }
      ]
    },
    {
      "cell_type": "code",
      "source": [
        "# Extrac the last element\n",
        "\n",
        "print('The last element of a row vector:', b[0,-1])\n",
        "print('The last element of a column vector:', a[-1,0])\n",
        "print('The last element of a matrix', M[-1,-1])"
      ],
      "metadata": {
        "colab": {
          "base_uri": "https://localhost:8080/"
        },
        "id": "hBKyWMRAgKLn",
        "outputId": "fc1f4d53-993a-4b10-efe1-fbc0ec54199f"
      },
      "execution_count": 14,
      "outputs": [
        {
          "output_type": "stream",
          "name": "stdout",
          "text": [
            "The last element of a row vector: 3\n",
            "The last element of a column vector: 6\n",
            "The last element of a matrix 9\n"
          ]
        }
      ]
    },
    {
      "cell_type": "code",
      "source": [
        "# Extract  subset\n",
        "\n",
        "## Column Vector\n",
        "print(a[0:2,0])\n",
        "\n",
        "## Column Vector\n",
        "print(a[0:2])\n",
        "\n",
        "## Row Vector\n",
        "print(b[0,0:2])\n",
        "\n",
        "## Matrix\n",
        "print(M[0:2,0:2])"
      ],
      "metadata": {
        "colab": {
          "base_uri": "https://localhost:8080/"
        },
        "id": "v2XiXKAjg3yo",
        "outputId": "e0ebc2cb-2a6d-4d54-a30b-8a9bef5d5940"
      },
      "execution_count": 15,
      "outputs": [
        {
          "output_type": "stream",
          "name": "stdout",
          "text": [
            "[4 5]\n",
            "[[4]\n",
            " [5]]\n",
            "[1 2]\n",
            "[[1 2]\n",
            " [4 5]]\n"
          ]
        }
      ]
    },
    {
      "cell_type": "code",
      "source": [
        "## A custom sequence with a set step\n",
        "a = 3\n",
        "b = 25\n",
        "s = 0.25\n",
        "np.arange(a,b,s)"
      ],
      "metadata": {
        "colab": {
          "base_uri": "https://localhost:8080/"
        },
        "id": "ETA8MAEeaXdo",
        "outputId": "ad9c24bc-cc7b-4dcb-87b0-041ddcbe08d4"
      },
      "execution_count": 16,
      "outputs": [
        {
          "output_type": "execute_result",
          "data": {
            "text/plain": [
              "array([ 3.  ,  3.25,  3.5 ,  3.75,  4.  ,  4.25,  4.5 ,  4.75,  5.  ,\n",
              "        5.25,  5.5 ,  5.75,  6.  ,  6.25,  6.5 ,  6.75,  7.  ,  7.25,\n",
              "        7.5 ,  7.75,  8.  ,  8.25,  8.5 ,  8.75,  9.  ,  9.25,  9.5 ,\n",
              "        9.75, 10.  , 10.25, 10.5 , 10.75, 11.  , 11.25, 11.5 , 11.75,\n",
              "       12.  , 12.25, 12.5 , 12.75, 13.  , 13.25, 13.5 , 13.75, 14.  ,\n",
              "       14.25, 14.5 , 14.75, 15.  , 15.25, 15.5 , 15.75, 16.  , 16.25,\n",
              "       16.5 , 16.75, 17.  , 17.25, 17.5 , 17.75, 18.  , 18.25, 18.5 ,\n",
              "       18.75, 19.  , 19.25, 19.5 , 19.75, 20.  , 20.25, 20.5 , 20.75,\n",
              "       21.  , 21.25, 21.5 , 21.75, 22.  , 22.25, 22.5 , 22.75, 23.  ,\n",
              "       23.25, 23.5 , 23.75, 24.  , 24.25, 24.5 , 24.75])"
            ]
          },
          "metadata": {},
          "execution_count": 16
        }
      ]
    },
    {
      "cell_type": "code",
      "source": [
        "## Linear space\n",
        "\n",
        "a = 1\n",
        "b = 5\n",
        "n = 3\n",
        "\n",
        "np.linspace(a, b, num = n)\n",
        "\n",
        "\n",
        "a = 15\n",
        "b = 17\n",
        "n = 10\n",
        "\n",
        "np.linspace(a, b, num = n)"
      ],
      "metadata": {
        "colab": {
          "base_uri": "https://localhost:8080/"
        },
        "id": "JzyGpntBauQn",
        "outputId": "0c0de0db-bf61-4372-b7e5-2d825ef80adb"
      },
      "execution_count": 17,
      "outputs": [
        {
          "output_type": "execute_result",
          "data": {
            "text/plain": [
              "array([15.        , 15.22222222, 15.44444444, 15.66666667, 15.88888889,\n",
              "       16.11111111, 16.33333333, 16.55555556, 16.77777778, 17.        ])"
            ]
          },
          "metadata": {},
          "execution_count": 17
        }
      ]
    },
    {
      "cell_type": "markdown",
      "source": [
        "### Random numbers\n",
        "\n",
        "We are talking about probabilities, and of probabilistic distributions."
      ],
      "metadata": {
        "id": "MZpjX78ib0GP"
      }
    },
    {
      "cell_type": "markdown",
      "source": [
        "#### Uniform distribution over [0,1)"
      ],
      "metadata": {
        "id": "rm_cRTdhcQy2"
      }
    },
    {
      "cell_type": "code",
      "source": [
        "# A single vale\n",
        "np.random.rand()"
      ],
      "metadata": {
        "colab": {
          "base_uri": "https://localhost:8080/"
        },
        "id": "Kc_S8JoZcuHW",
        "outputId": "a3b6595c-3f28-4fa6-be18-53ed8a30fa80"
      },
      "execution_count": 18,
      "outputs": [
        {
          "output_type": "execute_result",
          "data": {
            "text/plain": [
              "0.002021762957995943"
            ]
          },
          "metadata": {},
          "execution_count": 18
        }
      ]
    },
    {
      "cell_type": "code",
      "source": [
        "# Example 1 - the coin toss\n",
        "## Here we are going to simulate a coin toss\n",
        "\n",
        "if np.random.rand() <= 0.5:\n",
        "  print('head')\n",
        "else:\n",
        "  print('tails')"
      ],
      "metadata": {
        "colab": {
          "base_uri": "https://localhost:8080/"
        },
        "id": "man53zYudR1e",
        "outputId": "0b16a8bc-bf71-4afe-bb14-b2829fd70fc0"
      },
      "execution_count": 19,
      "outputs": [
        {
          "output_type": "stream",
          "name": "stdout",
          "text": [
            "head\n"
          ]
        }
      ]
    },
    {
      "cell_type": "code",
      "source": [
        "from numpy.random.mtrand import random\n",
        "from numpy.random import rand\n",
        "# Example 2- Ranking\n",
        "\n",
        "## The idea is to print 'low' if the number is lower than 0.3\n",
        "## print 'Average' if is between 0.3 and 0.7\n",
        "## print 'High' if it is greater than 0.7\n",
        "\n",
        "rnd = np.random.rand()\n",
        "\n",
        "if np.random.rand() <= 0.3:\n",
        "  print('Low', rnd)\n",
        "elif np.random.rand() > 0.3 and rnd <= 0.7:\n",
        "  print('Average', rnd)\n",
        "else:\n",
        "  print('High', rnd)\n"
      ],
      "metadata": {
        "colab": {
          "base_uri": "https://localhost:8080/"
        },
        "id": "aPfVyyt3e5Ko",
        "outputId": "af95a620-d7f1-43d7-d9fa-48b46f4f764a"
      },
      "execution_count": 20,
      "outputs": [
        {
          "output_type": "stream",
          "name": "stdout",
          "text": [
            "Low 0.9589388762962654\n"
          ]
        }
      ]
    },
    {
      "cell_type": "markdown",
      "source": [
        "**Exercise**\n",
        "\n",
        "Code the following game. Print the message\n",
        "'You win!' if two coin tosses are heads and print 'You lose!' otherwise"
      ],
      "metadata": {
        "id": "5kAuImlwhUcf"
      }
    },
    {
      "cell_type": "code",
      "source": [
        "if np.random.rand() <= 0.5:\n",
        "  print('You win!')\n",
        "else:\n",
        "  print('You lose!')"
      ],
      "metadata": {
        "colab": {
          "base_uri": "https://localhost:8080/"
        },
        "id": "K5ZnXSn7hsk1",
        "outputId": "2c571162-24e6-464d-bfeb-52133e4639ec"
      },
      "execution_count": 21,
      "outputs": [
        {
          "output_type": "stream",
          "name": "stdout",
          "text": [
            "You lose!\n"
          ]
        }
      ]
    },
    {
      "cell_type": "code",
      "source": [
        "rnd = np.random.rand()\n",
        "\n",
        "if np.random.rand() <= 0.5:\n",
        "  print('You win!', rnd)\n",
        "elif np.random.rand() > 0.5 and rnd <= 2.0:\n",
        "  print('You lose!', rnd)\n",
        "else:\n",
        "  print('High', rnd)"
      ],
      "metadata": {
        "colab": {
          "base_uri": "https://localhost:8080/"
        },
        "id": "nV3r4wXfiIaa",
        "outputId": "52f01589-0f8b-483a-8725-eb1f0be1c2a0"
      },
      "execution_count": 22,
      "outputs": [
        {
          "output_type": "stream",
          "name": "stdout",
          "text": [
            "You win! 0.6886852060435082\n"
          ]
        }
      ]
    },
    {
      "cell_type": "code",
      "source": [
        "rnd = np.random.rand()\n",
        "\n",
        "if np.random.rand() <= 0.5:\n",
        "  print('Head', rnd)\n",
        "elif np.random.rand() > 0.5 and rnd <= 2.0:\n",
        "  print('Tails', rnd)\n",
        "else:\n",
        "  print('High', rnd)"
      ],
      "metadata": {
        "id": "QLUMLEi-jEPa",
        "colab": {
          "base_uri": "https://localhost:8080/"
        },
        "outputId": "865f0a90-f22c-46c5-a949-e2e9a6c427f5"
      },
      "execution_count": 23,
      "outputs": [
        {
          "output_type": "stream",
          "name": "stdout",
          "text": [
            "High 0.2631499146650552\n"
          ]
        }
      ]
    },
    {
      "cell_type": "code",
      "source": [
        "First_att = np.random.rand\n",
        "\n",
        "if First_att <= 0.5:\n",
        "  print('Head', First_att)\n",
        "else:\n",
        "  print('tails', First_att)\n",
        "\n",
        "\n"
      ],
      "metadata": {
        "colab": {
          "base_uri": "https://localhost:8080/",
          "height": 235
        },
        "id": "u1aiB23Ek5mW",
        "outputId": "d23c78e0-cbe6-43dd-c696-bf888bad0bf8"
      },
      "execution_count": 27,
      "outputs": [
        {
          "output_type": "error",
          "ename": "TypeError",
          "evalue": "ignored",
          "traceback": [
            "\u001b[0;31m---------------------------------------------------------------------------\u001b[0m",
            "\u001b[0;31mTypeError\u001b[0m                                 Traceback (most recent call last)",
            "\u001b[0;32m<ipython-input-27-1e3a7b7f8cdc>\u001b[0m in \u001b[0;36m<module>\u001b[0;34m\u001b[0m\n\u001b[1;32m      1\u001b[0m \u001b[0mFirst_att\u001b[0m \u001b[0;34m=\u001b[0m \u001b[0mnp\u001b[0m\u001b[0;34m.\u001b[0m\u001b[0mrandom\u001b[0m\u001b[0;34m.\u001b[0m\u001b[0mrand\u001b[0m\u001b[0;34m\u001b[0m\u001b[0;34m\u001b[0m\u001b[0m\n\u001b[1;32m      2\u001b[0m \u001b[0;34m\u001b[0m\u001b[0m\n\u001b[0;32m----> 3\u001b[0;31m \u001b[0;32mif\u001b[0m \u001b[0mFirst_att\u001b[0m \u001b[0;34m<=\u001b[0m \u001b[0;36m0.5\u001b[0m\u001b[0;34m:\u001b[0m\u001b[0;34m\u001b[0m\u001b[0;34m\u001b[0m\u001b[0m\n\u001b[0m\u001b[1;32m      4\u001b[0m   \u001b[0mprint\u001b[0m\u001b[0;34m(\u001b[0m\u001b[0;34m'Head'\u001b[0m\u001b[0;34m,\u001b[0m \u001b[0mFirst_att\u001b[0m\u001b[0;34m)\u001b[0m\u001b[0;34m\u001b[0m\u001b[0;34m\u001b[0m\u001b[0m\n\u001b[1;32m      5\u001b[0m \u001b[0;32melse\u001b[0m\u001b[0;34m:\u001b[0m\u001b[0;34m\u001b[0m\u001b[0;34m\u001b[0m\u001b[0m\n",
            "\u001b[0;31mTypeError\u001b[0m: '<=' not supported between instances of 'builtin_function_or_method' and 'float'"
          ]
        }
      ]
    },
    {
      "cell_type": "code",
      "source": [
        "if First_att <= 0.5:\n",
        "  print('Head', First_att)\n",
        "else:\n",
        "  print('tails', First_att)\n",
        "\n",
        "Second_att = np.random.rand\n",
        "\n",
        "if Second_att <= 0.5:\n",
        "  print('Head', Second_att)\n",
        "else:\n",
        "  print('tails', Second_att)\n",
        "\n",
        "if First_att <=0.5 and Second_att <=0.5:\n",
        "  print('You win!')\n",
        "else:\n",
        "  print('You lose!')"
      ],
      "metadata": {
        "id": "4bybFOj1nBMF"
      },
      "execution_count": null,
      "outputs": []
    },
    {
      "cell_type": "code",
      "source": [
        "#Solucion 2.0\n",
        "\n",
        "First_attemept  = np.random.rand()\n",
        "Second_attemept = np.random.rand()\n",
        "results         = np.array([['Head', 'Tails']])\n",
        "indx1           = int(round(First_attemept,0))\n",
        "indx2           = int(round(Second_attemept,0))\n",
        "\n",
        "if First_attemept <=0.5 and Second_attemept <=0.5:\n",
        "  print('Head', First_attemept)\n",
        "  print('Head', Second_attemept)\n",
        "  print('You win!')\n",
        "else:\n",
        "  print(results[0,indx1], First_attemept)\n",
        "  print(results[0,indx2], Second_attemept)\n",
        "  print('You lose!')"
      ],
      "metadata": {
        "colab": {
          "base_uri": "https://localhost:8080/"
        },
        "id": "s91VXRtcgbX1",
        "outputId": "b6945a14-eb5e-4e13-acea-a5ea7c484140"
      },
      "execution_count": 30,
      "outputs": [
        {
          "output_type": "stream",
          "name": "stdout",
          "text": [
            "Head 0.3237150551008281\n",
            "Head 0.28346042618474543\n",
            "You win!\n"
          ]
        }
      ]
    },
    {
      "cell_type": "code",
      "source": [
        "# One dimensional array\n",
        "np.random.rand(4)"
      ],
      "metadata": {
        "colab": {
          "base_uri": "https://localhost:8080/"
        },
        "id": "KuXaYNDshUGS",
        "outputId": "ff545f25-c2b6-46b8-8647-f4b04c8108f5"
      },
      "execution_count": 29,
      "outputs": [
        {
          "output_type": "execute_result",
          "data": {
            "text/plain": [
              "array([0.77728734, 0.95152702, 0.00705754, 0.35073226])"
            ]
          },
          "metadata": {},
          "execution_count": 29
        }
      ]
    },
    {
      "cell_type": "markdown",
      "source": [
        "#fourth try"
      ],
      "metadata": {
        "id": "BHhs3TIlh2Va"
      }
    },
    {
      "cell_type": "code",
      "source": [
        "tries = np.random.rand(2)\n",
        "\n",
        "\n",
        "results         = np.array([['Head', 'Tails']])\n",
        "indx1           = int(round(tries[0],0))\n",
        "indx2           = int(round(tries[1],0))\n",
        "\n",
        "if tries[0] <=0.5 and tries[1] <=0.5:\n",
        "  print('Head', tries[0])\n",
        "  print('Head', tries[1])\n",
        "  print('You win!')\n",
        "else:\n",
        "  print(results[0,indx1], tries[0])\n",
        "  print(results[0,indx2], tries[1])\n",
        "  print('You lose!')"
      ],
      "metadata": {
        "colab": {
          "base_uri": "https://localhost:8080/"
        },
        "id": "W9qZvDIphod6",
        "outputId": "5d23d46a-03b8-4c13-90fe-9b3929254a29"
      },
      "execution_count": 37,
      "outputs": [
        {
          "output_type": "stream",
          "name": "stdout",
          "text": [
            "Tails 0.5769799639868366\n",
            "Head 0.3362291908234536\n",
            "You lose!\n"
          ]
        }
      ]
    },
    {
      "cell_type": "code",
      "source": [
        "# two dimention\n",
        "\n",
        "np.random.rand(7,8)"
      ],
      "metadata": {
        "colab": {
          "base_uri": "https://localhost:8080/"
        },
        "id": "cPZeYgkTkOL9",
        "outputId": "28a69256-66f6-43fd-d37b-6a7fb5368da9"
      },
      "execution_count": 38,
      "outputs": [
        {
          "output_type": "execute_result",
          "data": {
            "text/plain": [
              "array([[0.6198169 , 0.14276875, 0.90391264, 0.94266186, 0.65298266,\n",
              "        0.59735237, 0.22882445, 0.42098344],\n",
              "       [0.95087327, 0.26236876, 0.12503238, 0.61621562, 0.96456471,\n",
              "        0.04471757, 0.70225462, 0.94572835],\n",
              "       [0.50290058, 0.49664801, 0.28469708, 0.43983851, 0.51611099,\n",
              "        0.46674611, 0.28006041, 0.98111499],\n",
              "       [0.78398447, 0.54427052, 0.1265448 , 0.55026284, 0.71836448,\n",
              "        0.31098128, 0.37715524, 0.88814976],\n",
              "       [0.72131036, 0.64940427, 0.27026758, 0.88979255, 0.9443631 ,\n",
              "        0.79238826, 0.96409814, 0.43389641],\n",
              "       [0.13290823, 0.9718005 , 0.93051325, 0.046369  , 0.67947342,\n",
              "        0.33351397, 0.62920625, 0.14934813],\n",
              "       [0.26846977, 0.06743179, 0.52887606, 0.14062352, 0.13483774,\n",
              "        0.61196274, 0.85861631, 0.78178791]])"
            ]
          },
          "metadata": {},
          "execution_count": 38
        }
      ]
    },
    {
      "cell_type": "code",
      "source": [
        "# One dimensional array\n",
        "np.random.rand(2)"
      ],
      "metadata": {
        "colab": {
          "base_uri": "https://localhost:8080/"
        },
        "id": "Ae-C2YPeiFh7",
        "outputId": "3bdd0c0e-08ba-4a46-ead0-8e4051cc2a1c"
      },
      "execution_count": 39,
      "outputs": [
        {
          "output_type": "execute_result",
          "data": {
            "text/plain": [
              "array([0.31666932, 0.88775353])"
            ]
          },
          "metadata": {},
          "execution_count": 39
        }
      ]
    },
    {
      "cell_type": "code",
      "source": [
        "# One value\n",
        "np.random.uniform(low = -1, high = 5) "
      ],
      "metadata": {
        "colab": {
          "base_uri": "https://localhost:8080/"
        },
        "id": "BGq_002bjtcm",
        "outputId": "08ea5d42-5bfa-471f-f780-c458b93c884d"
      },
      "execution_count": 35,
      "outputs": [
        {
          "output_type": "execute_result",
          "data": {
            "text/plain": [
              "-0.29646686860088267"
            ]
          },
          "metadata": {},
          "execution_count": 35
        }
      ]
    },
    {
      "cell_type": "code",
      "source": [
        "# one dimensional\n",
        "\n",
        "np.random.uniform.uniform(low= -10, high = 0, size = 10)"
      ],
      "metadata": {
        "id": "QxwgfNozkaee"
      },
      "execution_count": null,
      "outputs": []
    },
    {
      "cell_type": "markdown",
      "source": [
        "#Normal Distribution"
      ],
      "metadata": {
        "id": "gz4fBMCkk-iG"
      }
    },
    {
      "cell_type": "code",
      "source": [
        "# Stadard Normal - N ~ (0,1)\n",
        "\n",
        "np.random.randn()\n",
        "np.random.randn(8)\n",
        "np.random.randn(7,5)\n"
      ],
      "metadata": {
        "colab": {
          "base_uri": "https://localhost:8080/"
        },
        "id": "Pn1Tut_ck8t4",
        "outputId": "a2e68494-875d-47c3-dbc0-009fc564417d"
      },
      "execution_count": 44,
      "outputs": [
        {
          "output_type": "execute_result",
          "data": {
            "text/plain": [
              "array([[ 0.73833037, -1.3957577 , -1.68379272, -1.65789181, -1.14510989],\n",
              "       [ 0.01095953, -0.80619681,  0.99117631, -0.98463441, -1.15195436],\n",
              "       [ 0.01868987,  0.35735897, -1.62601125, -0.43404084, -0.86753465],\n",
              "       [-0.53816757,  0.59571064, -1.85713912, -1.91060939, -1.11158585],\n",
              "       [ 0.04711351,  0.08034625,  0.13358034,  0.50279465,  0.22046517],\n",
              "       [-0.49368836,  1.10893115, -1.04094163,  0.52382069, -0.77062754],\n",
              "       [-0.73124396,  0.39742146, -0.65933413, -1.18739427,  0.40396971]])"
            ]
          },
          "metadata": {},
          "execution_count": 44
        }
      ]
    },
    {
      "cell_type": "code",
      "source": [
        "from numpy.core.fromnumeric import size\n",
        "# Normal - N ~ (mu, sigma)\n",
        "\n",
        "mu     =0.001  #mean\n",
        "sigma  =0.1    #std. desviation\n",
        "\n",
        "np.random.normal(mu, sigma)\n",
        "np.random.normal(mu, sigma, size = 5)\n",
        "np.random.normal(mu, sigma, size = (3,1))\n"
      ],
      "metadata": {
        "colab": {
          "base_uri": "https://localhost:8080/"
        },
        "id": "-o3Ij-81lkaB",
        "outputId": "a1aa8d87-acbd-4ce8-ffa4-ce7cc7334f97"
      },
      "execution_count": 46,
      "outputs": [
        {
          "output_type": "execute_result",
          "data": {
            "text/plain": [
              "array([[-0.03630014],\n",
              "       [-0.04402018],\n",
              "       [ 0.21397787]])"
            ]
          },
          "metadata": {},
          "execution_count": 46
        }
      ]
    },
    {
      "cell_type": "markdown",
      "source": [
        "# Random Inter"
      ],
      "metadata": {
        "id": "XcyICNpkm28d"
      }
    },
    {
      "cell_type": "code",
      "source": [
        "np.random.randint(low = 0, high = 10) # one value \n",
        "np.random.randint(low = 0, high = 10, size = 8) # one dimensional\n",
        "np.random.randint(low = 0, high = 10, size = (2,3)) #two dimensional"
      ],
      "metadata": {
        "colab": {
          "base_uri": "https://localhost:8080/"
        },
        "id": "UnCTYz6km5gM",
        "outputId": "26b5f853-3974-4ce8-fae0-3fcac05e8836"
      },
      "execution_count": 49,
      "outputs": [
        {
          "output_type": "execute_result",
          "data": {
            "text/plain": [
              "array([[2, 9, 7],\n",
              "       [6, 5, 7]])"
            ]
          },
          "metadata": {},
          "execution_count": 49
        }
      ]
    }
  ]
}