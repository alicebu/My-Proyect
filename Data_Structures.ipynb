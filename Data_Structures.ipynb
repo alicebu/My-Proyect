{
  "nbformat": 4,
  "nbformat_minor": 0,
  "metadata": {
    "colab": {
      "provenance": [],
      "authorship_tag": "ABX9TyMSMv6CtPBIL0eudiTa6Kxk",
      "include_colab_link": true
    },
    "kernelspec": {
      "name": "python3",
      "display_name": "Python 3"
    },
    "language_info": {
      "name": "python"
    }
  },
  "cells": [
    {
      "cell_type": "markdown",
      "metadata": {
        "id": "view-in-github",
        "colab_type": "text"
      },
      "source": [
        "<a href=\"https://colab.research.google.com/github/alicebu/My-Proyect/blob/main/Data_Structures.ipynb\" target=\"_parent\"><img src=\"https://colab.research.google.com/assets/colab-badge.svg\" alt=\"Open In Colab\"/></a>"
      ]
    },
    {
      "cell_type": "code",
      "execution_count": null,
      "metadata": {
        "id": "-T5zj22FTMWJ"
      },
      "outputs": [],
      "source": []
    },
    {
      "cell_type": "markdown",
      "source": [
        "# **1. What is a data structure**\n",
        "\n",
        "DS are like variable, they *save* information. The difference is that DS can store more than 1 value.\n",
        "\n",
        "\n",
        "Formaly, DS store a **sequence** of values which can be located with an index (sciling). Ex: list, vectors and matrices, databases.\n",
        "\n",
        "Now, basic Python sucks!!! It lacks specialized tools. In this case, we need to install 'numpy'.\n",
        "\n"
      ],
      "metadata": {
        "id": "3EoL_ucuTTl9"
      }
    },
    {
      "cell_type": "markdown",
      "source": [
        "# 2 **1. Linear Algebra - Numpy**\n",
        "\n",
        "Numpy (or Numerical Python) is collection of funtions and methods to handle DS.\n",
        "\n",
        "This library works very well with other libraries and it is very popular.\n",
        "\n"
      ],
      "metadata": {
        "id": "hdzBmIbnU8l2"
      }
    },
    {
      "cell_type": "code",
      "source": [
        "# Install a library\n",
        "\n",
        "import numpy as np\n",
        "\n"
      ],
      "metadata": {
        "id": "0M0VHuKqVz5O"
      },
      "execution_count": 11,
      "outputs": []
    },
    {
      "cell_type": "code",
      "source": [
        "np.array"
      ],
      "metadata": {
        "colab": {
          "base_uri": "https://localhost:8080/"
        },
        "id": "mIS67IGtV7nj",
        "outputId": "ac5f16f8-aaae-4f6e-9dd5-e65821ce1fbe"
      },
      "execution_count": 12,
      "outputs": [
        {
          "output_type": "execute_result",
          "data": {
            "text/plain": [
              "<function numpy.array>"
            ]
          },
          "metadata": {},
          "execution_count": 12
        }
      ]
    },
    {
      "cell_type": "markdown",
      "source": [
        "# 2.2. Numpy arrays - vectors and matrices \n",
        "\n",
        "objets arranged by row and columns. With these object you can sum and multiply \n",
        "\n",
        "*Example 1*\n",
        "\n",
        "let be x_{1} $x_{1}$\n",
        "\n",
        "Let $a$ be a vector with 2 rows and 1 column\n",
        "\n",
        "\\begin{equation}\n",
        "a = \\left[\\begin{array}{c} a_{1} \\\\ a_{2}\n",
        "    \\end{array}\\right]\n",
        "\\end{equation}\n",
        "\n",
        "This is called a **COLUM VECTOR**. And the vector dimension or shape is $(2,1)$ or $(2 \\times 1)$\n",
        "\n",
        "*Example 2*\n",
        "\n",
        "Let $b$ be a vectors with 1 rows and 2 column\n",
        "\n",
        "\\begin{equation}\n",
        "a = \\left[\\begin{array}{c} b_{1} \\\\ b_{2}\n",
        "    \\end{array}\\right]\n",
        "\\end{equation}\n",
        "\n",
        "This is called a **ROW VECTOR**. And the vector dimension or shape is $(1,2)$ or $(1 \\times 2)$\n",
        "\n",
        "\n",
        "*Example 3*\n",
        "\n",
        "A matrix has more than 1 row and more than 1 column.\n",
        "\n",
        "Of course if the number of rows and columns are equal, it is called a *squared matrix*\n",
        "\n",
        "In general , let $M$ be a matrix of dimension $(n,m)$ or $(n \\times m)$\n",
        "\n",
        "For the case of $n=3$ and $m=3$:\n",
        "\n",
        "\\begin{equation}\n",
        "a = \\left[\\begin{array}{c} \n",
        "m_{1,1} & m_{1,2} & m_{1.3} \\\\\n",
        "m_{2,1} & m_{2,2} & m_{2.3} \\\\\n",
        "m_{3,1} & m_{3,2} & m_{3.3} \\\\\n",
        "    \\end{array}\\right]\n",
        "\\end{equation}\n",
        "\n"
      ],
      "metadata": {
        "id": "u-sdbl8LWlAK"
      }
    },
    {
      "cell_type": "code",
      "source": [
        "# Example - column vector \n",
        "\n",
        "a = np.array([[4], [5], [6]])\n",
        "print(a) \n",
        "print(a.shape)"
      ],
      "metadata": {
        "colab": {
          "base_uri": "https://localhost:8080/"
        },
        "id": "zz1In81Zc9RN",
        "outputId": "c559b5d6-b88d-48f8-a282-71512b14278e"
      },
      "execution_count": 24,
      "outputs": [
        {
          "output_type": "stream",
          "name": "stdout",
          "text": [
            "[[4]\n",
            " [5]\n",
            " [6]]\n",
            "(3, 1)\n"
          ]
        }
      ]
    },
    {
      "cell_type": "code",
      "source": [
        "# Example - Row Vector\n",
        "\n",
        "b = np.array([[1, 2, 3]])\n",
        "print(b)\n",
        "print(b.shape)"
      ],
      "metadata": {
        "colab": {
          "base_uri": "https://localhost:8080/"
        },
        "id": "B0W4g1Bxad1O",
        "outputId": "15d33375-8d04-47a4-c1e3-d38af23f68d9"
      },
      "execution_count": 14,
      "outputs": [
        {
          "output_type": "stream",
          "name": "stdout",
          "text": [
            "[[1 2 3]]\n",
            "(1, 3)\n"
          ]
        }
      ]
    },
    {
      "cell_type": "code",
      "source": [
        "# Example - Matrix \n",
        "M = np.array([[1,2,3],\n",
        "              [4,5,6],\n",
        "              [7,8,9]])\n",
        "print(M)\n",
        "print(M.shape)"
      ],
      "metadata": {
        "colab": {
          "base_uri": "https://localhost:8080/"
        },
        "id": "NGa3x2i4a8lu",
        "outputId": "2bdef4ae-31c5-44d5-a3fc-12dc5a913481"
      },
      "execution_count": 19,
      "outputs": [
        {
          "output_type": "stream",
          "name": "stdout",
          "text": [
            "[[1 2 3]\n",
            " [4 5 6]\n",
            " [7 8 9]]\n",
            "(3, 3)\n"
          ]
        }
      ]
    },
    {
      "cell_type": "markdown",
      "source": [
        "# A nice track"
      ],
      "metadata": {
        "id": "jKIdYY53cAbM"
      }
    },
    {
      "cell_type": "code",
      "source": [
        "# nr: store the number of rows\n",
        "# nr: stores the number of columns\n",
        "nr, nc = M.shape"
      ],
      "metadata": {
        "id": "VcTQNGyzcLtk"
      },
      "execution_count": 21,
      "outputs": []
    },
    {
      "cell_type": "markdown",
      "source": [
        "# Size of DS\n",
        "\n",
        "In python, size means the number of elements in a DS"
      ],
      "metadata": {
        "id": "ndJuXl1PdeZH"
      }
    },
    {
      "cell_type": "code",
      "source": [
        "M.size"
      ],
      "metadata": {
        "colab": {
          "base_uri": "https://localhost:8080/"
        },
        "id": "MhTRnW9KdrjX",
        "outputId": "b9eab3ed-12a5-49d7-f5d3-01f65a0a6d80"
      },
      "execution_count": 22,
      "outputs": [
        {
          "output_type": "execute_result",
          "data": {
            "text/plain": [
              "9"
            ]
          },
          "metadata": {},
          "execution_count": 22
        }
      ]
    },
    {
      "cell_type": "code",
      "source": [
        "# ONE WARNING\n",
        "\n",
        "z = 2\n",
        "w = np.array([[2]])\n",
        "print(type(z),type(w))"
      ],
      "metadata": {
        "colab": {
          "base_uri": "https://localhost:8080/"
        },
        "id": "bUlV4vtVdx3u",
        "outputId": "063a84b4-a3b5-4f6b-bca9-c9c72725a4fc"
      },
      "execution_count": 23,
      "outputs": [
        {
          "output_type": "stream",
          "name": "stdout",
          "text": [
            "<class 'int'> <class 'numpy.ndarray'>\n"
          ]
        }
      ]
    },
    {
      "cell_type": "markdown",
      "source": [
        "## 2.3 slicing\n",
        "\n",
        "It is the same as string variable, only with minor modifications.\n",
        "\n",
        "Let's see:"
      ],
      "metadata": {
        "id": "s2AQ6RWoeKQH"
      }
    },
    {
      "cell_type": "code",
      "source": [
        "# Extract the 1st element\n",
        "\n",
        "## column Vector\n",
        "print(a[0,0])\n",
        "print(type(a[0,0]))\n",
        "\n",
        "## Row Vector\n",
        "print(b[0,0])\n",
        "print(type(a[0,0]))\n",
        "\n",
        "## Matrix\n",
        "print(M[1,1])"
      ],
      "metadata": {
        "colab": {
          "base_uri": "https://localhost:8080/"
        },
        "id": "vs0UG1SMeaU_",
        "outputId": "ec36a6ac-e34e-4d9c-e0a7-db8998cc9d12"
      },
      "execution_count": 31,
      "outputs": [
        {
          "output_type": "stream",
          "name": "stdout",
          "text": [
            "4\n",
            "<class 'numpy.int64'>\n",
            "1\n",
            "<class 'numpy.int64'>\n",
            "5\n"
          ]
        }
      ]
    },
    {
      "cell_type": "code",
      "source": [
        "# Extrac the last element\n",
        "\n",
        "print('The last element of a row vector:', b[0,-1])\n",
        "print('The last element of a column vector:', a[-1,0])\n",
        "print('The last element of a matrix', M[-1,-1])"
      ],
      "metadata": {
        "colab": {
          "base_uri": "https://localhost:8080/"
        },
        "id": "hBKyWMRAgKLn",
        "outputId": "519ab286-f3c7-46b7-e6d5-cab80f34accd"
      },
      "execution_count": 32,
      "outputs": [
        {
          "output_type": "stream",
          "name": "stdout",
          "text": [
            "The last element of a row vector: 3\n",
            "The last element of a column vector: 6\n",
            "The last element of a matrix 9\n"
          ]
        }
      ]
    },
    {
      "cell_type": "code",
      "source": [
        "# Extract  subset\n",
        "\n",
        "## Column Vector\n",
        "print(a[0:2,0])\n",
        "\n",
        "## Column Vector\n",
        "print(a[0:2])\n",
        "\n",
        "## Row Vector\n",
        "print(b[0,0:2])\n",
        "\n",
        "## Matrix\n",
        "print(M[0:2,0:2])"
      ],
      "metadata": {
        "colab": {
          "base_uri": "https://localhost:8080/"
        },
        "id": "v2XiXKAjg3yo",
        "outputId": "76637b9c-da61-4618-9ba1-c67b9270f635"
      },
      "execution_count": 36,
      "outputs": [
        {
          "output_type": "stream",
          "name": "stdout",
          "text": [
            "[4 5]\n",
            "[[4]\n",
            " [5]]\n",
            "[1 2]\n",
            "[[1 2]\n",
            " [4 5]]\n"
          ]
        }
      ]
    }
  ]
}