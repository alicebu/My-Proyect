{
  "nbformat": 4,
  "nbformat_minor": 0,
  "metadata": {
    "colab": {
      "provenance": [],
      "authorship_tag": "ABX9TyMhkWwMjDOrCQUhFWvAo4IP",
      "include_colab_link": true
    },
    "kernelspec": {
      "name": "python3",
      "display_name": "Python 3"
    },
    "language_info": {
      "name": "python"
    }
  },
  "cells": [
    {
      "cell_type": "markdown",
      "metadata": {
        "id": "view-in-github",
        "colab_type": "text"
      },
      "source": [
        "<a href=\"https://colab.research.google.com/github/alicebu/My-Proyect/blob/main/Data_Structures.ipynb\" target=\"_parent\"><img src=\"https://colab.research.google.com/assets/colab-badge.svg\" alt=\"Open In Colab\"/></a>"
      ]
    },
    {
      "cell_type": "code",
      "execution_count": null,
      "metadata": {
        "id": "-T5zj22FTMWJ"
      },
      "outputs": [],
      "source": []
    },
    {
      "cell_type": "markdown",
      "source": [
        "# **1. What is a data structure**\n",
        "\n",
        "DS are like variable, they *save* information. The difference is that DS can store more than 1 value.\n",
        "\n",
        "\n",
        "Formaly, DS store a **sequence** of values which can be located with an index (sciling). Ex: list, vectors and matrices, databases.\n",
        "\n",
        "Now, basic Python sucks!!! It lacks specialized tools. In this case, we need to install 'numpy'.\n",
        "\n"
      ],
      "metadata": {
        "id": "3EoL_ucuTTl9"
      }
    },
    {
      "cell_type": "markdown",
      "source": [
        "# 2 **1. Linear Algebra - Numpy**\n",
        "\n",
        "Numpy (or Numerical Python) is collection of funtions and methods to handle DS.\n",
        "\n",
        "This library works very well with other libraries and it is very popular.\n",
        "\n"
      ],
      "metadata": {
        "id": "hdzBmIbnU8l2"
      }
    },
    {
      "cell_type": "code",
      "source": [
        "# Install a library\n",
        "\n",
        "import numpy as np\n",
        "\n"
      ],
      "metadata": {
        "id": "0M0VHuKqVz5O"
      },
      "execution_count": 1,
      "outputs": []
    },
    {
      "cell_type": "code",
      "source": [
        "np.array"
      ],
      "metadata": {
        "colab": {
          "base_uri": "https://localhost:8080/"
        },
        "id": "mIS67IGtV7nj",
        "outputId": "ac5f16f8-aaae-4f6e-9dd5-e65821ce1fbe"
      },
      "execution_count": null,
      "outputs": [
        {
          "output_type": "execute_result",
          "data": {
            "text/plain": [
              "<function numpy.array>"
            ]
          },
          "metadata": {},
          "execution_count": 12
        }
      ]
    },
    {
      "cell_type": "markdown",
      "source": [
        "# 2.2. Numpy arrays - vectors and matrices \n",
        "\n",
        "objets arranged by row and columns. With these object you can sum and multiply \n",
        "\n",
        "*Example 1*\n",
        "\n",
        "let be x_{1} $x_{1}$\n",
        "\n",
        "Let $a$ be a vector with 2 rows and 1 column\n",
        "\n",
        "\\begin{equation}\n",
        "a = \\left[\\begin{array}{c} a_{1} \\\\ a_{2}\n",
        "    \\end{array}\\right]\n",
        "\\end{equation}\n",
        "\n",
        "This is called a **COLUM VECTOR**. And the vector dimension or shape is $(2,1)$ or $(2 \\times 1)$\n",
        "\n",
        "*Example 2*\n",
        "\n",
        "Let $b$ be a vectors with 1 rows and 2 column\n",
        "\n",
        "\\begin{equation}\n",
        "a = \\left[\\begin{array}{c} b_{1} \\\\ b_{2}\n",
        "    \\end{array}\\right]\n",
        "\\end{equation}\n",
        "\n",
        "This is called a **ROW VECTOR**. And the vector dimension or shape is $(1,2)$ or $(1 \\times 2)$\n",
        "\n",
        "\n",
        "*Example 3*\n",
        "\n",
        "A matrix has more than 1 row and more than 1 column.\n",
        "\n",
        "Of course if the number of rows and columns are equal, it is called a *squared matrix*\n",
        "\n",
        "In general , let $M$ be a matrix of dimension $(n,m)$ or $(n \\times m)$\n",
        "\n",
        "For the case of $n=3$ and $m=3$:\n",
        "\n",
        "\\begin{equation}\n",
        "a = \\left[\\begin{array}{c} \n",
        "m_{1,1} & m_{1,2} & m_{1.3} \\\\\n",
        "m_{2,1} & m_{2,2} & m_{2.3} \\\\\n",
        "m_{3,1} & m_{3,2} & m_{3.3} \\\\\n",
        "    \\end{array}\\right]\n",
        "\\end{equation}\n",
        "\n"
      ],
      "metadata": {
        "id": "u-sdbl8LWlAK"
      }
    },
    {
      "cell_type": "code",
      "source": [
        "# Example - column vector \n",
        "\n",
        "a = np.array([[4], [5], [6]])\n",
        "print(a) \n",
        "print(a.shape)"
      ],
      "metadata": {
        "colab": {
          "base_uri": "https://localhost:8080/"
        },
        "id": "zz1In81Zc9RN",
        "outputId": "c559b5d6-b88d-48f8-a282-71512b14278e"
      },
      "execution_count": null,
      "outputs": [
        {
          "output_type": "stream",
          "name": "stdout",
          "text": [
            "[[4]\n",
            " [5]\n",
            " [6]]\n",
            "(3, 1)\n"
          ]
        }
      ]
    },
    {
      "cell_type": "code",
      "source": [
        "# Example - Row Vector\n",
        "\n",
        "b = np.array([[1, 2, 3]])\n",
        "print(b)\n",
        "print(b.shape)"
      ],
      "metadata": {
        "colab": {
          "base_uri": "https://localhost:8080/"
        },
        "id": "B0W4g1Bxad1O",
        "outputId": "15d33375-8d04-47a4-c1e3-d38af23f68d9"
      },
      "execution_count": null,
      "outputs": [
        {
          "output_type": "stream",
          "name": "stdout",
          "text": [
            "[[1 2 3]]\n",
            "(1, 3)\n"
          ]
        }
      ]
    },
    {
      "cell_type": "code",
      "source": [
        "# Example - Matrix \n",
        "M = np.array([[1,2,3],\n",
        "              [4,5,6],\n",
        "              [7,8,9]])\n",
        "print(M)\n",
        "print(M.shape)"
      ],
      "metadata": {
        "colab": {
          "base_uri": "https://localhost:8080/"
        },
        "id": "NGa3x2i4a8lu",
        "outputId": "2bdef4ae-31c5-44d5-a3fc-12dc5a913481"
      },
      "execution_count": null,
      "outputs": [
        {
          "output_type": "stream",
          "name": "stdout",
          "text": [
            "[[1 2 3]\n",
            " [4 5 6]\n",
            " [7 8 9]]\n",
            "(3, 3)\n"
          ]
        }
      ]
    },
    {
      "cell_type": "markdown",
      "source": [
        "# A nice track"
      ],
      "metadata": {
        "id": "jKIdYY53cAbM"
      }
    },
    {
      "cell_type": "code",
      "source": [
        "# nr: store the number of rows\n",
        "# nr: stores the number of columns\n",
        "nr, nc = M.shape"
      ],
      "metadata": {
        "id": "VcTQNGyzcLtk"
      },
      "execution_count": null,
      "outputs": []
    },
    {
      "cell_type": "markdown",
      "source": [
        "# Size of DS\n",
        "\n",
        "In python, size means the number of elements in a DS"
      ],
      "metadata": {
        "id": "ndJuXl1PdeZH"
      }
    },
    {
      "cell_type": "code",
      "source": [
        "M.size"
      ],
      "metadata": {
        "colab": {
          "base_uri": "https://localhost:8080/"
        },
        "id": "MhTRnW9KdrjX",
        "outputId": "b9eab3ed-12a5-49d7-f5d3-01f65a0a6d80"
      },
      "execution_count": null,
      "outputs": [
        {
          "output_type": "execute_result",
          "data": {
            "text/plain": [
              "9"
            ]
          },
          "metadata": {},
          "execution_count": 22
        }
      ]
    },
    {
      "cell_type": "code",
      "source": [
        "# ONE WARNING\n",
        "\n",
        "z = 2\n",
        "w = np.array([[2]])\n",
        "print(type(z),type(w))"
      ],
      "metadata": {
        "colab": {
          "base_uri": "https://localhost:8080/"
        },
        "id": "bUlV4vtVdx3u",
        "outputId": "063a84b4-a3b5-4f6b-bca9-c9c72725a4fc"
      },
      "execution_count": null,
      "outputs": [
        {
          "output_type": "stream",
          "name": "stdout",
          "text": [
            "<class 'int'> <class 'numpy.ndarray'>\n"
          ]
        }
      ]
    },
    {
      "cell_type": "markdown",
      "source": [
        "## 2.3 slicing\n",
        "\n",
        "It is the same as string variable, only with minor modifications.\n",
        "\n",
        "Let's see:"
      ],
      "metadata": {
        "id": "s2AQ6RWoeKQH"
      }
    },
    {
      "cell_type": "code",
      "source": [
        "# Extract the 1st element\n",
        "\n",
        "## column Vector\n",
        "print(a[0,0])\n",
        "print(type(a[0,0]))\n",
        "\n",
        "## Row Vector\n",
        "print(b[0,0])\n",
        "print(type(a[0,0]))\n",
        "\n",
        "## Matrix\n",
        "print(M[1,1])"
      ],
      "metadata": {
        "colab": {
          "base_uri": "https://localhost:8080/"
        },
        "id": "vs0UG1SMeaU_",
        "outputId": "ec36a6ac-e34e-4d9c-e0a7-db8998cc9d12"
      },
      "execution_count": null,
      "outputs": [
        {
          "output_type": "stream",
          "name": "stdout",
          "text": [
            "4\n",
            "<class 'numpy.int64'>\n",
            "1\n",
            "<class 'numpy.int64'>\n",
            "5\n"
          ]
        }
      ]
    },
    {
      "cell_type": "code",
      "source": [
        "# Extrac the last element\n",
        "\n",
        "print('The last element of a row vector:', b[0,-1])\n",
        "print('The last element of a column vector:', a[-1,0])\n",
        "print('The last element of a matrix', M[-1,-1])"
      ],
      "metadata": {
        "colab": {
          "base_uri": "https://localhost:8080/"
        },
        "id": "hBKyWMRAgKLn",
        "outputId": "519ab286-f3c7-46b7-e6d5-cab80f34accd"
      },
      "execution_count": null,
      "outputs": [
        {
          "output_type": "stream",
          "name": "stdout",
          "text": [
            "The last element of a row vector: 3\n",
            "The last element of a column vector: 6\n",
            "The last element of a matrix 9\n"
          ]
        }
      ]
    },
    {
      "cell_type": "code",
      "source": [
        "# Extract  subset\n",
        "\n",
        "## Column Vector\n",
        "print(a[0:2,0])\n",
        "\n",
        "## Column Vector\n",
        "print(a[0:2])\n",
        "\n",
        "## Row Vector\n",
        "print(b[0,0:2])\n",
        "\n",
        "## Matrix\n",
        "print(M[0:2,0:2])"
      ],
      "metadata": {
        "colab": {
          "base_uri": "https://localhost:8080/"
        },
        "id": "v2XiXKAjg3yo",
        "outputId": "76637b9c-da61-4618-9ba1-c67b9270f635"
      },
      "execution_count": null,
      "outputs": [
        {
          "output_type": "stream",
          "name": "stdout",
          "text": [
            "[4 5]\n",
            "[[4]\n",
            " [5]]\n",
            "[1 2]\n",
            "[[1 2]\n",
            " [4 5]]\n"
          ]
        }
      ]
    },
    {
      "cell_type": "code",
      "source": [
        "## A custom sequence with a set step\n",
        "a = 3\n",
        "b = 25\n",
        "s = 0.25\n",
        "np.arange(a,b,s)"
      ],
      "metadata": {
        "colab": {
          "base_uri": "https://localhost:8080/"
        },
        "id": "ETA8MAEeaXdo",
        "outputId": "f8a94380-843b-48ad-9806-705dfcf0ff00"
      },
      "execution_count": 2,
      "outputs": [
        {
          "output_type": "execute_result",
          "data": {
            "text/plain": [
              "array([ 3.  ,  3.25,  3.5 ,  3.75,  4.  ,  4.25,  4.5 ,  4.75,  5.  ,\n",
              "        5.25,  5.5 ,  5.75,  6.  ,  6.25,  6.5 ,  6.75,  7.  ,  7.25,\n",
              "        7.5 ,  7.75,  8.  ,  8.25,  8.5 ,  8.75,  9.  ,  9.25,  9.5 ,\n",
              "        9.75, 10.  , 10.25, 10.5 , 10.75, 11.  , 11.25, 11.5 , 11.75,\n",
              "       12.  , 12.25, 12.5 , 12.75, 13.  , 13.25, 13.5 , 13.75, 14.  ,\n",
              "       14.25, 14.5 , 14.75, 15.  , 15.25, 15.5 , 15.75, 16.  , 16.25,\n",
              "       16.5 , 16.75, 17.  , 17.25, 17.5 , 17.75, 18.  , 18.25, 18.5 ,\n",
              "       18.75, 19.  , 19.25, 19.5 , 19.75, 20.  , 20.25, 20.5 , 20.75,\n",
              "       21.  , 21.25, 21.5 , 21.75, 22.  , 22.25, 22.5 , 22.75, 23.  ,\n",
              "       23.25, 23.5 , 23.75, 24.  , 24.25, 24.5 , 24.75])"
            ]
          },
          "metadata": {},
          "execution_count": 2
        }
      ]
    },
    {
      "cell_type": "code",
      "source": [
        "## Linear space\n",
        "\n",
        "a = 1\n",
        "b = 5\n",
        "n = 3\n",
        "\n",
        "np.linspace(a, b, num = n)\n",
        "\n",
        "\n",
        "a = 15\n",
        "b = 17\n",
        "n = 10\n",
        "\n",
        "np.linspace(a, b, num = n)"
      ],
      "metadata": {
        "colab": {
          "base_uri": "https://localhost:8080/"
        },
        "id": "JzyGpntBauQn",
        "outputId": "22e8727c-33c1-409f-eedc-9c5e24e46ef3"
      },
      "execution_count": 4,
      "outputs": [
        {
          "output_type": "execute_result",
          "data": {
            "text/plain": [
              "array([15.        , 15.22222222, 15.44444444, 15.66666667, 15.88888889,\n",
              "       16.11111111, 16.33333333, 16.55555556, 16.77777778, 17.        ])"
            ]
          },
          "metadata": {},
          "execution_count": 4
        }
      ]
    },
    {
      "cell_type": "markdown",
      "source": [
        "### Random numbers\n",
        "\n",
        "We are talking about probabilities, and of probabilistic distributions."
      ],
      "metadata": {
        "id": "MZpjX78ib0GP"
      }
    },
    {
      "cell_type": "markdown",
      "source": [
        "#### Uniform distribution over [0,1)"
      ],
      "metadata": {
        "id": "rm_cRTdhcQy2"
      }
    },
    {
      "cell_type": "code",
      "source": [
        "# A single vale\n",
        "np.random.rand()"
      ],
      "metadata": {
        "colab": {
          "base_uri": "https://localhost:8080/"
        },
        "id": "Kc_S8JoZcuHW",
        "outputId": "ca6bfe64-7f95-4daa-a4b9-304277001d4c"
      },
      "execution_count": 6,
      "outputs": [
        {
          "output_type": "execute_result",
          "data": {
            "text/plain": [
              "0.8439713900083874"
            ]
          },
          "metadata": {},
          "execution_count": 6
        }
      ]
    },
    {
      "cell_type": "code",
      "source": [
        "# Example 1 - the coin toss\n",
        "## Here we are going to simulate a coin toss\n",
        "\n",
        "if np.random.rand() <= 0.5:\n",
        "  print('head')\n",
        "else:\n",
        "  print('tails')"
      ],
      "metadata": {
        "colab": {
          "base_uri": "https://localhost:8080/"
        },
        "id": "man53zYudR1e",
        "outputId": "efc7b034-8cf7-4d3c-dbae-3ae54b685238"
      },
      "execution_count": 10,
      "outputs": [
        {
          "output_type": "stream",
          "name": "stdout",
          "text": [
            "tails\n"
          ]
        }
      ]
    },
    {
      "cell_type": "code",
      "source": [
        "from numpy.random.mtrand import random\n",
        "from numpy.random import rand\n",
        "# Example 2- Ranking\n",
        "\n",
        "## The idea is to print 'low' if the number is lower than 0.3\n",
        "## print 'Average' if is between 0.3 and 0.7\n",
        "## print 'High' if it is greater than 0.7\n",
        "\n",
        "rnd = np.random.rand()\n",
        "\n",
        "if np.random.rand() <= 0.3:\n",
        "  print('Low', rnd)\n",
        "elif np.random.rand() > 0.3 and rnd <= 0.7:\n",
        "  print('Average', rnd)\n",
        "else:\n",
        "  print('High', rnd)\n"
      ],
      "metadata": {
        "colab": {
          "base_uri": "https://localhost:8080/"
        },
        "id": "aPfVyyt3e5Ko",
        "outputId": "2b1a36a1-c02a-4773-be5b-fcba08bca142"
      },
      "execution_count": 12,
      "outputs": [
        {
          "output_type": "stream",
          "name": "stdout",
          "text": [
            "Low 0.23807979959670933\n"
          ]
        }
      ]
    },
    {
      "cell_type": "markdown",
      "source": [
        "**Exercise**\n",
        "\n",
        "Code the following game. Print the message\n",
        "'You win!' if two coin tosses are heads and print 'You lose!' otherwise"
      ],
      "metadata": {
        "id": "5kAuImlwhUcf"
      }
    },
    {
      "cell_type": "code",
      "source": [
        "if np.random.rand() <= 0.5:\n",
        "  print('You win!')\n",
        "else:\n",
        "  print('You lose!')"
      ],
      "metadata": {
        "colab": {
          "base_uri": "https://localhost:8080/"
        },
        "id": "K5ZnXSn7hsk1",
        "outputId": "9076bfba-df9a-4585-d558-656ca2c6002c"
      },
      "execution_count": 13,
      "outputs": [
        {
          "output_type": "stream",
          "name": "stdout",
          "text": [
            "You lose!\n"
          ]
        }
      ]
    },
    {
      "cell_type": "code",
      "source": [
        "rnd = np.random.rand()\n",
        "\n",
        "if np.random.rand() <= 0.5:\n",
        "  print('You win!', rnd)\n",
        "elif np.random.rand() > 0.5 and rnd <= 2.0:\n",
        "  print('You lose!', rnd)\n",
        "else:\n",
        "  print('High', rnd)"
      ],
      "metadata": {
        "colab": {
          "base_uri": "https://localhost:8080/"
        },
        "id": "nV3r4wXfiIaa",
        "outputId": "5d23eb32-2f37-404b-ba8e-765aa3989bca"
      },
      "execution_count": 14,
      "outputs": [
        {
          "output_type": "stream",
          "name": "stdout",
          "text": [
            "You lose! 0.32336254139058906\n"
          ]
        }
      ]
    },
    {
      "cell_type": "code",
      "source": [
        "rnd = np.random.rand()\n",
        "\n",
        "if np.random.rand() <= 0.5:\n",
        "  print('Head', rnd)\n",
        "elif np.random.rand() > 0.5 and rnd <= 2.0:\n",
        "  print('Tails', rnd)\n",
        "else:\n",
        "  print('High', rnd)"
      ],
      "metadata": {
        "id": "QLUMLEi-jEPa"
      },
      "execution_count": null,
      "outputs": []
    },
    {
      "cell_type": "code",
      "source": [
        "First_att = np.random.rand\n",
        "\n",
        "if First_att <= 0.5:\n",
        "  print('Head', First_att)\n",
        "else:\n",
        "  print('tails', First_att)\n",
        "\n",
        "\n"
      ],
      "metadata": {
        "colab": {
          "base_uri": "https://localhost:8080/",
          "height": 235
        },
        "id": "u1aiB23Ek5mW",
        "outputId": "7e3feb3e-5154-4933-b635-74bf0cf119b5"
      },
      "execution_count": 21,
      "outputs": [
        {
          "output_type": "error",
          "ename": "TypeError",
          "evalue": "ignored",
          "traceback": [
            "\u001b[0;31m---------------------------------------------------------------------------\u001b[0m",
            "\u001b[0;31mTypeError\u001b[0m                                 Traceback (most recent call last)",
            "\u001b[0;32m<ipython-input-21-1e3a7b7f8cdc>\u001b[0m in \u001b[0;36m<module>\u001b[0;34m\u001b[0m\n\u001b[1;32m      1\u001b[0m \u001b[0mFirst_att\u001b[0m \u001b[0;34m=\u001b[0m \u001b[0mnp\u001b[0m\u001b[0;34m.\u001b[0m\u001b[0mrandom\u001b[0m\u001b[0;34m.\u001b[0m\u001b[0mrand\u001b[0m\u001b[0;34m\u001b[0m\u001b[0;34m\u001b[0m\u001b[0m\n\u001b[1;32m      2\u001b[0m \u001b[0;34m\u001b[0m\u001b[0m\n\u001b[0;32m----> 3\u001b[0;31m \u001b[0;32mif\u001b[0m \u001b[0mFirst_att\u001b[0m \u001b[0;34m<=\u001b[0m \u001b[0;36m0.5\u001b[0m\u001b[0;34m:\u001b[0m\u001b[0;34m\u001b[0m\u001b[0;34m\u001b[0m\u001b[0m\n\u001b[0m\u001b[1;32m      4\u001b[0m   \u001b[0mprint\u001b[0m\u001b[0;34m(\u001b[0m\u001b[0;34m'Head'\u001b[0m\u001b[0;34m,\u001b[0m \u001b[0mFirst_att\u001b[0m\u001b[0;34m)\u001b[0m\u001b[0;34m\u001b[0m\u001b[0;34m\u001b[0m\u001b[0m\n\u001b[1;32m      5\u001b[0m \u001b[0;32melse\u001b[0m\u001b[0;34m:\u001b[0m\u001b[0;34m\u001b[0m\u001b[0;34m\u001b[0m\u001b[0m\n",
            "\u001b[0;31mTypeError\u001b[0m: '<=' not supported between instances of 'builtin_function_or_method' and 'float'"
          ]
        }
      ]
    },
    {
      "cell_type": "code",
      "source": [
        "if First_att <= 0.5:\n",
        "  print('Head', First_att)\n",
        "else:\n",
        "  print('tails', First_att)\n",
        "\n",
        "Second_att = np.random.rand\n",
        "\n",
        "if Second_att <= 0.5:\n",
        "  print('Head', Second_att)\n",
        "else:\n",
        "  print('tails', Second_att)\n",
        "\n",
        "if First_att <=0.5 and Second_att <=0.5:\n",
        "  print('You win!')\n",
        "else:\n",
        "  print('You lose!')"
      ],
      "metadata": {
        "id": "4bybFOj1nBMF"
      },
      "execution_count": null,
      "outputs": []
    }
  ]
}