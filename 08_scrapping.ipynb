{
  "nbformat": 4,
  "nbformat_minor": 0,
  "metadata": {
    "colab": {
      "provenance": [],
      "authorship_tag": "ABX9TyMoxa2ROiy40Kv0fTasfjRj",
      "include_colab_link": true
    },
    "kernelspec": {
      "name": "python3",
      "display_name": "Python 3"
    },
    "language_info": {
      "name": "python"
    }
  },
  "cells": [
    {
      "cell_type": "markdown",
      "metadata": {
        "id": "view-in-github",
        "colab_type": "text"
      },
      "source": [
        "<a href=\"https://colab.research.google.com/github/alicebu/My-Proyect/blob/main/08_scrapping.ipynb\" target=\"_parent\"><img src=\"https://colab.research.google.com/assets/colab-badge.svg\" alt=\"Open In Colab\"/></a>"
      ]
    },
    {
      "cell_type": "markdown",
      "source": [],
      "metadata": {
        "id": "NpaVZnNU_Q-t"
      }
    },
    {
      "cell_type": "code",
      "source": [
        "%reset"
      ],
      "metadata": {
        "id": "6qiuBHGxBCOV"
      },
      "execution_count": null,
      "outputs": []
    },
    {
      "cell_type": "code",
      "source": [
        "# Libraries\n",
        "\n",
        "## Load content\n",
        "import requests\n",
        "## To parse the page content\n",
        "from bs4 import BeautifulSoup\n",
        "# ...\n",
        "import numpy as numpy\n",
        "import pandas as pd"
      ],
      "metadata": {
        "id": "Mu4rxsnqA3JO"
      },
      "execution_count": null,
      "outputs": []
    },
    {
      "cell_type": "code",
      "source": [
        "# URL of the page\n",
        "URL = 'https://www.investing.com/dividends-calendar/'\n",
        "\n",
        "# Load the pague\n",
        "page = requests.get(url, verify = False)"
      ],
      "metadata": {
        "id": "XPE_rkVyBlDL"
      },
      "execution_count": null,
      "outputs": []
    },
    {
      "cell_type": "code",
      "source": [
        "# Transform the request to HTML\n",
        "dc = BeautifulSoup(page.content, 'html.parse')\n",
        "dc"
      ],
      "metadata": {
        "id": "nyzDUyOaCEei"
      },
      "execution_count": null,
      "outputs": []
    },
    {
      "cell_type": "code",
      "source": [
        "# Identify the table\n",
        "table = dc.find_all('table')\n",
        "\n",
        "# Dividendo\n",
        "table1 = table[1]\n",
        "table1"
      ],
      "metadata": {
        "id": "cXw8HJW9DE9Z"
      },
      "execution_count": null,
      "outputs": []
    },
    {
      "cell_type": "code",
      "source": [
        "# Find rows\n",
        "rows = table1.find_all('tr')"
      ],
      "metadata": {
        "id": "C1TcwlbaEGHR"
      },
      "execution_count": null,
      "outputs": []
    },
    {
      "cell_type": "code",
      "source": [
        "# Convertir to Data Frame\n",
        "\n",
        "# Empty list\n",
        "tmp = []\n",
        "\n",
        "# Loop (aqui se pretende encontrar y extraer el dato que necesitamos)\n",
        "for i in rows[1:]:\n",
        "  cells = i.find_all(['td', 'th'])\n",
        "  cells_text = [cell.get_text(scrip=True) for cell in cells]\n",
        "  # Append each entry\n",
        "  tmp.append(cells_text)\n",
        "\n",
        "## To dataframe\n",
        "data = pd.DataFrame(tmp)\n",
        "data.head()"
      ],
      "metadata": {
        "id": "w2koIi49EikW"
      },
      "execution_count": null,
      "outputs": []
    }
  ]
}