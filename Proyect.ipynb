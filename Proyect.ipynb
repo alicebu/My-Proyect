{
  "nbformat": 4,
  "nbformat_minor": 0,
  "metadata": {
    "colab": {
      "name": "Proyect.ipynb",
      "provenance": [],
      "authorship_tag": "ABX9TyPmX5717MCHAVV8fLAFn26Q",
      "include_colab_link": true
    },
    "kernelspec": {
      "name": "python3",
      "display_name": "Python 3"
    },
    "language_info": {
      "name": "python"
    }
  },
  "cells": [
    {
      "cell_type": "markdown",
      "metadata": {
        "id": "view-in-github",
        "colab_type": "text"
      },
      "source": [
        "<a href=\"https://colab.research.google.com/github/alicebu/My-Proyect/blob/main/Proyect.ipynb\" target=\"_parent\"><img src=\"https://colab.research.google.com/assets/colab-badge.svg\" alt=\"Open In Colab\"/></a>"
      ]
    },
    {
      "cell_type": "code",
      "execution_count": null,
      "metadata": {
        "id": "Jj39nKOLTI8c"
      },
      "outputs": [],
      "source": [
        ""
      ]
    },
    {
      "cell_type": "markdown",
      "source": [
        "#First Part\n",
        "\n",
        "pitch\n",
        "\n",
        "Format - iphynb\n",
        "\n",
        "Contens\n",
        "\n",
        "1. Variable:\n",
        "\n",
        "    1.1. Name \n",
        "\n",
        "    1.2 Period or dates. And frequency Individuals\n",
        "\n",
        "    1.3 Sources (with links)\n",
        "\n",
        "2. Goals\n",
        "\n",
        "    2.1. Story que es lo que uscp\n",
        "\n",
        "    2.2. Audience destinado a quien\n",
        "\n",
        "    2.3. Justifity the DV type (masagge, porque, como lo quiero representar)\n",
        "\n",
        "3. Examples\n",
        "\n",
        "    3.1. Examples A.\n",
        "        * 2.1, 2.2, 2.3 \n",
        "\n",
        "    3.2. Examples B.\n",
        "\n",
        "        * 2.1, 2.2, 2.3\n",
        "\n",
        "\n"
      ],
      "metadata": {
        "id": "G3TrPKKGTNNd"
      }
    }
  ]
}